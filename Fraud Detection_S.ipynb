{
 "cells": [
  {
   "cell_type": "markdown",
   "metadata": {
    "id": "jx3Ut_rjMuHR"
   },
   "source": [
    "___\n",
    "\n",
    "<p style=\"text-align: center;\"><img src=\"https://docs.google.com/uc?id=1lY0Uj5R04yMY3-ZppPWxqCr5pvBLYPnV\" class=\"img-fluid\" alt=\"CLRSWY\"></p>\n",
    "\n",
    "___"
   ]
  },
  {
   "cell_type": "markdown",
   "metadata": {
    "id": "-24P_wByMuHX"
   },
   "source": [
    "# WELCOME!"
   ]
  },
  {
   "cell_type": "markdown",
   "metadata": {
    "id": "Ow9AD-4vMuHX"
   },
   "source": [
    "Welcome to \"***Fraud Detection Project***\". This is the last project of the Capstone Series.\n",
    "\n",
    "One of the challenges in this project is the absence of domain knowledge. So without knowing what the column names are, you will only be interested in their values. The other one is the class frequencies of the target variable are quite imbalanced.\n",
    "\n",
    "You will implement ***Logistic Regression, Random Forest, Neural Network*** algorithms and ***SMOTE*** technique. Also visualize performances of the models using ***Seaborn, Matplotlib*** and ***Yellowbrick*** in a variety of ways.\n",
    "\n",
    "At the end of the project, you will have the opportunity to deploy your model by ***Flask API***.\n",
    "\n",
    "Before diving into the project, please take a look at the Determines and Tasks.\n",
    "\n",
    "- ***NOTE:*** *This tutorial assumes that you already know the basics of coding in Python and are familiar with model deployement (flask api) as well as the theory behind Logistic Regression, Random Forest, Neural Network.*\n",
    "\n"
   ]
  },
  {
   "cell_type": "markdown",
   "metadata": {
    "id": "dqbMkIZ-MuHY"
   },
   "source": [
    "---\n",
    "---\n"
   ]
  },
  {
   "cell_type": "markdown",
   "metadata": {
    "id": "spCFDhO7MuHY"
   },
   "source": [
    "# #Determines\n",
    "The datasets contains transactions made by credit cards in September 2013 by european cardholders. This dataset presents transactions that occurred in two days, where it has **492 frauds** out of **284,807** transactions. The dataset is **highly unbalanced**, the positive class (frauds) account for 0.172% of all transactions.\n",
    "\n",
    "**Feature Information:**\n",
    "\n",
    "**Time**: This feature is contains the seconds elapsed between each transaction and the first transaction in the dataset. \n",
    "\n",
    "**Amount**:  This feature is the transaction Amount, can be used for example-dependant cost-senstive learning. \n",
    "\n",
    "**Class**: This feature is the target variable and it takes value 1 in case of fraud and 0 otherwise.\n",
    "\n",
    "---\n",
    "\n",
    "The aim of this project is to predict whether a credit card transaction is fraudulent. Of course, this is not easy to do.\n",
    "First of all, you need to analyze and recognize your data well in order to draw your roadmap and choose the correct arguments you will use. Accordingly, you can examine the frequency distributions of variables. You can observe variable correlations and want to explore multicollinearity. You can show the distribution of the target variable's classes over other variables. \n",
    "Also, it is useful to take missing values and outliers.\n",
    "\n",
    "After these procedures, you can move on to the model building stage by doing the basic data pre-processing you are familiar with. \n",
    "\n",
    "Start with Logistic Regression and evaluate model performance. You will apply the SMOTE technique used to increase the sample for unbalanced data. Next, rebuild your Logistic Regression model with SMOTE applied data to observe its effect.\n",
    "\n",
    "Then, you will use three different algorithms in the model building phase. You have applied Logistic Regression and Random Forest in your previous projects. However, the Deep Learning Neural Network algorithm will appear for the first time.\n",
    "\n",
    "In the final step, you will deploy your model using ***Flask API***. \n",
    "\n",
    "**Optional**: You can Dockerize your project and deploy on cloud."
   ]
  },
  {
   "cell_type": "markdown",
   "metadata": {
    "id": "YOl6z9mXMuHY"
   },
   "source": [
    "---\n",
    "---\n"
   ]
  },
  {
   "cell_type": "markdown",
   "metadata": {
    "id": "1o6X3hLLMuHZ"
   },
   "source": [
    "# #Tasks\n",
    "\n",
    "#### 1. Exploratory Data Analysis & Data Cleaning\n",
    "\n",
    "- Import Modules, Load Data & Data Review\n",
    "- Exploratory Data Analysis\n",
    "- Data Cleaning\n",
    "\n",
    "\n",
    "\n",
    "    \n",
    "#### 2. Data Preprocessing\n",
    "\n",
    "- Scaling\n",
    "- Train - Test Split\n",
    "\n",
    "\n",
    "#### 3. Model Building\n",
    "\n",
    "- Logistic Regression without SMOTE\n",
    "- Apply SMOTE\n",
    "- Logistic Regression with SMOTE\n",
    "- Random Forest Classifier with SMOTE\n",
    "- Neural Network\n",
    "\n",
    "#### 4. Model Deployement\n",
    "\n",
    "- Save and Export the Model as .pkl\n",
    "- Save and Export Variables as .pkl \n",
    "\n",
    "\n"
   ]
  },
  {
   "cell_type": "markdown",
   "metadata": {
    "id": "9sDSWJywMuHZ"
   },
   "source": [
    "---\n",
    "---\n"
   ]
  },
  {
   "cell_type": "markdown",
   "metadata": {
    "id": "fbFMU3AdMuHZ"
   },
   "source": [
    "## 1. Exploratory Data Analysis & Data Cleaning"
   ]
  },
  {
   "cell_type": "markdown",
   "metadata": {
    "id": "5nmI08_GMuHZ"
   },
   "source": [
    "### Import Modules, Load Data & Data Review"
   ]
  },
  {
   "cell_type": "code",
   "execution_count": 2,
   "metadata": {
    "id": "yKZtJybfMuHa"
   },
   "outputs": [],
   "source": [
    "import numpy as np\n",
    "import pandas as pd\n",
    "import matplotlib.pyplot as plt\n",
    "import seaborn as sns\n",
    "from scipy import stats\n",
    "pd.set_option('display.max_columns',100)\n",
    "\n",
    "import plotly\n",
    "import cufflinks as cf\n",
    "from plotly.offline import download_plotlyjs, init_notebook_mode, plot, iplot\n",
    "\n",
    "\n",
    "pd.set_option(\"display.max_columns\", None)\n",
    "import warnings\n",
    "warnings.filterwarnings('ignore')"
   ]
  },
  {
   "cell_type": "code",
   "execution_count": 3,
   "metadata": {},
   "outputs": [],
   "source": [
    "data = pd.read_csv(\"creditcard.csv\")"
   ]
  },
  {
   "cell_type": "code",
   "execution_count": 4,
   "metadata": {},
   "outputs": [
    {
     "data": {
      "text/html": [
       "<div>\n",
       "<style scoped>\n",
       "    .dataframe tbody tr th:only-of-type {\n",
       "        vertical-align: middle;\n",
       "    }\n",
       "\n",
       "    .dataframe tbody tr th {\n",
       "        vertical-align: top;\n",
       "    }\n",
       "\n",
       "    .dataframe thead th {\n",
       "        text-align: right;\n",
       "    }\n",
       "</style>\n",
       "<table border=\"1\" class=\"dataframe\">\n",
       "  <thead>\n",
       "    <tr style=\"text-align: right;\">\n",
       "      <th></th>\n",
       "      <th>Time</th>\n",
       "      <th>V1</th>\n",
       "      <th>V2</th>\n",
       "      <th>V3</th>\n",
       "      <th>V4</th>\n",
       "      <th>V5</th>\n",
       "      <th>V6</th>\n",
       "      <th>V7</th>\n",
       "      <th>V8</th>\n",
       "      <th>V9</th>\n",
       "      <th>V10</th>\n",
       "      <th>V11</th>\n",
       "      <th>V12</th>\n",
       "      <th>V13</th>\n",
       "      <th>V14</th>\n",
       "      <th>V15</th>\n",
       "      <th>V16</th>\n",
       "      <th>V17</th>\n",
       "      <th>V18</th>\n",
       "      <th>V19</th>\n",
       "      <th>V20</th>\n",
       "      <th>V21</th>\n",
       "      <th>V22</th>\n",
       "      <th>V23</th>\n",
       "      <th>V24</th>\n",
       "      <th>V25</th>\n",
       "      <th>V26</th>\n",
       "      <th>V27</th>\n",
       "      <th>V28</th>\n",
       "      <th>Amount</th>\n",
       "      <th>Class</th>\n",
       "    </tr>\n",
       "  </thead>\n",
       "  <tbody>\n",
       "    <tr>\n",
       "      <th>0</th>\n",
       "      <td>0.0</td>\n",
       "      <td>-1.359807</td>\n",
       "      <td>-0.072781</td>\n",
       "      <td>2.536347</td>\n",
       "      <td>1.378155</td>\n",
       "      <td>-0.338321</td>\n",
       "      <td>0.462388</td>\n",
       "      <td>0.239599</td>\n",
       "      <td>0.098698</td>\n",
       "      <td>0.363787</td>\n",
       "      <td>0.090794</td>\n",
       "      <td>-0.551600</td>\n",
       "      <td>-0.617801</td>\n",
       "      <td>-0.991390</td>\n",
       "      <td>-0.311169</td>\n",
       "      <td>1.468177</td>\n",
       "      <td>-0.470401</td>\n",
       "      <td>0.207971</td>\n",
       "      <td>0.025791</td>\n",
       "      <td>0.403993</td>\n",
       "      <td>0.251412</td>\n",
       "      <td>-0.018307</td>\n",
       "      <td>0.277838</td>\n",
       "      <td>-0.110474</td>\n",
       "      <td>0.066928</td>\n",
       "      <td>0.128539</td>\n",
       "      <td>-0.189115</td>\n",
       "      <td>0.133558</td>\n",
       "      <td>-0.021053</td>\n",
       "      <td>149.62</td>\n",
       "      <td>0</td>\n",
       "    </tr>\n",
       "    <tr>\n",
       "      <th>1</th>\n",
       "      <td>0.0</td>\n",
       "      <td>1.191857</td>\n",
       "      <td>0.266151</td>\n",
       "      <td>0.166480</td>\n",
       "      <td>0.448154</td>\n",
       "      <td>0.060018</td>\n",
       "      <td>-0.082361</td>\n",
       "      <td>-0.078803</td>\n",
       "      <td>0.085102</td>\n",
       "      <td>-0.255425</td>\n",
       "      <td>-0.166974</td>\n",
       "      <td>1.612727</td>\n",
       "      <td>1.065235</td>\n",
       "      <td>0.489095</td>\n",
       "      <td>-0.143772</td>\n",
       "      <td>0.635558</td>\n",
       "      <td>0.463917</td>\n",
       "      <td>-0.114805</td>\n",
       "      <td>-0.183361</td>\n",
       "      <td>-0.145783</td>\n",
       "      <td>-0.069083</td>\n",
       "      <td>-0.225775</td>\n",
       "      <td>-0.638672</td>\n",
       "      <td>0.101288</td>\n",
       "      <td>-0.339846</td>\n",
       "      <td>0.167170</td>\n",
       "      <td>0.125895</td>\n",
       "      <td>-0.008983</td>\n",
       "      <td>0.014724</td>\n",
       "      <td>2.69</td>\n",
       "      <td>0</td>\n",
       "    </tr>\n",
       "    <tr>\n",
       "      <th>2</th>\n",
       "      <td>1.0</td>\n",
       "      <td>-1.358354</td>\n",
       "      <td>-1.340163</td>\n",
       "      <td>1.773209</td>\n",
       "      <td>0.379780</td>\n",
       "      <td>-0.503198</td>\n",
       "      <td>1.800499</td>\n",
       "      <td>0.791461</td>\n",
       "      <td>0.247676</td>\n",
       "      <td>-1.514654</td>\n",
       "      <td>0.207643</td>\n",
       "      <td>0.624501</td>\n",
       "      <td>0.066084</td>\n",
       "      <td>0.717293</td>\n",
       "      <td>-0.165946</td>\n",
       "      <td>2.345865</td>\n",
       "      <td>-2.890083</td>\n",
       "      <td>1.109969</td>\n",
       "      <td>-0.121359</td>\n",
       "      <td>-2.261857</td>\n",
       "      <td>0.524980</td>\n",
       "      <td>0.247998</td>\n",
       "      <td>0.771679</td>\n",
       "      <td>0.909412</td>\n",
       "      <td>-0.689281</td>\n",
       "      <td>-0.327642</td>\n",
       "      <td>-0.139097</td>\n",
       "      <td>-0.055353</td>\n",
       "      <td>-0.059752</td>\n",
       "      <td>378.66</td>\n",
       "      <td>0</td>\n",
       "    </tr>\n",
       "    <tr>\n",
       "      <th>3</th>\n",
       "      <td>1.0</td>\n",
       "      <td>-0.966272</td>\n",
       "      <td>-0.185226</td>\n",
       "      <td>1.792993</td>\n",
       "      <td>-0.863291</td>\n",
       "      <td>-0.010309</td>\n",
       "      <td>1.247203</td>\n",
       "      <td>0.237609</td>\n",
       "      <td>0.377436</td>\n",
       "      <td>-1.387024</td>\n",
       "      <td>-0.054952</td>\n",
       "      <td>-0.226487</td>\n",
       "      <td>0.178228</td>\n",
       "      <td>0.507757</td>\n",
       "      <td>-0.287924</td>\n",
       "      <td>-0.631418</td>\n",
       "      <td>-1.059647</td>\n",
       "      <td>-0.684093</td>\n",
       "      <td>1.965775</td>\n",
       "      <td>-1.232622</td>\n",
       "      <td>-0.208038</td>\n",
       "      <td>-0.108300</td>\n",
       "      <td>0.005274</td>\n",
       "      <td>-0.190321</td>\n",
       "      <td>-1.175575</td>\n",
       "      <td>0.647376</td>\n",
       "      <td>-0.221929</td>\n",
       "      <td>0.062723</td>\n",
       "      <td>0.061458</td>\n",
       "      <td>123.50</td>\n",
       "      <td>0</td>\n",
       "    </tr>\n",
       "    <tr>\n",
       "      <th>4</th>\n",
       "      <td>2.0</td>\n",
       "      <td>-1.158233</td>\n",
       "      <td>0.877737</td>\n",
       "      <td>1.548718</td>\n",
       "      <td>0.403034</td>\n",
       "      <td>-0.407193</td>\n",
       "      <td>0.095921</td>\n",
       "      <td>0.592941</td>\n",
       "      <td>-0.270533</td>\n",
       "      <td>0.817739</td>\n",
       "      <td>0.753074</td>\n",
       "      <td>-0.822843</td>\n",
       "      <td>0.538196</td>\n",
       "      <td>1.345852</td>\n",
       "      <td>-1.119670</td>\n",
       "      <td>0.175121</td>\n",
       "      <td>-0.451449</td>\n",
       "      <td>-0.237033</td>\n",
       "      <td>-0.038195</td>\n",
       "      <td>0.803487</td>\n",
       "      <td>0.408542</td>\n",
       "      <td>-0.009431</td>\n",
       "      <td>0.798278</td>\n",
       "      <td>-0.137458</td>\n",
       "      <td>0.141267</td>\n",
       "      <td>-0.206010</td>\n",
       "      <td>0.502292</td>\n",
       "      <td>0.219422</td>\n",
       "      <td>0.215153</td>\n",
       "      <td>69.99</td>\n",
       "      <td>0</td>\n",
       "    </tr>\n",
       "  </tbody>\n",
       "</table>\n",
       "</div>"
      ],
      "text/plain": [
       "   Time        V1        V2        V3        V4        V5        V6        V7  \\\n",
       "0   0.0 -1.359807 -0.072781  2.536347  1.378155 -0.338321  0.462388  0.239599   \n",
       "1   0.0  1.191857  0.266151  0.166480  0.448154  0.060018 -0.082361 -0.078803   \n",
       "2   1.0 -1.358354 -1.340163  1.773209  0.379780 -0.503198  1.800499  0.791461   \n",
       "3   1.0 -0.966272 -0.185226  1.792993 -0.863291 -0.010309  1.247203  0.237609   \n",
       "4   2.0 -1.158233  0.877737  1.548718  0.403034 -0.407193  0.095921  0.592941   \n",
       "\n",
       "         V8        V9       V10       V11       V12       V13       V14  \\\n",
       "0  0.098698  0.363787  0.090794 -0.551600 -0.617801 -0.991390 -0.311169   \n",
       "1  0.085102 -0.255425 -0.166974  1.612727  1.065235  0.489095 -0.143772   \n",
       "2  0.247676 -1.514654  0.207643  0.624501  0.066084  0.717293 -0.165946   \n",
       "3  0.377436 -1.387024 -0.054952 -0.226487  0.178228  0.507757 -0.287924   \n",
       "4 -0.270533  0.817739  0.753074 -0.822843  0.538196  1.345852 -1.119670   \n",
       "\n",
       "        V15       V16       V17       V18       V19       V20       V21  \\\n",
       "0  1.468177 -0.470401  0.207971  0.025791  0.403993  0.251412 -0.018307   \n",
       "1  0.635558  0.463917 -0.114805 -0.183361 -0.145783 -0.069083 -0.225775   \n",
       "2  2.345865 -2.890083  1.109969 -0.121359 -2.261857  0.524980  0.247998   \n",
       "3 -0.631418 -1.059647 -0.684093  1.965775 -1.232622 -0.208038 -0.108300   \n",
       "4  0.175121 -0.451449 -0.237033 -0.038195  0.803487  0.408542 -0.009431   \n",
       "\n",
       "        V22       V23       V24       V25       V26       V27       V28  \\\n",
       "0  0.277838 -0.110474  0.066928  0.128539 -0.189115  0.133558 -0.021053   \n",
       "1 -0.638672  0.101288 -0.339846  0.167170  0.125895 -0.008983  0.014724   \n",
       "2  0.771679  0.909412 -0.689281 -0.327642 -0.139097 -0.055353 -0.059752   \n",
       "3  0.005274 -0.190321 -1.175575  0.647376 -0.221929  0.062723  0.061458   \n",
       "4  0.798278 -0.137458  0.141267 -0.206010  0.502292  0.219422  0.215153   \n",
       "\n",
       "   Amount  Class  \n",
       "0  149.62      0  \n",
       "1    2.69      0  \n",
       "2  378.66      0  \n",
       "3  123.50      0  \n",
       "4   69.99      0  "
      ]
     },
     "execution_count": 4,
     "metadata": {},
     "output_type": "execute_result"
    }
   ],
   "source": [
    "data.head()"
   ]
  },
  {
   "cell_type": "code",
   "execution_count": 5,
   "metadata": {},
   "outputs": [],
   "source": [
    "df = data.copy()"
   ]
  },
  {
   "cell_type": "markdown",
   "metadata": {
    "id": "K22reBkbMuHa"
   },
   "source": [
    "### Exploratory Data Analysis"
   ]
  },
  {
   "cell_type": "markdown",
   "metadata": {
    "id": "2_yeQU4WJQ0D"
   },
   "source": []
  },
  {
   "cell_type": "code",
   "execution_count": 6,
   "metadata": {},
   "outputs": [],
   "source": [
    "df.columns= df.columns.str.lower()"
   ]
  },
  {
   "cell_type": "code",
   "execution_count": 7,
   "metadata": {},
   "outputs": [
    {
     "data": {
      "text/plain": [
       "(284807, 31)"
      ]
     },
     "execution_count": 7,
     "metadata": {},
     "output_type": "execute_result"
    }
   ],
   "source": [
    "df.shape"
   ]
  },
  {
   "cell_type": "code",
   "execution_count": 8,
   "metadata": {
    "scrolled": false
   },
   "outputs": [
    {
     "name": "stdout",
     "output_type": "stream",
     "text": [
      "<class 'pandas.core.frame.DataFrame'>\n",
      "RangeIndex: 284807 entries, 0 to 284806\n",
      "Data columns (total 31 columns):\n",
      " #   Column  Non-Null Count   Dtype  \n",
      "---  ------  --------------   -----  \n",
      " 0   time    284807 non-null  float64\n",
      " 1   v1      284807 non-null  float64\n",
      " 2   v2      284807 non-null  float64\n",
      " 3   v3      284807 non-null  float64\n",
      " 4   v4      284807 non-null  float64\n",
      " 5   v5      284807 non-null  float64\n",
      " 6   v6      284807 non-null  float64\n",
      " 7   v7      284807 non-null  float64\n",
      " 8   v8      284807 non-null  float64\n",
      " 9   v9      284807 non-null  float64\n",
      " 10  v10     284807 non-null  float64\n",
      " 11  v11     284807 non-null  float64\n",
      " 12  v12     284807 non-null  float64\n",
      " 13  v13     284807 non-null  float64\n",
      " 14  v14     284807 non-null  float64\n",
      " 15  v15     284807 non-null  float64\n",
      " 16  v16     284807 non-null  float64\n",
      " 17  v17     284807 non-null  float64\n",
      " 18  v18     284807 non-null  float64\n",
      " 19  v19     284807 non-null  float64\n",
      " 20  v20     284807 non-null  float64\n",
      " 21  v21     284807 non-null  float64\n",
      " 22  v22     284807 non-null  float64\n",
      " 23  v23     284807 non-null  float64\n",
      " 24  v24     284807 non-null  float64\n",
      " 25  v25     284807 non-null  float64\n",
      " 26  v26     284807 non-null  float64\n",
      " 27  v27     284807 non-null  float64\n",
      " 28  v28     284807 non-null  float64\n",
      " 29  amount  284807 non-null  float64\n",
      " 30  class   284807 non-null  int64  \n",
      "dtypes: float64(30), int64(1)\n",
      "memory usage: 67.4 MB\n"
     ]
    }
   ],
   "source": [
    "df.info()"
   ]
  },
  {
   "cell_type": "code",
   "execution_count": 9,
   "metadata": {},
   "outputs": [
    {
     "data": {
      "text/html": [
       "<div>\n",
       "<style scoped>\n",
       "    .dataframe tbody tr th:only-of-type {\n",
       "        vertical-align: middle;\n",
       "    }\n",
       "\n",
       "    .dataframe tbody tr th {\n",
       "        vertical-align: top;\n",
       "    }\n",
       "\n",
       "    .dataframe thead th {\n",
       "        text-align: right;\n",
       "    }\n",
       "</style>\n",
       "<table border=\"1\" class=\"dataframe\">\n",
       "  <thead>\n",
       "    <tr style=\"text-align: right;\">\n",
       "      <th></th>\n",
       "      <th>count</th>\n",
       "      <th>mean</th>\n",
       "      <th>std</th>\n",
       "      <th>min</th>\n",
       "      <th>25%</th>\n",
       "      <th>50%</th>\n",
       "      <th>75%</th>\n",
       "      <th>max</th>\n",
       "    </tr>\n",
       "  </thead>\n",
       "  <tbody>\n",
       "    <tr>\n",
       "      <th>time</th>\n",
       "      <td>284807.0</td>\n",
       "      <td>9.481386e+04</td>\n",
       "      <td>47488.145955</td>\n",
       "      <td>0.000000</td>\n",
       "      <td>54201.500000</td>\n",
       "      <td>84692.000000</td>\n",
       "      <td>139320.500000</td>\n",
       "      <td>172792.000000</td>\n",
       "    </tr>\n",
       "    <tr>\n",
       "      <th>v1</th>\n",
       "      <td>284807.0</td>\n",
       "      <td>3.918649e-15</td>\n",
       "      <td>1.958696</td>\n",
       "      <td>-56.407510</td>\n",
       "      <td>-0.920373</td>\n",
       "      <td>0.018109</td>\n",
       "      <td>1.315642</td>\n",
       "      <td>2.454930</td>\n",
       "    </tr>\n",
       "    <tr>\n",
       "      <th>v2</th>\n",
       "      <td>284807.0</td>\n",
       "      <td>5.682686e-16</td>\n",
       "      <td>1.651309</td>\n",
       "      <td>-72.715728</td>\n",
       "      <td>-0.598550</td>\n",
       "      <td>0.065486</td>\n",
       "      <td>0.803724</td>\n",
       "      <td>22.057729</td>\n",
       "    </tr>\n",
       "    <tr>\n",
       "      <th>v3</th>\n",
       "      <td>284807.0</td>\n",
       "      <td>-8.761736e-15</td>\n",
       "      <td>1.516255</td>\n",
       "      <td>-48.325589</td>\n",
       "      <td>-0.890365</td>\n",
       "      <td>0.179846</td>\n",
       "      <td>1.027196</td>\n",
       "      <td>9.382558</td>\n",
       "    </tr>\n",
       "    <tr>\n",
       "      <th>v4</th>\n",
       "      <td>284807.0</td>\n",
       "      <td>2.811118e-15</td>\n",
       "      <td>1.415869</td>\n",
       "      <td>-5.683171</td>\n",
       "      <td>-0.848640</td>\n",
       "      <td>-0.019847</td>\n",
       "      <td>0.743341</td>\n",
       "      <td>16.875344</td>\n",
       "    </tr>\n",
       "    <tr>\n",
       "      <th>v5</th>\n",
       "      <td>284807.0</td>\n",
       "      <td>-1.552103e-15</td>\n",
       "      <td>1.380247</td>\n",
       "      <td>-113.743307</td>\n",
       "      <td>-0.691597</td>\n",
       "      <td>-0.054336</td>\n",
       "      <td>0.611926</td>\n",
       "      <td>34.801666</td>\n",
       "    </tr>\n",
       "    <tr>\n",
       "      <th>v6</th>\n",
       "      <td>284807.0</td>\n",
       "      <td>2.040130e-15</td>\n",
       "      <td>1.332271</td>\n",
       "      <td>-26.160506</td>\n",
       "      <td>-0.768296</td>\n",
       "      <td>-0.274187</td>\n",
       "      <td>0.398565</td>\n",
       "      <td>73.301626</td>\n",
       "    </tr>\n",
       "    <tr>\n",
       "      <th>v7</th>\n",
       "      <td>284807.0</td>\n",
       "      <td>-1.698953e-15</td>\n",
       "      <td>1.237094</td>\n",
       "      <td>-43.557242</td>\n",
       "      <td>-0.554076</td>\n",
       "      <td>0.040103</td>\n",
       "      <td>0.570436</td>\n",
       "      <td>120.589494</td>\n",
       "    </tr>\n",
       "    <tr>\n",
       "      <th>v8</th>\n",
       "      <td>284807.0</td>\n",
       "      <td>-1.893285e-16</td>\n",
       "      <td>1.194353</td>\n",
       "      <td>-73.216718</td>\n",
       "      <td>-0.208630</td>\n",
       "      <td>0.022358</td>\n",
       "      <td>0.327346</td>\n",
       "      <td>20.007208</td>\n",
       "    </tr>\n",
       "    <tr>\n",
       "      <th>v9</th>\n",
       "      <td>284807.0</td>\n",
       "      <td>-3.147640e-15</td>\n",
       "      <td>1.098632</td>\n",
       "      <td>-13.434066</td>\n",
       "      <td>-0.643098</td>\n",
       "      <td>-0.051429</td>\n",
       "      <td>0.597139</td>\n",
       "      <td>15.594995</td>\n",
       "    </tr>\n",
       "    <tr>\n",
       "      <th>v10</th>\n",
       "      <td>284807.0</td>\n",
       "      <td>1.772925e-15</td>\n",
       "      <td>1.088850</td>\n",
       "      <td>-24.588262</td>\n",
       "      <td>-0.535426</td>\n",
       "      <td>-0.092917</td>\n",
       "      <td>0.453923</td>\n",
       "      <td>23.745136</td>\n",
       "    </tr>\n",
       "    <tr>\n",
       "      <th>v11</th>\n",
       "      <td>284807.0</td>\n",
       "      <td>9.289524e-16</td>\n",
       "      <td>1.020713</td>\n",
       "      <td>-4.797473</td>\n",
       "      <td>-0.762494</td>\n",
       "      <td>-0.032757</td>\n",
       "      <td>0.739593</td>\n",
       "      <td>12.018913</td>\n",
       "    </tr>\n",
       "    <tr>\n",
       "      <th>v12</th>\n",
       "      <td>284807.0</td>\n",
       "      <td>-1.803266e-15</td>\n",
       "      <td>0.999201</td>\n",
       "      <td>-18.683715</td>\n",
       "      <td>-0.405571</td>\n",
       "      <td>0.140033</td>\n",
       "      <td>0.618238</td>\n",
       "      <td>7.848392</td>\n",
       "    </tr>\n",
       "    <tr>\n",
       "      <th>v13</th>\n",
       "      <td>284807.0</td>\n",
       "      <td>1.674888e-15</td>\n",
       "      <td>0.995274</td>\n",
       "      <td>-5.791881</td>\n",
       "      <td>-0.648539</td>\n",
       "      <td>-0.013568</td>\n",
       "      <td>0.662505</td>\n",
       "      <td>7.126883</td>\n",
       "    </tr>\n",
       "    <tr>\n",
       "      <th>v14</th>\n",
       "      <td>284807.0</td>\n",
       "      <td>1.475621e-15</td>\n",
       "      <td>0.958596</td>\n",
       "      <td>-19.214325</td>\n",
       "      <td>-0.425574</td>\n",
       "      <td>0.050601</td>\n",
       "      <td>0.493150</td>\n",
       "      <td>10.526766</td>\n",
       "    </tr>\n",
       "    <tr>\n",
       "      <th>v15</th>\n",
       "      <td>284807.0</td>\n",
       "      <td>3.501098e-15</td>\n",
       "      <td>0.915316</td>\n",
       "      <td>-4.498945</td>\n",
       "      <td>-0.582884</td>\n",
       "      <td>0.048072</td>\n",
       "      <td>0.648821</td>\n",
       "      <td>8.877742</td>\n",
       "    </tr>\n",
       "    <tr>\n",
       "      <th>v16</th>\n",
       "      <td>284807.0</td>\n",
       "      <td>1.392460e-15</td>\n",
       "      <td>0.876253</td>\n",
       "      <td>-14.129855</td>\n",
       "      <td>-0.468037</td>\n",
       "      <td>0.066413</td>\n",
       "      <td>0.523296</td>\n",
       "      <td>17.315112</td>\n",
       "    </tr>\n",
       "    <tr>\n",
       "      <th>v17</th>\n",
       "      <td>284807.0</td>\n",
       "      <td>-7.466538e-16</td>\n",
       "      <td>0.849337</td>\n",
       "      <td>-25.162799</td>\n",
       "      <td>-0.483748</td>\n",
       "      <td>-0.065676</td>\n",
       "      <td>0.399675</td>\n",
       "      <td>9.253526</td>\n",
       "    </tr>\n",
       "    <tr>\n",
       "      <th>v18</th>\n",
       "      <td>284807.0</td>\n",
       "      <td>4.258754e-16</td>\n",
       "      <td>0.838176</td>\n",
       "      <td>-9.498746</td>\n",
       "      <td>-0.498850</td>\n",
       "      <td>-0.003636</td>\n",
       "      <td>0.500807</td>\n",
       "      <td>5.041069</td>\n",
       "    </tr>\n",
       "    <tr>\n",
       "      <th>v19</th>\n",
       "      <td>284807.0</td>\n",
       "      <td>9.019919e-16</td>\n",
       "      <td>0.814041</td>\n",
       "      <td>-7.213527</td>\n",
       "      <td>-0.456299</td>\n",
       "      <td>0.003735</td>\n",
       "      <td>0.458949</td>\n",
       "      <td>5.591971</td>\n",
       "    </tr>\n",
       "    <tr>\n",
       "      <th>v20</th>\n",
       "      <td>284807.0</td>\n",
       "      <td>5.126845e-16</td>\n",
       "      <td>0.770925</td>\n",
       "      <td>-54.497720</td>\n",
       "      <td>-0.211721</td>\n",
       "      <td>-0.062481</td>\n",
       "      <td>0.133041</td>\n",
       "      <td>39.420904</td>\n",
       "    </tr>\n",
       "    <tr>\n",
       "      <th>v21</th>\n",
       "      <td>284807.0</td>\n",
       "      <td>1.473120e-16</td>\n",
       "      <td>0.734524</td>\n",
       "      <td>-34.830382</td>\n",
       "      <td>-0.228395</td>\n",
       "      <td>-0.029450</td>\n",
       "      <td>0.186377</td>\n",
       "      <td>27.202839</td>\n",
       "    </tr>\n",
       "    <tr>\n",
       "      <th>v22</th>\n",
       "      <td>284807.0</td>\n",
       "      <td>8.042109e-16</td>\n",
       "      <td>0.725702</td>\n",
       "      <td>-10.933144</td>\n",
       "      <td>-0.542350</td>\n",
       "      <td>0.006782</td>\n",
       "      <td>0.528554</td>\n",
       "      <td>10.503090</td>\n",
       "    </tr>\n",
       "    <tr>\n",
       "      <th>v23</th>\n",
       "      <td>284807.0</td>\n",
       "      <td>5.282512e-16</td>\n",
       "      <td>0.624460</td>\n",
       "      <td>-44.807735</td>\n",
       "      <td>-0.161846</td>\n",
       "      <td>-0.011193</td>\n",
       "      <td>0.147642</td>\n",
       "      <td>22.528412</td>\n",
       "    </tr>\n",
       "    <tr>\n",
       "      <th>v24</th>\n",
       "      <td>284807.0</td>\n",
       "      <td>4.456271e-15</td>\n",
       "      <td>0.605647</td>\n",
       "      <td>-2.836627</td>\n",
       "      <td>-0.354586</td>\n",
       "      <td>0.040976</td>\n",
       "      <td>0.439527</td>\n",
       "      <td>4.584549</td>\n",
       "    </tr>\n",
       "    <tr>\n",
       "      <th>v25</th>\n",
       "      <td>284807.0</td>\n",
       "      <td>1.426896e-15</td>\n",
       "      <td>0.521278</td>\n",
       "      <td>-10.295397</td>\n",
       "      <td>-0.317145</td>\n",
       "      <td>0.016594</td>\n",
       "      <td>0.350716</td>\n",
       "      <td>7.519589</td>\n",
       "    </tr>\n",
       "    <tr>\n",
       "      <th>v26</th>\n",
       "      <td>284807.0</td>\n",
       "      <td>1.701640e-15</td>\n",
       "      <td>0.482227</td>\n",
       "      <td>-2.604551</td>\n",
       "      <td>-0.326984</td>\n",
       "      <td>-0.052139</td>\n",
       "      <td>0.240952</td>\n",
       "      <td>3.517346</td>\n",
       "    </tr>\n",
       "    <tr>\n",
       "      <th>v27</th>\n",
       "      <td>284807.0</td>\n",
       "      <td>-3.662252e-16</td>\n",
       "      <td>0.403632</td>\n",
       "      <td>-22.565679</td>\n",
       "      <td>-0.070840</td>\n",
       "      <td>0.001342</td>\n",
       "      <td>0.091045</td>\n",
       "      <td>31.612198</td>\n",
       "    </tr>\n",
       "    <tr>\n",
       "      <th>v28</th>\n",
       "      <td>284807.0</td>\n",
       "      <td>-1.217809e-16</td>\n",
       "      <td>0.330083</td>\n",
       "      <td>-15.430084</td>\n",
       "      <td>-0.052960</td>\n",
       "      <td>0.011244</td>\n",
       "      <td>0.078280</td>\n",
       "      <td>33.847808</td>\n",
       "    </tr>\n",
       "    <tr>\n",
       "      <th>amount</th>\n",
       "      <td>284807.0</td>\n",
       "      <td>8.834962e+01</td>\n",
       "      <td>250.120109</td>\n",
       "      <td>0.000000</td>\n",
       "      <td>5.600000</td>\n",
       "      <td>22.000000</td>\n",
       "      <td>77.165000</td>\n",
       "      <td>25691.160000</td>\n",
       "    </tr>\n",
       "    <tr>\n",
       "      <th>class</th>\n",
       "      <td>284807.0</td>\n",
       "      <td>1.727486e-03</td>\n",
       "      <td>0.041527</td>\n",
       "      <td>0.000000</td>\n",
       "      <td>0.000000</td>\n",
       "      <td>0.000000</td>\n",
       "      <td>0.000000</td>\n",
       "      <td>1.000000</td>\n",
       "    </tr>\n",
       "  </tbody>\n",
       "</table>\n",
       "</div>"
      ],
      "text/plain": [
       "           count          mean           std         min           25%  \\\n",
       "time    284807.0  9.481386e+04  47488.145955    0.000000  54201.500000   \n",
       "v1      284807.0  3.918649e-15      1.958696  -56.407510     -0.920373   \n",
       "v2      284807.0  5.682686e-16      1.651309  -72.715728     -0.598550   \n",
       "v3      284807.0 -8.761736e-15      1.516255  -48.325589     -0.890365   \n",
       "v4      284807.0  2.811118e-15      1.415869   -5.683171     -0.848640   \n",
       "v5      284807.0 -1.552103e-15      1.380247 -113.743307     -0.691597   \n",
       "v6      284807.0  2.040130e-15      1.332271  -26.160506     -0.768296   \n",
       "v7      284807.0 -1.698953e-15      1.237094  -43.557242     -0.554076   \n",
       "v8      284807.0 -1.893285e-16      1.194353  -73.216718     -0.208630   \n",
       "v9      284807.0 -3.147640e-15      1.098632  -13.434066     -0.643098   \n",
       "v10     284807.0  1.772925e-15      1.088850  -24.588262     -0.535426   \n",
       "v11     284807.0  9.289524e-16      1.020713   -4.797473     -0.762494   \n",
       "v12     284807.0 -1.803266e-15      0.999201  -18.683715     -0.405571   \n",
       "v13     284807.0  1.674888e-15      0.995274   -5.791881     -0.648539   \n",
       "v14     284807.0  1.475621e-15      0.958596  -19.214325     -0.425574   \n",
       "v15     284807.0  3.501098e-15      0.915316   -4.498945     -0.582884   \n",
       "v16     284807.0  1.392460e-15      0.876253  -14.129855     -0.468037   \n",
       "v17     284807.0 -7.466538e-16      0.849337  -25.162799     -0.483748   \n",
       "v18     284807.0  4.258754e-16      0.838176   -9.498746     -0.498850   \n",
       "v19     284807.0  9.019919e-16      0.814041   -7.213527     -0.456299   \n",
       "v20     284807.0  5.126845e-16      0.770925  -54.497720     -0.211721   \n",
       "v21     284807.0  1.473120e-16      0.734524  -34.830382     -0.228395   \n",
       "v22     284807.0  8.042109e-16      0.725702  -10.933144     -0.542350   \n",
       "v23     284807.0  5.282512e-16      0.624460  -44.807735     -0.161846   \n",
       "v24     284807.0  4.456271e-15      0.605647   -2.836627     -0.354586   \n",
       "v25     284807.0  1.426896e-15      0.521278  -10.295397     -0.317145   \n",
       "v26     284807.0  1.701640e-15      0.482227   -2.604551     -0.326984   \n",
       "v27     284807.0 -3.662252e-16      0.403632  -22.565679     -0.070840   \n",
       "v28     284807.0 -1.217809e-16      0.330083  -15.430084     -0.052960   \n",
       "amount  284807.0  8.834962e+01    250.120109    0.000000      5.600000   \n",
       "class   284807.0  1.727486e-03      0.041527    0.000000      0.000000   \n",
       "\n",
       "                 50%            75%            max  \n",
       "time    84692.000000  139320.500000  172792.000000  \n",
       "v1          0.018109       1.315642       2.454930  \n",
       "v2          0.065486       0.803724      22.057729  \n",
       "v3          0.179846       1.027196       9.382558  \n",
       "v4         -0.019847       0.743341      16.875344  \n",
       "v5         -0.054336       0.611926      34.801666  \n",
       "v6         -0.274187       0.398565      73.301626  \n",
       "v7          0.040103       0.570436     120.589494  \n",
       "v8          0.022358       0.327346      20.007208  \n",
       "v9         -0.051429       0.597139      15.594995  \n",
       "v10        -0.092917       0.453923      23.745136  \n",
       "v11        -0.032757       0.739593      12.018913  \n",
       "v12         0.140033       0.618238       7.848392  \n",
       "v13        -0.013568       0.662505       7.126883  \n",
       "v14         0.050601       0.493150      10.526766  \n",
       "v15         0.048072       0.648821       8.877742  \n",
       "v16         0.066413       0.523296      17.315112  \n",
       "v17        -0.065676       0.399675       9.253526  \n",
       "v18        -0.003636       0.500807       5.041069  \n",
       "v19         0.003735       0.458949       5.591971  \n",
       "v20        -0.062481       0.133041      39.420904  \n",
       "v21        -0.029450       0.186377      27.202839  \n",
       "v22         0.006782       0.528554      10.503090  \n",
       "v23        -0.011193       0.147642      22.528412  \n",
       "v24         0.040976       0.439527       4.584549  \n",
       "v25         0.016594       0.350716       7.519589  \n",
       "v26        -0.052139       0.240952       3.517346  \n",
       "v27         0.001342       0.091045      31.612198  \n",
       "v28         0.011244       0.078280      33.847808  \n",
       "amount     22.000000      77.165000   25691.160000  \n",
       "class       0.000000       0.000000       1.000000  "
      ]
     },
     "execution_count": 9,
     "metadata": {},
     "output_type": "execute_result"
    }
   ],
   "source": [
    "df.describe().T"
   ]
  },
  {
   "cell_type": "code",
   "execution_count": 10,
   "metadata": {
    "scrolled": false
   },
   "outputs": [
    {
     "data": {
      "text/html": [
       "<div>\n",
       "<style scoped>\n",
       "    .dataframe tbody tr th:only-of-type {\n",
       "        vertical-align: middle;\n",
       "    }\n",
       "\n",
       "    .dataframe tbody tr th {\n",
       "        vertical-align: top;\n",
       "    }\n",
       "\n",
       "    .dataframe thead th {\n",
       "        text-align: right;\n",
       "    }\n",
       "</style>\n",
       "<table border=\"1\" class=\"dataframe\">\n",
       "  <thead>\n",
       "    <tr style=\"text-align: right;\">\n",
       "      <th></th>\n",
       "      <th>time</th>\n",
       "      <th>v1</th>\n",
       "      <th>v2</th>\n",
       "      <th>v3</th>\n",
       "      <th>v4</th>\n",
       "      <th>v5</th>\n",
       "      <th>v6</th>\n",
       "      <th>v7</th>\n",
       "      <th>v8</th>\n",
       "      <th>v9</th>\n",
       "      <th>v10</th>\n",
       "      <th>v11</th>\n",
       "      <th>v12</th>\n",
       "      <th>v13</th>\n",
       "      <th>v14</th>\n",
       "      <th>v15</th>\n",
       "      <th>v16</th>\n",
       "      <th>v17</th>\n",
       "      <th>v18</th>\n",
       "      <th>v19</th>\n",
       "      <th>v20</th>\n",
       "      <th>v21</th>\n",
       "      <th>v22</th>\n",
       "      <th>v23</th>\n",
       "      <th>v24</th>\n",
       "      <th>v25</th>\n",
       "      <th>v26</th>\n",
       "      <th>v27</th>\n",
       "      <th>v28</th>\n",
       "      <th>amount</th>\n",
       "      <th>class</th>\n",
       "    </tr>\n",
       "  </thead>\n",
       "  <tbody>\n",
       "    <tr>\n",
       "      <th>time</th>\n",
       "      <td>1.000000</td>\n",
       "      <td>1.173963e-01</td>\n",
       "      <td>-1.059333e-02</td>\n",
       "      <td>-4.196182e-01</td>\n",
       "      <td>-1.052602e-01</td>\n",
       "      <td>1.730721e-01</td>\n",
       "      <td>-6.301647e-02</td>\n",
       "      <td>8.471437e-02</td>\n",
       "      <td>-3.694943e-02</td>\n",
       "      <td>-8.660434e-03</td>\n",
       "      <td>3.061663e-02</td>\n",
       "      <td>-2.476894e-01</td>\n",
       "      <td>1.243481e-01</td>\n",
       "      <td>-6.590202e-02</td>\n",
       "      <td>-9.875682e-02</td>\n",
       "      <td>-1.834533e-01</td>\n",
       "      <td>1.190287e-02</td>\n",
       "      <td>-7.329721e-02</td>\n",
       "      <td>9.043813e-02</td>\n",
       "      <td>2.897530e-02</td>\n",
       "      <td>-5.086602e-02</td>\n",
       "      <td>4.473573e-02</td>\n",
       "      <td>1.440591e-01</td>\n",
       "      <td>5.114236e-02</td>\n",
       "      <td>-1.618187e-02</td>\n",
       "      <td>-2.330828e-01</td>\n",
       "      <td>-4.140710e-02</td>\n",
       "      <td>-5.134591e-03</td>\n",
       "      <td>-9.412688e-03</td>\n",
       "      <td>-0.010596</td>\n",
       "      <td>-0.012323</td>\n",
       "    </tr>\n",
       "    <tr>\n",
       "      <th>v1</th>\n",
       "      <td>0.117396</td>\n",
       "      <td>1.000000e+00</td>\n",
       "      <td>4.135835e-16</td>\n",
       "      <td>-1.227819e-15</td>\n",
       "      <td>-9.215150e-16</td>\n",
       "      <td>1.812612e-17</td>\n",
       "      <td>-6.506567e-16</td>\n",
       "      <td>-1.005191e-15</td>\n",
       "      <td>-2.433822e-16</td>\n",
       "      <td>-1.513678e-16</td>\n",
       "      <td>7.388135e-17</td>\n",
       "      <td>2.125498e-16</td>\n",
       "      <td>2.053457e-16</td>\n",
       "      <td>-2.425603e-17</td>\n",
       "      <td>-5.020280e-16</td>\n",
       "      <td>3.547782e-16</td>\n",
       "      <td>7.212815e-17</td>\n",
       "      <td>-3.879840e-16</td>\n",
       "      <td>3.230206e-17</td>\n",
       "      <td>1.502024e-16</td>\n",
       "      <td>4.654551e-16</td>\n",
       "      <td>-2.457409e-16</td>\n",
       "      <td>-4.290944e-16</td>\n",
       "      <td>6.168652e-16</td>\n",
       "      <td>-4.425156e-17</td>\n",
       "      <td>-9.605737e-16</td>\n",
       "      <td>-1.581290e-17</td>\n",
       "      <td>1.198124e-16</td>\n",
       "      <td>2.083082e-15</td>\n",
       "      <td>-0.227709</td>\n",
       "      <td>-0.101347</td>\n",
       "    </tr>\n",
       "    <tr>\n",
       "      <th>v2</th>\n",
       "      <td>-0.010593</td>\n",
       "      <td>4.135835e-16</td>\n",
       "      <td>1.000000e+00</td>\n",
       "      <td>3.243764e-16</td>\n",
       "      <td>-1.121065e-15</td>\n",
       "      <td>5.157519e-16</td>\n",
       "      <td>2.787346e-16</td>\n",
       "      <td>2.055934e-16</td>\n",
       "      <td>-5.377041e-17</td>\n",
       "      <td>1.978488e-17</td>\n",
       "      <td>-3.991394e-16</td>\n",
       "      <td>1.975426e-16</td>\n",
       "      <td>-9.568710e-17</td>\n",
       "      <td>6.295388e-16</td>\n",
       "      <td>-1.730566e-16</td>\n",
       "      <td>-4.995814e-17</td>\n",
       "      <td>1.177316e-17</td>\n",
       "      <td>-2.685296e-16</td>\n",
       "      <td>3.284605e-16</td>\n",
       "      <td>-7.118719e-18</td>\n",
       "      <td>2.506675e-16</td>\n",
       "      <td>-8.480447e-17</td>\n",
       "      <td>1.526333e-16</td>\n",
       "      <td>1.634231e-16</td>\n",
       "      <td>1.247925e-17</td>\n",
       "      <td>-4.478846e-16</td>\n",
       "      <td>2.057310e-16</td>\n",
       "      <td>-4.966953e-16</td>\n",
       "      <td>-5.093836e-16</td>\n",
       "      <td>-0.531409</td>\n",
       "      <td>0.091289</td>\n",
       "    </tr>\n",
       "    <tr>\n",
       "      <th>v3</th>\n",
       "      <td>-0.419618</td>\n",
       "      <td>-1.227819e-15</td>\n",
       "      <td>3.243764e-16</td>\n",
       "      <td>1.000000e+00</td>\n",
       "      <td>4.711293e-16</td>\n",
       "      <td>-6.539009e-17</td>\n",
       "      <td>1.627627e-15</td>\n",
       "      <td>4.895305e-16</td>\n",
       "      <td>-1.268779e-15</td>\n",
       "      <td>5.568367e-16</td>\n",
       "      <td>1.156587e-15</td>\n",
       "      <td>1.576830e-15</td>\n",
       "      <td>6.310231e-16</td>\n",
       "      <td>2.807652e-16</td>\n",
       "      <td>4.739859e-16</td>\n",
       "      <td>9.068793e-16</td>\n",
       "      <td>8.299445e-16</td>\n",
       "      <td>7.614712e-16</td>\n",
       "      <td>1.509897e-16</td>\n",
       "      <td>3.463522e-16</td>\n",
       "      <td>-9.316409e-16</td>\n",
       "      <td>5.706192e-17</td>\n",
       "      <td>-1.133902e-15</td>\n",
       "      <td>-4.983035e-16</td>\n",
       "      <td>2.686834e-19</td>\n",
       "      <td>-1.104734e-15</td>\n",
       "      <td>-1.238062e-16</td>\n",
       "      <td>1.045747e-15</td>\n",
       "      <td>9.775546e-16</td>\n",
       "      <td>-0.210880</td>\n",
       "      <td>-0.192961</td>\n",
       "    </tr>\n",
       "    <tr>\n",
       "      <th>v4</th>\n",
       "      <td>-0.105260</td>\n",
       "      <td>-9.215150e-16</td>\n",
       "      <td>-1.121065e-15</td>\n",
       "      <td>4.711293e-16</td>\n",
       "      <td>1.000000e+00</td>\n",
       "      <td>-1.719944e-15</td>\n",
       "      <td>-7.491959e-16</td>\n",
       "      <td>-4.104503e-16</td>\n",
       "      <td>5.697192e-16</td>\n",
       "      <td>6.923247e-16</td>\n",
       "      <td>2.232685e-16</td>\n",
       "      <td>3.459380e-16</td>\n",
       "      <td>-5.625518e-16</td>\n",
       "      <td>1.303306e-16</td>\n",
       "      <td>2.282280e-16</td>\n",
       "      <td>1.377649e-16</td>\n",
       "      <td>-9.614528e-16</td>\n",
       "      <td>-2.699612e-16</td>\n",
       "      <td>-5.103644e-16</td>\n",
       "      <td>-3.980557e-16</td>\n",
       "      <td>-1.857247e-16</td>\n",
       "      <td>-1.949553e-16</td>\n",
       "      <td>-6.276051e-17</td>\n",
       "      <td>9.164206e-17</td>\n",
       "      <td>1.584638e-16</td>\n",
       "      <td>6.070716e-16</td>\n",
       "      <td>-4.247268e-16</td>\n",
       "      <td>3.977061e-17</td>\n",
       "      <td>-2.761403e-18</td>\n",
       "      <td>0.098732</td>\n",
       "      <td>0.133447</td>\n",
       "    </tr>\n",
       "    <tr>\n",
       "      <th>v5</th>\n",
       "      <td>0.173072</td>\n",
       "      <td>1.812612e-17</td>\n",
       "      <td>5.157519e-16</td>\n",
       "      <td>-6.539009e-17</td>\n",
       "      <td>-1.719944e-15</td>\n",
       "      <td>1.000000e+00</td>\n",
       "      <td>2.408382e-16</td>\n",
       "      <td>2.715541e-16</td>\n",
       "      <td>7.437229e-16</td>\n",
       "      <td>7.391702e-16</td>\n",
       "      <td>-5.202306e-16</td>\n",
       "      <td>7.203963e-16</td>\n",
       "      <td>7.412552e-16</td>\n",
       "      <td>5.886991e-16</td>\n",
       "      <td>6.565143e-16</td>\n",
       "      <td>-8.720275e-16</td>\n",
       "      <td>2.246261e-15</td>\n",
       "      <td>1.281914e-16</td>\n",
       "      <td>5.308590e-16</td>\n",
       "      <td>-1.450421e-16</td>\n",
       "      <td>-3.554057e-16</td>\n",
       "      <td>-3.920976e-16</td>\n",
       "      <td>1.253751e-16</td>\n",
       "      <td>-8.428683e-18</td>\n",
       "      <td>-1.149255e-15</td>\n",
       "      <td>4.808532e-16</td>\n",
       "      <td>4.319541e-16</td>\n",
       "      <td>6.590482e-16</td>\n",
       "      <td>-5.613951e-18</td>\n",
       "      <td>-0.386356</td>\n",
       "      <td>-0.094974</td>\n",
       "    </tr>\n",
       "    <tr>\n",
       "      <th>v6</th>\n",
       "      <td>-0.063016</td>\n",
       "      <td>-6.506567e-16</td>\n",
       "      <td>2.787346e-16</td>\n",
       "      <td>1.627627e-15</td>\n",
       "      <td>-7.491959e-16</td>\n",
       "      <td>2.408382e-16</td>\n",
       "      <td>1.000000e+00</td>\n",
       "      <td>1.191668e-16</td>\n",
       "      <td>-1.104219e-16</td>\n",
       "      <td>4.131207e-16</td>\n",
       "      <td>5.932243e-17</td>\n",
       "      <td>1.980503e-15</td>\n",
       "      <td>2.375468e-16</td>\n",
       "      <td>-1.211182e-16</td>\n",
       "      <td>2.621312e-16</td>\n",
       "      <td>-1.531188e-15</td>\n",
       "      <td>2.623672e-18</td>\n",
       "      <td>2.015618e-16</td>\n",
       "      <td>1.223814e-16</td>\n",
       "      <td>-1.865597e-16</td>\n",
       "      <td>-1.858755e-16</td>\n",
       "      <td>5.833316e-17</td>\n",
       "      <td>-4.705235e-19</td>\n",
       "      <td>1.046712e-16</td>\n",
       "      <td>-1.071589e-15</td>\n",
       "      <td>4.562861e-16</td>\n",
       "      <td>-1.357067e-16</td>\n",
       "      <td>-4.452461e-16</td>\n",
       "      <td>2.594754e-16</td>\n",
       "      <td>0.215981</td>\n",
       "      <td>-0.043643</td>\n",
       "    </tr>\n",
       "    <tr>\n",
       "      <th>v7</th>\n",
       "      <td>0.084714</td>\n",
       "      <td>-1.005191e-15</td>\n",
       "      <td>2.055934e-16</td>\n",
       "      <td>4.895305e-16</td>\n",
       "      <td>-4.104503e-16</td>\n",
       "      <td>2.715541e-16</td>\n",
       "      <td>1.191668e-16</td>\n",
       "      <td>1.000000e+00</td>\n",
       "      <td>3.344412e-16</td>\n",
       "      <td>1.122501e-15</td>\n",
       "      <td>-7.492834e-17</td>\n",
       "      <td>1.425248e-16</td>\n",
       "      <td>-3.536655e-18</td>\n",
       "      <td>1.266462e-17</td>\n",
       "      <td>2.607772e-16</td>\n",
       "      <td>-1.690540e-16</td>\n",
       "      <td>5.869302e-17</td>\n",
       "      <td>2.177192e-16</td>\n",
       "      <td>7.604126e-17</td>\n",
       "      <td>-1.881008e-16</td>\n",
       "      <td>9.379684e-16</td>\n",
       "      <td>-2.027779e-16</td>\n",
       "      <td>-8.898922e-16</td>\n",
       "      <td>-4.387401e-16</td>\n",
       "      <td>7.434913e-18</td>\n",
       "      <td>-3.094082e-16</td>\n",
       "      <td>-9.657637e-16</td>\n",
       "      <td>-1.782106e-15</td>\n",
       "      <td>-2.776530e-16</td>\n",
       "      <td>0.397311</td>\n",
       "      <td>-0.187257</td>\n",
       "    </tr>\n",
       "    <tr>\n",
       "      <th>v8</th>\n",
       "      <td>-0.036949</td>\n",
       "      <td>-2.433822e-16</td>\n",
       "      <td>-5.377041e-17</td>\n",
       "      <td>-1.268779e-15</td>\n",
       "      <td>5.697192e-16</td>\n",
       "      <td>7.437229e-16</td>\n",
       "      <td>-1.104219e-16</td>\n",
       "      <td>3.344412e-16</td>\n",
       "      <td>1.000000e+00</td>\n",
       "      <td>4.356078e-16</td>\n",
       "      <td>-2.801370e-16</td>\n",
       "      <td>2.487043e-16</td>\n",
       "      <td>1.839891e-16</td>\n",
       "      <td>-2.921856e-16</td>\n",
       "      <td>-8.599156e-16</td>\n",
       "      <td>4.127777e-16</td>\n",
       "      <td>-5.254741e-16</td>\n",
       "      <td>-2.269549e-16</td>\n",
       "      <td>-3.667974e-16</td>\n",
       "      <td>-3.875186e-16</td>\n",
       "      <td>2.033737e-16</td>\n",
       "      <td>3.892798e-16</td>\n",
       "      <td>2.026927e-16</td>\n",
       "      <td>6.377260e-17</td>\n",
       "      <td>-1.047097e-16</td>\n",
       "      <td>-4.653279e-16</td>\n",
       "      <td>-1.727276e-16</td>\n",
       "      <td>1.299943e-16</td>\n",
       "      <td>-6.200930e-16</td>\n",
       "      <td>-0.103079</td>\n",
       "      <td>0.019875</td>\n",
       "    </tr>\n",
       "    <tr>\n",
       "      <th>v9</th>\n",
       "      <td>-0.008660</td>\n",
       "      <td>-1.513678e-16</td>\n",
       "      <td>1.978488e-17</td>\n",
       "      <td>5.568367e-16</td>\n",
       "      <td>6.923247e-16</td>\n",
       "      <td>7.391702e-16</td>\n",
       "      <td>4.131207e-16</td>\n",
       "      <td>1.122501e-15</td>\n",
       "      <td>4.356078e-16</td>\n",
       "      <td>1.000000e+00</td>\n",
       "      <td>-4.642274e-16</td>\n",
       "      <td>1.354680e-16</td>\n",
       "      <td>-1.079314e-15</td>\n",
       "      <td>2.251072e-15</td>\n",
       "      <td>3.784757e-15</td>\n",
       "      <td>-1.051167e-15</td>\n",
       "      <td>-1.214086e-15</td>\n",
       "      <td>1.113695e-15</td>\n",
       "      <td>4.993240e-16</td>\n",
       "      <td>-1.376135e-16</td>\n",
       "      <td>-2.343720e-16</td>\n",
       "      <td>1.936953e-16</td>\n",
       "      <td>-7.071869e-16</td>\n",
       "      <td>-5.214137e-16</td>\n",
       "      <td>-1.430343e-16</td>\n",
       "      <td>6.757763e-16</td>\n",
       "      <td>-7.888853e-16</td>\n",
       "      <td>-6.709655e-17</td>\n",
       "      <td>1.110541e-15</td>\n",
       "      <td>-0.044246</td>\n",
       "      <td>-0.097733</td>\n",
       "    </tr>\n",
       "    <tr>\n",
       "      <th>v10</th>\n",
       "      <td>0.030617</td>\n",
       "      <td>7.388135e-17</td>\n",
       "      <td>-3.991394e-16</td>\n",
       "      <td>1.156587e-15</td>\n",
       "      <td>2.232685e-16</td>\n",
       "      <td>-5.202306e-16</td>\n",
       "      <td>5.932243e-17</td>\n",
       "      <td>-7.492834e-17</td>\n",
       "      <td>-2.801370e-16</td>\n",
       "      <td>-4.642274e-16</td>\n",
       "      <td>1.000000e+00</td>\n",
       "      <td>-4.622103e-16</td>\n",
       "      <td>1.771869e-15</td>\n",
       "      <td>-5.418460e-16</td>\n",
       "      <td>2.635936e-16</td>\n",
       "      <td>5.786332e-16</td>\n",
       "      <td>3.545450e-16</td>\n",
       "      <td>1.542955e-15</td>\n",
       "      <td>3.902423e-16</td>\n",
       "      <td>3.437633e-17</td>\n",
       "      <td>-1.331556e-15</td>\n",
       "      <td>1.177547e-15</td>\n",
       "      <td>-6.418202e-16</td>\n",
       "      <td>3.214491e-16</td>\n",
       "      <td>-1.355885e-16</td>\n",
       "      <td>-2.846052e-16</td>\n",
       "      <td>-3.028119e-16</td>\n",
       "      <td>-2.197977e-16</td>\n",
       "      <td>4.864782e-17</td>\n",
       "      <td>-0.101502</td>\n",
       "      <td>-0.216883</td>\n",
       "    </tr>\n",
       "    <tr>\n",
       "      <th>v11</th>\n",
       "      <td>-0.247689</td>\n",
       "      <td>2.125498e-16</td>\n",
       "      <td>1.975426e-16</td>\n",
       "      <td>1.576830e-15</td>\n",
       "      <td>3.459380e-16</td>\n",
       "      <td>7.203963e-16</td>\n",
       "      <td>1.980503e-15</td>\n",
       "      <td>1.425248e-16</td>\n",
       "      <td>2.487043e-16</td>\n",
       "      <td>1.354680e-16</td>\n",
       "      <td>-4.622103e-16</td>\n",
       "      <td>1.000000e+00</td>\n",
       "      <td>6.370789e-16</td>\n",
       "      <td>1.958377e-16</td>\n",
       "      <td>2.700918e-16</td>\n",
       "      <td>1.332323e-15</td>\n",
       "      <td>5.840590e-16</td>\n",
       "      <td>7.151185e-16</td>\n",
       "      <td>1.440913e-16</td>\n",
       "      <td>-7.389748e-16</td>\n",
       "      <td>-1.481299e-16</td>\n",
       "      <td>-5.658364e-16</td>\n",
       "      <td>7.772895e-16</td>\n",
       "      <td>-4.505332e-16</td>\n",
       "      <td>1.933267e-15</td>\n",
       "      <td>-5.600475e-16</td>\n",
       "      <td>-1.003221e-16</td>\n",
       "      <td>-2.640281e-16</td>\n",
       "      <td>-3.792314e-16</td>\n",
       "      <td>0.000104</td>\n",
       "      <td>0.154876</td>\n",
       "    </tr>\n",
       "    <tr>\n",
       "      <th>v12</th>\n",
       "      <td>0.124348</td>\n",
       "      <td>2.053457e-16</td>\n",
       "      <td>-9.568710e-17</td>\n",
       "      <td>6.310231e-16</td>\n",
       "      <td>-5.625518e-16</td>\n",
       "      <td>7.412552e-16</td>\n",
       "      <td>2.375468e-16</td>\n",
       "      <td>-3.536655e-18</td>\n",
       "      <td>1.839891e-16</td>\n",
       "      <td>-1.079314e-15</td>\n",
       "      <td>1.771869e-15</td>\n",
       "      <td>6.370789e-16</td>\n",
       "      <td>1.000000e+00</td>\n",
       "      <td>-2.321486e-14</td>\n",
       "      <td>2.770714e-17</td>\n",
       "      <td>-1.360416e-15</td>\n",
       "      <td>5.335134e-16</td>\n",
       "      <td>5.648453e-16</td>\n",
       "      <td>3.036293e-17</td>\n",
       "      <td>1.469557e-16</td>\n",
       "      <td>3.430282e-16</td>\n",
       "      <td>7.300527e-16</td>\n",
       "      <td>1.644699e-16</td>\n",
       "      <td>1.800885e-16</td>\n",
       "      <td>4.436512e-16</td>\n",
       "      <td>-5.712973e-16</td>\n",
       "      <td>-2.359969e-16</td>\n",
       "      <td>-4.672391e-16</td>\n",
       "      <td>6.415167e-16</td>\n",
       "      <td>-0.009542</td>\n",
       "      <td>-0.260593</td>\n",
       "    </tr>\n",
       "    <tr>\n",
       "      <th>v13</th>\n",
       "      <td>-0.065902</td>\n",
       "      <td>-2.425603e-17</td>\n",
       "      <td>6.295388e-16</td>\n",
       "      <td>2.807652e-16</td>\n",
       "      <td>1.303306e-16</td>\n",
       "      <td>5.886991e-16</td>\n",
       "      <td>-1.211182e-16</td>\n",
       "      <td>1.266462e-17</td>\n",
       "      <td>-2.921856e-16</td>\n",
       "      <td>2.251072e-15</td>\n",
       "      <td>-5.418460e-16</td>\n",
       "      <td>1.958377e-16</td>\n",
       "      <td>-2.321486e-14</td>\n",
       "      <td>1.000000e+00</td>\n",
       "      <td>2.161967e-15</td>\n",
       "      <td>1.388143e-16</td>\n",
       "      <td>6.044197e-16</td>\n",
       "      <td>7.584436e-17</td>\n",
       "      <td>4.157330e-16</td>\n",
       "      <td>-1.861400e-16</td>\n",
       "      <td>5.623856e-18</td>\n",
       "      <td>1.008461e-16</td>\n",
       "      <td>6.747721e-17</td>\n",
       "      <td>-7.132064e-16</td>\n",
       "      <td>-1.397470e-16</td>\n",
       "      <td>-5.497612e-16</td>\n",
       "      <td>-1.769255e-16</td>\n",
       "      <td>-4.720898e-16</td>\n",
       "      <td>1.144372e-15</td>\n",
       "      <td>0.005293</td>\n",
       "      <td>-0.004570</td>\n",
       "    </tr>\n",
       "    <tr>\n",
       "      <th>v14</th>\n",
       "      <td>-0.098757</td>\n",
       "      <td>-5.020280e-16</td>\n",
       "      <td>-1.730566e-16</td>\n",
       "      <td>4.739859e-16</td>\n",
       "      <td>2.282280e-16</td>\n",
       "      <td>6.565143e-16</td>\n",
       "      <td>2.621312e-16</td>\n",
       "      <td>2.607772e-16</td>\n",
       "      <td>-8.599156e-16</td>\n",
       "      <td>3.784757e-15</td>\n",
       "      <td>2.635936e-16</td>\n",
       "      <td>2.700918e-16</td>\n",
       "      <td>2.770714e-17</td>\n",
       "      <td>2.161967e-15</td>\n",
       "      <td>1.000000e+00</td>\n",
       "      <td>-3.808118e-17</td>\n",
       "      <td>-1.439858e-15</td>\n",
       "      <td>1.162529e-15</td>\n",
       "      <td>1.642378e-15</td>\n",
       "      <td>1.977020e-16</td>\n",
       "      <td>-1.181342e-17</td>\n",
       "      <td>-3.356561e-16</td>\n",
       "      <td>3.740383e-16</td>\n",
       "      <td>3.883204e-16</td>\n",
       "      <td>2.003482e-16</td>\n",
       "      <td>-8.547932e-16</td>\n",
       "      <td>-1.660327e-16</td>\n",
       "      <td>1.044274e-16</td>\n",
       "      <td>2.289427e-15</td>\n",
       "      <td>0.033751</td>\n",
       "      <td>-0.302544</td>\n",
       "    </tr>\n",
       "    <tr>\n",
       "      <th>v15</th>\n",
       "      <td>-0.183453</td>\n",
       "      <td>3.547782e-16</td>\n",
       "      <td>-4.995814e-17</td>\n",
       "      <td>9.068793e-16</td>\n",
       "      <td>1.377649e-16</td>\n",
       "      <td>-8.720275e-16</td>\n",
       "      <td>-1.531188e-15</td>\n",
       "      <td>-1.690540e-16</td>\n",
       "      <td>4.127777e-16</td>\n",
       "      <td>-1.051167e-15</td>\n",
       "      <td>5.786332e-16</td>\n",
       "      <td>1.332323e-15</td>\n",
       "      <td>-1.360416e-15</td>\n",
       "      <td>1.388143e-16</td>\n",
       "      <td>-3.808118e-17</td>\n",
       "      <td>1.000000e+00</td>\n",
       "      <td>1.332390e-15</td>\n",
       "      <td>6.647712e-16</td>\n",
       "      <td>3.475832e-16</td>\n",
       "      <td>-1.483185e-15</td>\n",
       "      <td>4.300086e-16</td>\n",
       "      <td>6.605263e-17</td>\n",
       "      <td>-4.208921e-16</td>\n",
       "      <td>-3.912243e-16</td>\n",
       "      <td>-4.478263e-16</td>\n",
       "      <td>3.206423e-16</td>\n",
       "      <td>2.817791e-16</td>\n",
       "      <td>-1.143519e-15</td>\n",
       "      <td>-1.194130e-15</td>\n",
       "      <td>-0.002986</td>\n",
       "      <td>-0.004223</td>\n",
       "    </tr>\n",
       "    <tr>\n",
       "      <th>v16</th>\n",
       "      <td>0.011903</td>\n",
       "      <td>7.212815e-17</td>\n",
       "      <td>1.177316e-17</td>\n",
       "      <td>8.299445e-16</td>\n",
       "      <td>-9.614528e-16</td>\n",
       "      <td>2.246261e-15</td>\n",
       "      <td>2.623672e-18</td>\n",
       "      <td>5.869302e-17</td>\n",
       "      <td>-5.254741e-16</td>\n",
       "      <td>-1.214086e-15</td>\n",
       "      <td>3.545450e-16</td>\n",
       "      <td>5.840590e-16</td>\n",
       "      <td>5.335134e-16</td>\n",
       "      <td>6.044197e-16</td>\n",
       "      <td>-1.439858e-15</td>\n",
       "      <td>1.332390e-15</td>\n",
       "      <td>1.000000e+00</td>\n",
       "      <td>2.482413e-15</td>\n",
       "      <td>-2.420915e-15</td>\n",
       "      <td>1.307241e-15</td>\n",
       "      <td>5.176564e-16</td>\n",
       "      <td>-4.715090e-16</td>\n",
       "      <td>-7.923387e-17</td>\n",
       "      <td>5.020770e-16</td>\n",
       "      <td>-3.005985e-16</td>\n",
       "      <td>-1.345418e-15</td>\n",
       "      <td>-7.290010e-16</td>\n",
       "      <td>6.789513e-16</td>\n",
       "      <td>7.588849e-16</td>\n",
       "      <td>-0.003910</td>\n",
       "      <td>-0.196539</td>\n",
       "    </tr>\n",
       "    <tr>\n",
       "      <th>v17</th>\n",
       "      <td>-0.073297</td>\n",
       "      <td>-3.879840e-16</td>\n",
       "      <td>-2.685296e-16</td>\n",
       "      <td>7.614712e-16</td>\n",
       "      <td>-2.699612e-16</td>\n",
       "      <td>1.281914e-16</td>\n",
       "      <td>2.015618e-16</td>\n",
       "      <td>2.177192e-16</td>\n",
       "      <td>-2.269549e-16</td>\n",
       "      <td>1.113695e-15</td>\n",
       "      <td>1.542955e-15</td>\n",
       "      <td>7.151185e-16</td>\n",
       "      <td>5.648453e-16</td>\n",
       "      <td>7.584436e-17</td>\n",
       "      <td>1.162529e-15</td>\n",
       "      <td>6.647712e-16</td>\n",
       "      <td>2.482413e-15</td>\n",
       "      <td>1.000000e+00</td>\n",
       "      <td>-4.894901e-15</td>\n",
       "      <td>-3.883099e-16</td>\n",
       "      <td>-1.390308e-15</td>\n",
       "      <td>-8.230527e-16</td>\n",
       "      <td>-8.743398e-16</td>\n",
       "      <td>3.706214e-16</td>\n",
       "      <td>-2.403828e-16</td>\n",
       "      <td>2.666806e-16</td>\n",
       "      <td>6.932833e-16</td>\n",
       "      <td>6.148525e-16</td>\n",
       "      <td>-5.534540e-17</td>\n",
       "      <td>0.007309</td>\n",
       "      <td>-0.326481</td>\n",
       "    </tr>\n",
       "    <tr>\n",
       "      <th>v18</th>\n",
       "      <td>0.090438</td>\n",
       "      <td>3.230206e-17</td>\n",
       "      <td>3.284605e-16</td>\n",
       "      <td>1.509897e-16</td>\n",
       "      <td>-5.103644e-16</td>\n",
       "      <td>5.308590e-16</td>\n",
       "      <td>1.223814e-16</td>\n",
       "      <td>7.604126e-17</td>\n",
       "      <td>-3.667974e-16</td>\n",
       "      <td>4.993240e-16</td>\n",
       "      <td>3.902423e-16</td>\n",
       "      <td>1.440913e-16</td>\n",
       "      <td>3.036293e-17</td>\n",
       "      <td>4.157330e-16</td>\n",
       "      <td>1.642378e-15</td>\n",
       "      <td>3.475832e-16</td>\n",
       "      <td>-2.420915e-15</td>\n",
       "      <td>-4.894901e-15</td>\n",
       "      <td>1.000000e+00</td>\n",
       "      <td>-2.499138e-15</td>\n",
       "      <td>-3.711302e-16</td>\n",
       "      <td>-9.408680e-16</td>\n",
       "      <td>-4.819365e-16</td>\n",
       "      <td>-1.912006e-16</td>\n",
       "      <td>-8.986916e-17</td>\n",
       "      <td>-6.629212e-17</td>\n",
       "      <td>2.990167e-16</td>\n",
       "      <td>2.242791e-16</td>\n",
       "      <td>7.976796e-16</td>\n",
       "      <td>0.035650</td>\n",
       "      <td>-0.111485</td>\n",
       "    </tr>\n",
       "    <tr>\n",
       "      <th>v19</th>\n",
       "      <td>0.028975</td>\n",
       "      <td>1.502024e-16</td>\n",
       "      <td>-7.118719e-18</td>\n",
       "      <td>3.463522e-16</td>\n",
       "      <td>-3.980557e-16</td>\n",
       "      <td>-1.450421e-16</td>\n",
       "      <td>-1.865597e-16</td>\n",
       "      <td>-1.881008e-16</td>\n",
       "      <td>-3.875186e-16</td>\n",
       "      <td>-1.376135e-16</td>\n",
       "      <td>3.437633e-17</td>\n",
       "      <td>-7.389748e-16</td>\n",
       "      <td>1.469557e-16</td>\n",
       "      <td>-1.861400e-16</td>\n",
       "      <td>1.977020e-16</td>\n",
       "      <td>-1.483185e-15</td>\n",
       "      <td>1.307241e-15</td>\n",
       "      <td>-3.883099e-16</td>\n",
       "      <td>-2.499138e-15</td>\n",
       "      <td>1.000000e+00</td>\n",
       "      <td>2.614882e-16</td>\n",
       "      <td>5.115885e-16</td>\n",
       "      <td>-1.163768e-15</td>\n",
       "      <td>7.032035e-16</td>\n",
       "      <td>2.587708e-17</td>\n",
       "      <td>9.577163e-16</td>\n",
       "      <td>5.898033e-16</td>\n",
       "      <td>-2.959370e-16</td>\n",
       "      <td>-1.405379e-15</td>\n",
       "      <td>-0.056151</td>\n",
       "      <td>0.034783</td>\n",
       "    </tr>\n",
       "    <tr>\n",
       "      <th>v20</th>\n",
       "      <td>-0.050866</td>\n",
       "      <td>4.654551e-16</td>\n",
       "      <td>2.506675e-16</td>\n",
       "      <td>-9.316409e-16</td>\n",
       "      <td>-1.857247e-16</td>\n",
       "      <td>-3.554057e-16</td>\n",
       "      <td>-1.858755e-16</td>\n",
       "      <td>9.379684e-16</td>\n",
       "      <td>2.033737e-16</td>\n",
       "      <td>-2.343720e-16</td>\n",
       "      <td>-1.331556e-15</td>\n",
       "      <td>-1.481299e-16</td>\n",
       "      <td>3.430282e-16</td>\n",
       "      <td>5.623856e-18</td>\n",
       "      <td>-1.181342e-17</td>\n",
       "      <td>4.300086e-16</td>\n",
       "      <td>5.176564e-16</td>\n",
       "      <td>-1.390308e-15</td>\n",
       "      <td>-3.711302e-16</td>\n",
       "      <td>2.614882e-16</td>\n",
       "      <td>1.000000e+00</td>\n",
       "      <td>-7.614597e-16</td>\n",
       "      <td>1.009285e-15</td>\n",
       "      <td>2.712885e-16</td>\n",
       "      <td>1.277215e-16</td>\n",
       "      <td>1.410054e-16</td>\n",
       "      <td>-2.803504e-16</td>\n",
       "      <td>-1.138829e-15</td>\n",
       "      <td>-2.436795e-16</td>\n",
       "      <td>0.339403</td>\n",
       "      <td>0.020090</td>\n",
       "    </tr>\n",
       "    <tr>\n",
       "      <th>v21</th>\n",
       "      <td>0.044736</td>\n",
       "      <td>-2.457409e-16</td>\n",
       "      <td>-8.480447e-17</td>\n",
       "      <td>5.706192e-17</td>\n",
       "      <td>-1.949553e-16</td>\n",
       "      <td>-3.920976e-16</td>\n",
       "      <td>5.833316e-17</td>\n",
       "      <td>-2.027779e-16</td>\n",
       "      <td>3.892798e-16</td>\n",
       "      <td>1.936953e-16</td>\n",
       "      <td>1.177547e-15</td>\n",
       "      <td>-5.658364e-16</td>\n",
       "      <td>7.300527e-16</td>\n",
       "      <td>1.008461e-16</td>\n",
       "      <td>-3.356561e-16</td>\n",
       "      <td>6.605263e-17</td>\n",
       "      <td>-4.715090e-16</td>\n",
       "      <td>-8.230527e-16</td>\n",
       "      <td>-9.408680e-16</td>\n",
       "      <td>5.115885e-16</td>\n",
       "      <td>-7.614597e-16</td>\n",
       "      <td>1.000000e+00</td>\n",
       "      <td>3.649908e-15</td>\n",
       "      <td>8.119580e-16</td>\n",
       "      <td>1.761054e-16</td>\n",
       "      <td>-1.686082e-16</td>\n",
       "      <td>-5.557329e-16</td>\n",
       "      <td>-1.211281e-15</td>\n",
       "      <td>5.278775e-16</td>\n",
       "      <td>0.105999</td>\n",
       "      <td>0.040413</td>\n",
       "    </tr>\n",
       "    <tr>\n",
       "      <th>v22</th>\n",
       "      <td>0.144059</td>\n",
       "      <td>-4.290944e-16</td>\n",
       "      <td>1.526333e-16</td>\n",
       "      <td>-1.133902e-15</td>\n",
       "      <td>-6.276051e-17</td>\n",
       "      <td>1.253751e-16</td>\n",
       "      <td>-4.705235e-19</td>\n",
       "      <td>-8.898922e-16</td>\n",
       "      <td>2.026927e-16</td>\n",
       "      <td>-7.071869e-16</td>\n",
       "      <td>-6.418202e-16</td>\n",
       "      <td>7.772895e-16</td>\n",
       "      <td>1.644699e-16</td>\n",
       "      <td>6.747721e-17</td>\n",
       "      <td>3.740383e-16</td>\n",
       "      <td>-4.208921e-16</td>\n",
       "      <td>-7.923387e-17</td>\n",
       "      <td>-8.743398e-16</td>\n",
       "      <td>-4.819365e-16</td>\n",
       "      <td>-1.163768e-15</td>\n",
       "      <td>1.009285e-15</td>\n",
       "      <td>3.649908e-15</td>\n",
       "      <td>1.000000e+00</td>\n",
       "      <td>-7.303916e-17</td>\n",
       "      <td>9.970809e-17</td>\n",
       "      <td>-5.018575e-16</td>\n",
       "      <td>-2.503187e-17</td>\n",
       "      <td>8.461337e-17</td>\n",
       "      <td>-6.627203e-16</td>\n",
       "      <td>-0.064801</td>\n",
       "      <td>0.000805</td>\n",
       "    </tr>\n",
       "    <tr>\n",
       "      <th>v23</th>\n",
       "      <td>0.051142</td>\n",
       "      <td>6.168652e-16</td>\n",
       "      <td>1.634231e-16</td>\n",
       "      <td>-4.983035e-16</td>\n",
       "      <td>9.164206e-17</td>\n",
       "      <td>-8.428683e-18</td>\n",
       "      <td>1.046712e-16</td>\n",
       "      <td>-4.387401e-16</td>\n",
       "      <td>6.377260e-17</td>\n",
       "      <td>-5.214137e-16</td>\n",
       "      <td>3.214491e-16</td>\n",
       "      <td>-4.505332e-16</td>\n",
       "      <td>1.800885e-16</td>\n",
       "      <td>-7.132064e-16</td>\n",
       "      <td>3.883204e-16</td>\n",
       "      <td>-3.912243e-16</td>\n",
       "      <td>5.020770e-16</td>\n",
       "      <td>3.706214e-16</td>\n",
       "      <td>-1.912006e-16</td>\n",
       "      <td>7.032035e-16</td>\n",
       "      <td>2.712885e-16</td>\n",
       "      <td>8.119580e-16</td>\n",
       "      <td>-7.303916e-17</td>\n",
       "      <td>1.000000e+00</td>\n",
       "      <td>2.130519e-17</td>\n",
       "      <td>-8.232727e-17</td>\n",
       "      <td>1.114524e-15</td>\n",
       "      <td>2.839721e-16</td>\n",
       "      <td>1.481903e-15</td>\n",
       "      <td>-0.112633</td>\n",
       "      <td>-0.002685</td>\n",
       "    </tr>\n",
       "    <tr>\n",
       "      <th>v24</th>\n",
       "      <td>-0.016182</td>\n",
       "      <td>-4.425156e-17</td>\n",
       "      <td>1.247925e-17</td>\n",
       "      <td>2.686834e-19</td>\n",
       "      <td>1.584638e-16</td>\n",
       "      <td>-1.149255e-15</td>\n",
       "      <td>-1.071589e-15</td>\n",
       "      <td>7.434913e-18</td>\n",
       "      <td>-1.047097e-16</td>\n",
       "      <td>-1.430343e-16</td>\n",
       "      <td>-1.355885e-16</td>\n",
       "      <td>1.933267e-15</td>\n",
       "      <td>4.436512e-16</td>\n",
       "      <td>-1.397470e-16</td>\n",
       "      <td>2.003482e-16</td>\n",
       "      <td>-4.478263e-16</td>\n",
       "      <td>-3.005985e-16</td>\n",
       "      <td>-2.403828e-16</td>\n",
       "      <td>-8.986916e-17</td>\n",
       "      <td>2.587708e-17</td>\n",
       "      <td>1.277215e-16</td>\n",
       "      <td>1.761054e-16</td>\n",
       "      <td>9.970809e-17</td>\n",
       "      <td>2.130519e-17</td>\n",
       "      <td>1.000000e+00</td>\n",
       "      <td>1.015391e-15</td>\n",
       "      <td>1.343722e-16</td>\n",
       "      <td>-2.274142e-16</td>\n",
       "      <td>-2.819805e-16</td>\n",
       "      <td>0.005146</td>\n",
       "      <td>-0.007221</td>\n",
       "    </tr>\n",
       "    <tr>\n",
       "      <th>v25</th>\n",
       "      <td>-0.233083</td>\n",
       "      <td>-9.605737e-16</td>\n",
       "      <td>-4.478846e-16</td>\n",
       "      <td>-1.104734e-15</td>\n",
       "      <td>6.070716e-16</td>\n",
       "      <td>4.808532e-16</td>\n",
       "      <td>4.562861e-16</td>\n",
       "      <td>-3.094082e-16</td>\n",
       "      <td>-4.653279e-16</td>\n",
       "      <td>6.757763e-16</td>\n",
       "      <td>-2.846052e-16</td>\n",
       "      <td>-5.600475e-16</td>\n",
       "      <td>-5.712973e-16</td>\n",
       "      <td>-5.497612e-16</td>\n",
       "      <td>-8.547932e-16</td>\n",
       "      <td>3.206423e-16</td>\n",
       "      <td>-1.345418e-15</td>\n",
       "      <td>2.666806e-16</td>\n",
       "      <td>-6.629212e-17</td>\n",
       "      <td>9.577163e-16</td>\n",
       "      <td>1.410054e-16</td>\n",
       "      <td>-1.686082e-16</td>\n",
       "      <td>-5.018575e-16</td>\n",
       "      <td>-8.232727e-17</td>\n",
       "      <td>1.015391e-15</td>\n",
       "      <td>1.000000e+00</td>\n",
       "      <td>2.646517e-15</td>\n",
       "      <td>-6.406679e-16</td>\n",
       "      <td>-7.008939e-16</td>\n",
       "      <td>-0.047837</td>\n",
       "      <td>0.003308</td>\n",
       "    </tr>\n",
       "    <tr>\n",
       "      <th>v26</th>\n",
       "      <td>-0.041407</td>\n",
       "      <td>-1.581290e-17</td>\n",
       "      <td>2.057310e-16</td>\n",
       "      <td>-1.238062e-16</td>\n",
       "      <td>-4.247268e-16</td>\n",
       "      <td>4.319541e-16</td>\n",
       "      <td>-1.357067e-16</td>\n",
       "      <td>-9.657637e-16</td>\n",
       "      <td>-1.727276e-16</td>\n",
       "      <td>-7.888853e-16</td>\n",
       "      <td>-3.028119e-16</td>\n",
       "      <td>-1.003221e-16</td>\n",
       "      <td>-2.359969e-16</td>\n",
       "      <td>-1.769255e-16</td>\n",
       "      <td>-1.660327e-16</td>\n",
       "      <td>2.817791e-16</td>\n",
       "      <td>-7.290010e-16</td>\n",
       "      <td>6.932833e-16</td>\n",
       "      <td>2.990167e-16</td>\n",
       "      <td>5.898033e-16</td>\n",
       "      <td>-2.803504e-16</td>\n",
       "      <td>-5.557329e-16</td>\n",
       "      <td>-2.503187e-17</td>\n",
       "      <td>1.114524e-15</td>\n",
       "      <td>1.343722e-16</td>\n",
       "      <td>2.646517e-15</td>\n",
       "      <td>1.000000e+00</td>\n",
       "      <td>-3.667715e-16</td>\n",
       "      <td>-2.782204e-16</td>\n",
       "      <td>-0.003208</td>\n",
       "      <td>0.004455</td>\n",
       "    </tr>\n",
       "    <tr>\n",
       "      <th>v27</th>\n",
       "      <td>-0.005135</td>\n",
       "      <td>1.198124e-16</td>\n",
       "      <td>-4.966953e-16</td>\n",
       "      <td>1.045747e-15</td>\n",
       "      <td>3.977061e-17</td>\n",
       "      <td>6.590482e-16</td>\n",
       "      <td>-4.452461e-16</td>\n",
       "      <td>-1.782106e-15</td>\n",
       "      <td>1.299943e-16</td>\n",
       "      <td>-6.709655e-17</td>\n",
       "      <td>-2.197977e-16</td>\n",
       "      <td>-2.640281e-16</td>\n",
       "      <td>-4.672391e-16</td>\n",
       "      <td>-4.720898e-16</td>\n",
       "      <td>1.044274e-16</td>\n",
       "      <td>-1.143519e-15</td>\n",
       "      <td>6.789513e-16</td>\n",
       "      <td>6.148525e-16</td>\n",
       "      <td>2.242791e-16</td>\n",
       "      <td>-2.959370e-16</td>\n",
       "      <td>-1.138829e-15</td>\n",
       "      <td>-1.211281e-15</td>\n",
       "      <td>8.461337e-17</td>\n",
       "      <td>2.839721e-16</td>\n",
       "      <td>-2.274142e-16</td>\n",
       "      <td>-6.406679e-16</td>\n",
       "      <td>-3.667715e-16</td>\n",
       "      <td>1.000000e+00</td>\n",
       "      <td>-3.061287e-16</td>\n",
       "      <td>0.028825</td>\n",
       "      <td>0.017580</td>\n",
       "    </tr>\n",
       "    <tr>\n",
       "      <th>v28</th>\n",
       "      <td>-0.009413</td>\n",
       "      <td>2.083082e-15</td>\n",
       "      <td>-5.093836e-16</td>\n",
       "      <td>9.775546e-16</td>\n",
       "      <td>-2.761403e-18</td>\n",
       "      <td>-5.613951e-18</td>\n",
       "      <td>2.594754e-16</td>\n",
       "      <td>-2.776530e-16</td>\n",
       "      <td>-6.200930e-16</td>\n",
       "      <td>1.110541e-15</td>\n",
       "      <td>4.864782e-17</td>\n",
       "      <td>-3.792314e-16</td>\n",
       "      <td>6.415167e-16</td>\n",
       "      <td>1.144372e-15</td>\n",
       "      <td>2.289427e-15</td>\n",
       "      <td>-1.194130e-15</td>\n",
       "      <td>7.588849e-16</td>\n",
       "      <td>-5.534540e-17</td>\n",
       "      <td>7.976796e-16</td>\n",
       "      <td>-1.405379e-15</td>\n",
       "      <td>-2.436795e-16</td>\n",
       "      <td>5.278775e-16</td>\n",
       "      <td>-6.627203e-16</td>\n",
       "      <td>1.481903e-15</td>\n",
       "      <td>-2.819805e-16</td>\n",
       "      <td>-7.008939e-16</td>\n",
       "      <td>-2.782204e-16</td>\n",
       "      <td>-3.061287e-16</td>\n",
       "      <td>1.000000e+00</td>\n",
       "      <td>0.010258</td>\n",
       "      <td>0.009536</td>\n",
       "    </tr>\n",
       "    <tr>\n",
       "      <th>amount</th>\n",
       "      <td>-0.010596</td>\n",
       "      <td>-2.277087e-01</td>\n",
       "      <td>-5.314089e-01</td>\n",
       "      <td>-2.108805e-01</td>\n",
       "      <td>9.873167e-02</td>\n",
       "      <td>-3.863563e-01</td>\n",
       "      <td>2.159812e-01</td>\n",
       "      <td>3.973113e-01</td>\n",
       "      <td>-1.030791e-01</td>\n",
       "      <td>-4.424560e-02</td>\n",
       "      <td>-1.015021e-01</td>\n",
       "      <td>1.039770e-04</td>\n",
       "      <td>-9.541802e-03</td>\n",
       "      <td>5.293409e-03</td>\n",
       "      <td>3.375117e-02</td>\n",
       "      <td>-2.985848e-03</td>\n",
       "      <td>-3.909527e-03</td>\n",
       "      <td>7.309042e-03</td>\n",
       "      <td>3.565034e-02</td>\n",
       "      <td>-5.615079e-02</td>\n",
       "      <td>3.394034e-01</td>\n",
       "      <td>1.059989e-01</td>\n",
       "      <td>-6.480065e-02</td>\n",
       "      <td>-1.126326e-01</td>\n",
       "      <td>5.146217e-03</td>\n",
       "      <td>-4.783686e-02</td>\n",
       "      <td>-3.208037e-03</td>\n",
       "      <td>2.882546e-02</td>\n",
       "      <td>1.025822e-02</td>\n",
       "      <td>1.000000</td>\n",
       "      <td>0.005632</td>\n",
       "    </tr>\n",
       "    <tr>\n",
       "      <th>class</th>\n",
       "      <td>-0.012323</td>\n",
       "      <td>-1.013473e-01</td>\n",
       "      <td>9.128865e-02</td>\n",
       "      <td>-1.929608e-01</td>\n",
       "      <td>1.334475e-01</td>\n",
       "      <td>-9.497430e-02</td>\n",
       "      <td>-4.364316e-02</td>\n",
       "      <td>-1.872566e-01</td>\n",
       "      <td>1.987512e-02</td>\n",
       "      <td>-9.773269e-02</td>\n",
       "      <td>-2.168829e-01</td>\n",
       "      <td>1.548756e-01</td>\n",
       "      <td>-2.605929e-01</td>\n",
       "      <td>-4.569779e-03</td>\n",
       "      <td>-3.025437e-01</td>\n",
       "      <td>-4.223402e-03</td>\n",
       "      <td>-1.965389e-01</td>\n",
       "      <td>-3.264811e-01</td>\n",
       "      <td>-1.114853e-01</td>\n",
       "      <td>3.478301e-02</td>\n",
       "      <td>2.009032e-02</td>\n",
       "      <td>4.041338e-02</td>\n",
       "      <td>8.053175e-04</td>\n",
       "      <td>-2.685156e-03</td>\n",
       "      <td>-7.220907e-03</td>\n",
       "      <td>3.307706e-03</td>\n",
       "      <td>4.455398e-03</td>\n",
       "      <td>1.757973e-02</td>\n",
       "      <td>9.536041e-03</td>\n",
       "      <td>0.005632</td>\n",
       "      <td>1.000000</td>\n",
       "    </tr>\n",
       "  </tbody>\n",
       "</table>\n",
       "</div>"
      ],
      "text/plain": [
       "            time            v1            v2            v3            v4  \\\n",
       "time    1.000000  1.173963e-01 -1.059333e-02 -4.196182e-01 -1.052602e-01   \n",
       "v1      0.117396  1.000000e+00  4.135835e-16 -1.227819e-15 -9.215150e-16   \n",
       "v2     -0.010593  4.135835e-16  1.000000e+00  3.243764e-16 -1.121065e-15   \n",
       "v3     -0.419618 -1.227819e-15  3.243764e-16  1.000000e+00  4.711293e-16   \n",
       "v4     -0.105260 -9.215150e-16 -1.121065e-15  4.711293e-16  1.000000e+00   \n",
       "v5      0.173072  1.812612e-17  5.157519e-16 -6.539009e-17 -1.719944e-15   \n",
       "v6     -0.063016 -6.506567e-16  2.787346e-16  1.627627e-15 -7.491959e-16   \n",
       "v7      0.084714 -1.005191e-15  2.055934e-16  4.895305e-16 -4.104503e-16   \n",
       "v8     -0.036949 -2.433822e-16 -5.377041e-17 -1.268779e-15  5.697192e-16   \n",
       "v9     -0.008660 -1.513678e-16  1.978488e-17  5.568367e-16  6.923247e-16   \n",
       "v10     0.030617  7.388135e-17 -3.991394e-16  1.156587e-15  2.232685e-16   \n",
       "v11    -0.247689  2.125498e-16  1.975426e-16  1.576830e-15  3.459380e-16   \n",
       "v12     0.124348  2.053457e-16 -9.568710e-17  6.310231e-16 -5.625518e-16   \n",
       "v13    -0.065902 -2.425603e-17  6.295388e-16  2.807652e-16  1.303306e-16   \n",
       "v14    -0.098757 -5.020280e-16 -1.730566e-16  4.739859e-16  2.282280e-16   \n",
       "v15    -0.183453  3.547782e-16 -4.995814e-17  9.068793e-16  1.377649e-16   \n",
       "v16     0.011903  7.212815e-17  1.177316e-17  8.299445e-16 -9.614528e-16   \n",
       "v17    -0.073297 -3.879840e-16 -2.685296e-16  7.614712e-16 -2.699612e-16   \n",
       "v18     0.090438  3.230206e-17  3.284605e-16  1.509897e-16 -5.103644e-16   \n",
       "v19     0.028975  1.502024e-16 -7.118719e-18  3.463522e-16 -3.980557e-16   \n",
       "v20    -0.050866  4.654551e-16  2.506675e-16 -9.316409e-16 -1.857247e-16   \n",
       "v21     0.044736 -2.457409e-16 -8.480447e-17  5.706192e-17 -1.949553e-16   \n",
       "v22     0.144059 -4.290944e-16  1.526333e-16 -1.133902e-15 -6.276051e-17   \n",
       "v23     0.051142  6.168652e-16  1.634231e-16 -4.983035e-16  9.164206e-17   \n",
       "v24    -0.016182 -4.425156e-17  1.247925e-17  2.686834e-19  1.584638e-16   \n",
       "v25    -0.233083 -9.605737e-16 -4.478846e-16 -1.104734e-15  6.070716e-16   \n",
       "v26    -0.041407 -1.581290e-17  2.057310e-16 -1.238062e-16 -4.247268e-16   \n",
       "v27    -0.005135  1.198124e-16 -4.966953e-16  1.045747e-15  3.977061e-17   \n",
       "v28    -0.009413  2.083082e-15 -5.093836e-16  9.775546e-16 -2.761403e-18   \n",
       "amount -0.010596 -2.277087e-01 -5.314089e-01 -2.108805e-01  9.873167e-02   \n",
       "class  -0.012323 -1.013473e-01  9.128865e-02 -1.929608e-01  1.334475e-01   \n",
       "\n",
       "                  v5            v6            v7            v8            v9  \\\n",
       "time    1.730721e-01 -6.301647e-02  8.471437e-02 -3.694943e-02 -8.660434e-03   \n",
       "v1      1.812612e-17 -6.506567e-16 -1.005191e-15 -2.433822e-16 -1.513678e-16   \n",
       "v2      5.157519e-16  2.787346e-16  2.055934e-16 -5.377041e-17  1.978488e-17   \n",
       "v3     -6.539009e-17  1.627627e-15  4.895305e-16 -1.268779e-15  5.568367e-16   \n",
       "v4     -1.719944e-15 -7.491959e-16 -4.104503e-16  5.697192e-16  6.923247e-16   \n",
       "v5      1.000000e+00  2.408382e-16  2.715541e-16  7.437229e-16  7.391702e-16   \n",
       "v6      2.408382e-16  1.000000e+00  1.191668e-16 -1.104219e-16  4.131207e-16   \n",
       "v7      2.715541e-16  1.191668e-16  1.000000e+00  3.344412e-16  1.122501e-15   \n",
       "v8      7.437229e-16 -1.104219e-16  3.344412e-16  1.000000e+00  4.356078e-16   \n",
       "v9      7.391702e-16  4.131207e-16  1.122501e-15  4.356078e-16  1.000000e+00   \n",
       "v10    -5.202306e-16  5.932243e-17 -7.492834e-17 -2.801370e-16 -4.642274e-16   \n",
       "v11     7.203963e-16  1.980503e-15  1.425248e-16  2.487043e-16  1.354680e-16   \n",
       "v12     7.412552e-16  2.375468e-16 -3.536655e-18  1.839891e-16 -1.079314e-15   \n",
       "v13     5.886991e-16 -1.211182e-16  1.266462e-17 -2.921856e-16  2.251072e-15   \n",
       "v14     6.565143e-16  2.621312e-16  2.607772e-16 -8.599156e-16  3.784757e-15   \n",
       "v15    -8.720275e-16 -1.531188e-15 -1.690540e-16  4.127777e-16 -1.051167e-15   \n",
       "v16     2.246261e-15  2.623672e-18  5.869302e-17 -5.254741e-16 -1.214086e-15   \n",
       "v17     1.281914e-16  2.015618e-16  2.177192e-16 -2.269549e-16  1.113695e-15   \n",
       "v18     5.308590e-16  1.223814e-16  7.604126e-17 -3.667974e-16  4.993240e-16   \n",
       "v19    -1.450421e-16 -1.865597e-16 -1.881008e-16 -3.875186e-16 -1.376135e-16   \n",
       "v20    -3.554057e-16 -1.858755e-16  9.379684e-16  2.033737e-16 -2.343720e-16   \n",
       "v21    -3.920976e-16  5.833316e-17 -2.027779e-16  3.892798e-16  1.936953e-16   \n",
       "v22     1.253751e-16 -4.705235e-19 -8.898922e-16  2.026927e-16 -7.071869e-16   \n",
       "v23    -8.428683e-18  1.046712e-16 -4.387401e-16  6.377260e-17 -5.214137e-16   \n",
       "v24    -1.149255e-15 -1.071589e-15  7.434913e-18 -1.047097e-16 -1.430343e-16   \n",
       "v25     4.808532e-16  4.562861e-16 -3.094082e-16 -4.653279e-16  6.757763e-16   \n",
       "v26     4.319541e-16 -1.357067e-16 -9.657637e-16 -1.727276e-16 -7.888853e-16   \n",
       "v27     6.590482e-16 -4.452461e-16 -1.782106e-15  1.299943e-16 -6.709655e-17   \n",
       "v28    -5.613951e-18  2.594754e-16 -2.776530e-16 -6.200930e-16  1.110541e-15   \n",
       "amount -3.863563e-01  2.159812e-01  3.973113e-01 -1.030791e-01 -4.424560e-02   \n",
       "class  -9.497430e-02 -4.364316e-02 -1.872566e-01  1.987512e-02 -9.773269e-02   \n",
       "\n",
       "                 v10           v11           v12           v13           v14  \\\n",
       "time    3.061663e-02 -2.476894e-01  1.243481e-01 -6.590202e-02 -9.875682e-02   \n",
       "v1      7.388135e-17  2.125498e-16  2.053457e-16 -2.425603e-17 -5.020280e-16   \n",
       "v2     -3.991394e-16  1.975426e-16 -9.568710e-17  6.295388e-16 -1.730566e-16   \n",
       "v3      1.156587e-15  1.576830e-15  6.310231e-16  2.807652e-16  4.739859e-16   \n",
       "v4      2.232685e-16  3.459380e-16 -5.625518e-16  1.303306e-16  2.282280e-16   \n",
       "v5     -5.202306e-16  7.203963e-16  7.412552e-16  5.886991e-16  6.565143e-16   \n",
       "v6      5.932243e-17  1.980503e-15  2.375468e-16 -1.211182e-16  2.621312e-16   \n",
       "v7     -7.492834e-17  1.425248e-16 -3.536655e-18  1.266462e-17  2.607772e-16   \n",
       "v8     -2.801370e-16  2.487043e-16  1.839891e-16 -2.921856e-16 -8.599156e-16   \n",
       "v9     -4.642274e-16  1.354680e-16 -1.079314e-15  2.251072e-15  3.784757e-15   \n",
       "v10     1.000000e+00 -4.622103e-16  1.771869e-15 -5.418460e-16  2.635936e-16   \n",
       "v11    -4.622103e-16  1.000000e+00  6.370789e-16  1.958377e-16  2.700918e-16   \n",
       "v12     1.771869e-15  6.370789e-16  1.000000e+00 -2.321486e-14  2.770714e-17   \n",
       "v13    -5.418460e-16  1.958377e-16 -2.321486e-14  1.000000e+00  2.161967e-15   \n",
       "v14     2.635936e-16  2.700918e-16  2.770714e-17  2.161967e-15  1.000000e+00   \n",
       "v15     5.786332e-16  1.332323e-15 -1.360416e-15  1.388143e-16 -3.808118e-17   \n",
       "v16     3.545450e-16  5.840590e-16  5.335134e-16  6.044197e-16 -1.439858e-15   \n",
       "v17     1.542955e-15  7.151185e-16  5.648453e-16  7.584436e-17  1.162529e-15   \n",
       "v18     3.902423e-16  1.440913e-16  3.036293e-17  4.157330e-16  1.642378e-15   \n",
       "v19     3.437633e-17 -7.389748e-16  1.469557e-16 -1.861400e-16  1.977020e-16   \n",
       "v20    -1.331556e-15 -1.481299e-16  3.430282e-16  5.623856e-18 -1.181342e-17   \n",
       "v21     1.177547e-15 -5.658364e-16  7.300527e-16  1.008461e-16 -3.356561e-16   \n",
       "v22    -6.418202e-16  7.772895e-16  1.644699e-16  6.747721e-17  3.740383e-16   \n",
       "v23     3.214491e-16 -4.505332e-16  1.800885e-16 -7.132064e-16  3.883204e-16   \n",
       "v24    -1.355885e-16  1.933267e-15  4.436512e-16 -1.397470e-16  2.003482e-16   \n",
       "v25    -2.846052e-16 -5.600475e-16 -5.712973e-16 -5.497612e-16 -8.547932e-16   \n",
       "v26    -3.028119e-16 -1.003221e-16 -2.359969e-16 -1.769255e-16 -1.660327e-16   \n",
       "v27    -2.197977e-16 -2.640281e-16 -4.672391e-16 -4.720898e-16  1.044274e-16   \n",
       "v28     4.864782e-17 -3.792314e-16  6.415167e-16  1.144372e-15  2.289427e-15   \n",
       "amount -1.015021e-01  1.039770e-04 -9.541802e-03  5.293409e-03  3.375117e-02   \n",
       "class  -2.168829e-01  1.548756e-01 -2.605929e-01 -4.569779e-03 -3.025437e-01   \n",
       "\n",
       "                 v15           v16           v17           v18           v19  \\\n",
       "time   -1.834533e-01  1.190287e-02 -7.329721e-02  9.043813e-02  2.897530e-02   \n",
       "v1      3.547782e-16  7.212815e-17 -3.879840e-16  3.230206e-17  1.502024e-16   \n",
       "v2     -4.995814e-17  1.177316e-17 -2.685296e-16  3.284605e-16 -7.118719e-18   \n",
       "v3      9.068793e-16  8.299445e-16  7.614712e-16  1.509897e-16  3.463522e-16   \n",
       "v4      1.377649e-16 -9.614528e-16 -2.699612e-16 -5.103644e-16 -3.980557e-16   \n",
       "v5     -8.720275e-16  2.246261e-15  1.281914e-16  5.308590e-16 -1.450421e-16   \n",
       "v6     -1.531188e-15  2.623672e-18  2.015618e-16  1.223814e-16 -1.865597e-16   \n",
       "v7     -1.690540e-16  5.869302e-17  2.177192e-16  7.604126e-17 -1.881008e-16   \n",
       "v8      4.127777e-16 -5.254741e-16 -2.269549e-16 -3.667974e-16 -3.875186e-16   \n",
       "v9     -1.051167e-15 -1.214086e-15  1.113695e-15  4.993240e-16 -1.376135e-16   \n",
       "v10     5.786332e-16  3.545450e-16  1.542955e-15  3.902423e-16  3.437633e-17   \n",
       "v11     1.332323e-15  5.840590e-16  7.151185e-16  1.440913e-16 -7.389748e-16   \n",
       "v12    -1.360416e-15  5.335134e-16  5.648453e-16  3.036293e-17  1.469557e-16   \n",
       "v13     1.388143e-16  6.044197e-16  7.584436e-17  4.157330e-16 -1.861400e-16   \n",
       "v14    -3.808118e-17 -1.439858e-15  1.162529e-15  1.642378e-15  1.977020e-16   \n",
       "v15     1.000000e+00  1.332390e-15  6.647712e-16  3.475832e-16 -1.483185e-15   \n",
       "v16     1.332390e-15  1.000000e+00  2.482413e-15 -2.420915e-15  1.307241e-15   \n",
       "v17     6.647712e-16  2.482413e-15  1.000000e+00 -4.894901e-15 -3.883099e-16   \n",
       "v18     3.475832e-16 -2.420915e-15 -4.894901e-15  1.000000e+00 -2.499138e-15   \n",
       "v19    -1.483185e-15  1.307241e-15 -3.883099e-16 -2.499138e-15  1.000000e+00   \n",
       "v20     4.300086e-16  5.176564e-16 -1.390308e-15 -3.711302e-16  2.614882e-16   \n",
       "v21     6.605263e-17 -4.715090e-16 -8.230527e-16 -9.408680e-16  5.115885e-16   \n",
       "v22    -4.208921e-16 -7.923387e-17 -8.743398e-16 -4.819365e-16 -1.163768e-15   \n",
       "v23    -3.912243e-16  5.020770e-16  3.706214e-16 -1.912006e-16  7.032035e-16   \n",
       "v24    -4.478263e-16 -3.005985e-16 -2.403828e-16 -8.986916e-17  2.587708e-17   \n",
       "v25     3.206423e-16 -1.345418e-15  2.666806e-16 -6.629212e-17  9.577163e-16   \n",
       "v26     2.817791e-16 -7.290010e-16  6.932833e-16  2.990167e-16  5.898033e-16   \n",
       "v27    -1.143519e-15  6.789513e-16  6.148525e-16  2.242791e-16 -2.959370e-16   \n",
       "v28    -1.194130e-15  7.588849e-16 -5.534540e-17  7.976796e-16 -1.405379e-15   \n",
       "amount -2.985848e-03 -3.909527e-03  7.309042e-03  3.565034e-02 -5.615079e-02   \n",
       "class  -4.223402e-03 -1.965389e-01 -3.264811e-01 -1.114853e-01  3.478301e-02   \n",
       "\n",
       "                 v20           v21           v22           v23           v24  \\\n",
       "time   -5.086602e-02  4.473573e-02  1.440591e-01  5.114236e-02 -1.618187e-02   \n",
       "v1      4.654551e-16 -2.457409e-16 -4.290944e-16  6.168652e-16 -4.425156e-17   \n",
       "v2      2.506675e-16 -8.480447e-17  1.526333e-16  1.634231e-16  1.247925e-17   \n",
       "v3     -9.316409e-16  5.706192e-17 -1.133902e-15 -4.983035e-16  2.686834e-19   \n",
       "v4     -1.857247e-16 -1.949553e-16 -6.276051e-17  9.164206e-17  1.584638e-16   \n",
       "v5     -3.554057e-16 -3.920976e-16  1.253751e-16 -8.428683e-18 -1.149255e-15   \n",
       "v6     -1.858755e-16  5.833316e-17 -4.705235e-19  1.046712e-16 -1.071589e-15   \n",
       "v7      9.379684e-16 -2.027779e-16 -8.898922e-16 -4.387401e-16  7.434913e-18   \n",
       "v8      2.033737e-16  3.892798e-16  2.026927e-16  6.377260e-17 -1.047097e-16   \n",
       "v9     -2.343720e-16  1.936953e-16 -7.071869e-16 -5.214137e-16 -1.430343e-16   \n",
       "v10    -1.331556e-15  1.177547e-15 -6.418202e-16  3.214491e-16 -1.355885e-16   \n",
       "v11    -1.481299e-16 -5.658364e-16  7.772895e-16 -4.505332e-16  1.933267e-15   \n",
       "v12     3.430282e-16  7.300527e-16  1.644699e-16  1.800885e-16  4.436512e-16   \n",
       "v13     5.623856e-18  1.008461e-16  6.747721e-17 -7.132064e-16 -1.397470e-16   \n",
       "v14    -1.181342e-17 -3.356561e-16  3.740383e-16  3.883204e-16  2.003482e-16   \n",
       "v15     4.300086e-16  6.605263e-17 -4.208921e-16 -3.912243e-16 -4.478263e-16   \n",
       "v16     5.176564e-16 -4.715090e-16 -7.923387e-17  5.020770e-16 -3.005985e-16   \n",
       "v17    -1.390308e-15 -8.230527e-16 -8.743398e-16  3.706214e-16 -2.403828e-16   \n",
       "v18    -3.711302e-16 -9.408680e-16 -4.819365e-16 -1.912006e-16 -8.986916e-17   \n",
       "v19     2.614882e-16  5.115885e-16 -1.163768e-15  7.032035e-16  2.587708e-17   \n",
       "v20     1.000000e+00 -7.614597e-16  1.009285e-15  2.712885e-16  1.277215e-16   \n",
       "v21    -7.614597e-16  1.000000e+00  3.649908e-15  8.119580e-16  1.761054e-16   \n",
       "v22     1.009285e-15  3.649908e-15  1.000000e+00 -7.303916e-17  9.970809e-17   \n",
       "v23     2.712885e-16  8.119580e-16 -7.303916e-17  1.000000e+00  2.130519e-17   \n",
       "v24     1.277215e-16  1.761054e-16  9.970809e-17  2.130519e-17  1.000000e+00   \n",
       "v25     1.410054e-16 -1.686082e-16 -5.018575e-16 -8.232727e-17  1.015391e-15   \n",
       "v26    -2.803504e-16 -5.557329e-16 -2.503187e-17  1.114524e-15  1.343722e-16   \n",
       "v27    -1.138829e-15 -1.211281e-15  8.461337e-17  2.839721e-16 -2.274142e-16   \n",
       "v28    -2.436795e-16  5.278775e-16 -6.627203e-16  1.481903e-15 -2.819805e-16   \n",
       "amount  3.394034e-01  1.059989e-01 -6.480065e-02 -1.126326e-01  5.146217e-03   \n",
       "class   2.009032e-02  4.041338e-02  8.053175e-04 -2.685156e-03 -7.220907e-03   \n",
       "\n",
       "                 v25           v26           v27           v28    amount  \\\n",
       "time   -2.330828e-01 -4.140710e-02 -5.134591e-03 -9.412688e-03 -0.010596   \n",
       "v1     -9.605737e-16 -1.581290e-17  1.198124e-16  2.083082e-15 -0.227709   \n",
       "v2     -4.478846e-16  2.057310e-16 -4.966953e-16 -5.093836e-16 -0.531409   \n",
       "v3     -1.104734e-15 -1.238062e-16  1.045747e-15  9.775546e-16 -0.210880   \n",
       "v4      6.070716e-16 -4.247268e-16  3.977061e-17 -2.761403e-18  0.098732   \n",
       "v5      4.808532e-16  4.319541e-16  6.590482e-16 -5.613951e-18 -0.386356   \n",
       "v6      4.562861e-16 -1.357067e-16 -4.452461e-16  2.594754e-16  0.215981   \n",
       "v7     -3.094082e-16 -9.657637e-16 -1.782106e-15 -2.776530e-16  0.397311   \n",
       "v8     -4.653279e-16 -1.727276e-16  1.299943e-16 -6.200930e-16 -0.103079   \n",
       "v9      6.757763e-16 -7.888853e-16 -6.709655e-17  1.110541e-15 -0.044246   \n",
       "v10    -2.846052e-16 -3.028119e-16 -2.197977e-16  4.864782e-17 -0.101502   \n",
       "v11    -5.600475e-16 -1.003221e-16 -2.640281e-16 -3.792314e-16  0.000104   \n",
       "v12    -5.712973e-16 -2.359969e-16 -4.672391e-16  6.415167e-16 -0.009542   \n",
       "v13    -5.497612e-16 -1.769255e-16 -4.720898e-16  1.144372e-15  0.005293   \n",
       "v14    -8.547932e-16 -1.660327e-16  1.044274e-16  2.289427e-15  0.033751   \n",
       "v15     3.206423e-16  2.817791e-16 -1.143519e-15 -1.194130e-15 -0.002986   \n",
       "v16    -1.345418e-15 -7.290010e-16  6.789513e-16  7.588849e-16 -0.003910   \n",
       "v17     2.666806e-16  6.932833e-16  6.148525e-16 -5.534540e-17  0.007309   \n",
       "v18    -6.629212e-17  2.990167e-16  2.242791e-16  7.976796e-16  0.035650   \n",
       "v19     9.577163e-16  5.898033e-16 -2.959370e-16 -1.405379e-15 -0.056151   \n",
       "v20     1.410054e-16 -2.803504e-16 -1.138829e-15 -2.436795e-16  0.339403   \n",
       "v21    -1.686082e-16 -5.557329e-16 -1.211281e-15  5.278775e-16  0.105999   \n",
       "v22    -5.018575e-16 -2.503187e-17  8.461337e-17 -6.627203e-16 -0.064801   \n",
       "v23    -8.232727e-17  1.114524e-15  2.839721e-16  1.481903e-15 -0.112633   \n",
       "v24     1.015391e-15  1.343722e-16 -2.274142e-16 -2.819805e-16  0.005146   \n",
       "v25     1.000000e+00  2.646517e-15 -6.406679e-16 -7.008939e-16 -0.047837   \n",
       "v26     2.646517e-15  1.000000e+00 -3.667715e-16 -2.782204e-16 -0.003208   \n",
       "v27    -6.406679e-16 -3.667715e-16  1.000000e+00 -3.061287e-16  0.028825   \n",
       "v28    -7.008939e-16 -2.782204e-16 -3.061287e-16  1.000000e+00  0.010258   \n",
       "amount -4.783686e-02 -3.208037e-03  2.882546e-02  1.025822e-02  1.000000   \n",
       "class   3.307706e-03  4.455398e-03  1.757973e-02  9.536041e-03  0.005632   \n",
       "\n",
       "           class  \n",
       "time   -0.012323  \n",
       "v1     -0.101347  \n",
       "v2      0.091289  \n",
       "v3     -0.192961  \n",
       "v4      0.133447  \n",
       "v5     -0.094974  \n",
       "v6     -0.043643  \n",
       "v7     -0.187257  \n",
       "v8      0.019875  \n",
       "v9     -0.097733  \n",
       "v10    -0.216883  \n",
       "v11     0.154876  \n",
       "v12    -0.260593  \n",
       "v13    -0.004570  \n",
       "v14    -0.302544  \n",
       "v15    -0.004223  \n",
       "v16    -0.196539  \n",
       "v17    -0.326481  \n",
       "v18    -0.111485  \n",
       "v19     0.034783  \n",
       "v20     0.020090  \n",
       "v21     0.040413  \n",
       "v22     0.000805  \n",
       "v23    -0.002685  \n",
       "v24    -0.007221  \n",
       "v25     0.003308  \n",
       "v26     0.004455  \n",
       "v27     0.017580  \n",
       "v28     0.009536  \n",
       "amount  0.005632  \n",
       "class   1.000000  "
      ]
     },
     "execution_count": 10,
     "metadata": {},
     "output_type": "execute_result"
    }
   ],
   "source": [
    "df.corr()"
   ]
  },
  {
   "cell_type": "code",
   "execution_count": 11,
   "metadata": {},
   "outputs": [
    {
     "data": {
      "image/png": "[encoded data removed]",
      "text/plain": [
       "<Figure size 1080x576 with 2 Axes>"
      ]
     },
     "metadata": {
      "needs_background": "light"
     },
     "output_type": "display_data"
    }
   ],
   "source": [
    "plt.figure(figsize = (15,8))\n",
    "sns.heatmap(round(df.corr(),ndigits=2),annot=True);"
   ]
  },
  {
   "cell_type": "code",
   "execution_count": 12,
   "metadata": {
    "scrolled": true
   },
   "outputs": [
    {
     "data": {
      "text/plain": [
       "False    283726\n",
       "True       1081\n",
       "dtype: int64"
      ]
     },
     "execution_count": 12,
     "metadata": {},
     "output_type": "execute_result"
    }
   ],
   "source": [
    "df.duplicated().value_counts()"
   ]
  },
  {
   "cell_type": "code",
   "execution_count": 13,
   "metadata": {},
   "outputs": [
    {
     "data": {
      "text/plain": [
       "0    284315\n",
       "1       492\n",
       "Name: class, dtype: int64"
      ]
     },
     "execution_count": 13,
     "metadata": {},
     "output_type": "execute_result"
    }
   ],
   "source": [
    "df[\"class\"].value_counts() #only 492 class values are 1"
   ]
  },
  {
   "cell_type": "code",
   "execution_count": 14,
   "metadata": {},
   "outputs": [
    {
     "data": {
      "text/plain": [
       "<AxesSubplot:>"
      ]
     },
     "execution_count": 14,
     "metadata": {},
     "output_type": "execute_result"
    },
    {
     "data": {
      "image/png": "[encoded data removed]",
      "text/plain": [
       "<Figure size 432x288 with 1 Axes>"
      ]
     },
     "metadata": {
      "needs_background": "light"
     },
     "output_type": "display_data"
    }
   ],
   "source": [
    "df[\"class\"].value_counts().plot(kind=\"bar\") #highly unbalanced data"
   ]
  },
  {
   "cell_type": "code",
   "execution_count": 15,
   "metadata": {
    "scrolled": true
   },
   "outputs": [
    {
     "data": {
      "text/plain": [
       "163152.0    36\n",
       "64947.0     26\n",
       "68780.0     25\n",
       "3767.0      21\n",
       "3770.0      20\n",
       "            ..\n",
       "81790.0      1\n",
       "54289.0      1\n",
       "37651.0      1\n",
       "112892.0     1\n",
       "119665.0     1\n",
       "Name: time, Length: 124592, dtype: int64"
      ]
     },
     "execution_count": 15,
     "metadata": {},
     "output_type": "execute_result"
    }
   ],
   "source": [
    "df.time.value_counts()"
   ]
  },
  {
   "cell_type": "code",
   "execution_count": 16,
   "metadata": {},
   "outputs": [
    {
     "data": {
      "text/plain": [
       "1.00      13688\n",
       "1.98       6044\n",
       "0.89       4872\n",
       "9.99       4747\n",
       "15.00      3280\n",
       "          ...  \n",
       "438.10        1\n",
       "152.29        1\n",
       "156.45        1\n",
       "724.44        1\n",
       "102.77        1\n",
       "Name: amount, Length: 32767, dtype: int64"
      ]
     },
     "execution_count": 16,
     "metadata": {},
     "output_type": "execute_result"
    }
   ],
   "source": [
    "df.amount.value_counts()"
   ]
  },
  {
   "cell_type": "code",
   "execution_count": 17,
   "metadata": {},
   "outputs": [
    {
     "data": {
      "image/png": "[encoded data removed]",
      "text/plain": [
       "<Figure size 432x288 with 1 Axes>"
      ]
     },
     "metadata": {
      "needs_background": "light"
     },
     "output_type": "display_data"
    }
   ],
   "source": [
    "fraud = df[df[\"class\"]==1]\n",
    "not_fraud = df[df[\"class\"]==0]\n",
    "\n",
    "sns.distplot(x=fraud[\"time\"],a=fraud)\n",
    "plt.xlabel(\"Class 1 over time\");"
   ]
  },
  {
   "cell_type": "code",
   "execution_count": 18,
   "metadata": {},
   "outputs": [
    {
     "data": {
      "image/png": "[encoded data removed]",
      "text/plain": [
       "<Figure size 432x288 with 1 Axes>"
      ]
     },
     "metadata": {
      "needs_background": "light"
     },
     "output_type": "display_data"
    }
   ],
   "source": [
    "sns.distplot(x=not_fraud[\"time\"],a=not_fraud)\n",
    "plt.xlabel(\"Class 0 over time\");"
   ]
  },
  {
   "cell_type": "code",
   "execution_count": 19,
   "metadata": {
    "scrolled": true
   },
   "outputs": [
    {
     "data": {
      "text/html": [
       "<div>\n",
       "<style scoped>\n",
       "    .dataframe tbody tr th:only-of-type {\n",
       "        vertical-align: middle;\n",
       "    }\n",
       "\n",
       "    .dataframe tbody tr th {\n",
       "        vertical-align: top;\n",
       "    }\n",
       "\n",
       "    .dataframe thead th {\n",
       "        text-align: right;\n",
       "    }\n",
       "</style>\n",
       "<table border=\"1\" class=\"dataframe\">\n",
       "  <thead>\n",
       "    <tr style=\"text-align: right;\">\n",
       "      <th></th>\n",
       "      <th>time</th>\n",
       "      <th>v1</th>\n",
       "      <th>v2</th>\n",
       "      <th>v3</th>\n",
       "      <th>v4</th>\n",
       "      <th>v5</th>\n",
       "      <th>v6</th>\n",
       "      <th>v7</th>\n",
       "      <th>v8</th>\n",
       "      <th>v9</th>\n",
       "      <th>v10</th>\n",
       "      <th>v11</th>\n",
       "      <th>v12</th>\n",
       "      <th>v13</th>\n",
       "      <th>v14</th>\n",
       "      <th>v15</th>\n",
       "      <th>v16</th>\n",
       "      <th>v17</th>\n",
       "      <th>v18</th>\n",
       "      <th>v19</th>\n",
       "      <th>v20</th>\n",
       "      <th>v21</th>\n",
       "      <th>v22</th>\n",
       "      <th>v23</th>\n",
       "      <th>v24</th>\n",
       "      <th>v25</th>\n",
       "      <th>v26</th>\n",
       "      <th>v27</th>\n",
       "      <th>v28</th>\n",
       "      <th>amount</th>\n",
       "    </tr>\n",
       "    <tr>\n",
       "      <th>class</th>\n",
       "      <th></th>\n",
       "      <th></th>\n",
       "      <th></th>\n",
       "      <th></th>\n",
       "      <th></th>\n",
       "      <th></th>\n",
       "      <th></th>\n",
       "      <th></th>\n",
       "      <th></th>\n",
       "      <th></th>\n",
       "      <th></th>\n",
       "      <th></th>\n",
       "      <th></th>\n",
       "      <th></th>\n",
       "      <th></th>\n",
       "      <th></th>\n",
       "      <th></th>\n",
       "      <th></th>\n",
       "      <th></th>\n",
       "      <th></th>\n",
       "      <th></th>\n",
       "      <th></th>\n",
       "      <th></th>\n",
       "      <th></th>\n",
       "      <th></th>\n",
       "      <th></th>\n",
       "      <th></th>\n",
       "      <th></th>\n",
       "      <th></th>\n",
       "      <th></th>\n",
       "    </tr>\n",
       "  </thead>\n",
       "  <tbody>\n",
       "    <tr>\n",
       "      <th>0</th>\n",
       "      <td>94838.202258</td>\n",
       "      <td>0.008258</td>\n",
       "      <td>-0.006271</td>\n",
       "      <td>0.012171</td>\n",
       "      <td>-0.007860</td>\n",
       "      <td>0.005453</td>\n",
       "      <td>0.002419</td>\n",
       "      <td>0.009637</td>\n",
       "      <td>-0.000987</td>\n",
       "      <td>0.004467</td>\n",
       "      <td>0.009824</td>\n",
       "      <td>-0.006576</td>\n",
       "      <td>0.010832</td>\n",
       "      <td>0.000189</td>\n",
       "      <td>0.012064</td>\n",
       "      <td>0.000161</td>\n",
       "      <td>0.007164</td>\n",
       "      <td>0.011535</td>\n",
       "      <td>0.003887</td>\n",
       "      <td>-0.001178</td>\n",
       "      <td>-0.000644</td>\n",
       "      <td>-0.001235</td>\n",
       "      <td>-0.000024</td>\n",
       "      <td>0.000070</td>\n",
       "      <td>0.000182</td>\n",
       "      <td>-0.000072</td>\n",
       "      <td>-0.000089</td>\n",
       "      <td>-0.000295</td>\n",
       "      <td>-0.000131</td>\n",
       "      <td>88.291022</td>\n",
       "    </tr>\n",
       "    <tr>\n",
       "      <th>1</th>\n",
       "      <td>80746.806911</td>\n",
       "      <td>-4.771948</td>\n",
       "      <td>3.623778</td>\n",
       "      <td>-7.033281</td>\n",
       "      <td>4.542029</td>\n",
       "      <td>-3.151225</td>\n",
       "      <td>-1.397737</td>\n",
       "      <td>-5.568731</td>\n",
       "      <td>0.570636</td>\n",
       "      <td>-2.581123</td>\n",
       "      <td>-5.676883</td>\n",
       "      <td>3.800173</td>\n",
       "      <td>-6.259393</td>\n",
       "      <td>-0.109334</td>\n",
       "      <td>-6.971723</td>\n",
       "      <td>-0.092929</td>\n",
       "      <td>-4.139946</td>\n",
       "      <td>-6.665836</td>\n",
       "      <td>-2.246308</td>\n",
       "      <td>0.680659</td>\n",
       "      <td>0.372319</td>\n",
       "      <td>0.713588</td>\n",
       "      <td>0.014049</td>\n",
       "      <td>-0.040308</td>\n",
       "      <td>-0.105130</td>\n",
       "      <td>0.041449</td>\n",
       "      <td>0.051648</td>\n",
       "      <td>0.170575</td>\n",
       "      <td>0.075667</td>\n",
       "      <td>122.211321</td>\n",
       "    </tr>\n",
       "  </tbody>\n",
       "</table>\n",
       "</div>"
      ],
      "text/plain": [
       "               time        v1        v2        v3        v4        v5  \\\n",
       "class                                                                   \n",
       "0      94838.202258  0.008258 -0.006271  0.012171 -0.007860  0.005453   \n",
       "1      80746.806911 -4.771948  3.623778 -7.033281  4.542029 -3.151225   \n",
       "\n",
       "             v6        v7        v8        v9       v10       v11       v12  \\\n",
       "class                                                                         \n",
       "0      0.002419  0.009637 -0.000987  0.004467  0.009824 -0.006576  0.010832   \n",
       "1     -1.397737 -5.568731  0.570636 -2.581123 -5.676883  3.800173 -6.259393   \n",
       "\n",
       "            v13       v14       v15       v16       v17       v18       v19  \\\n",
       "class                                                                         \n",
       "0      0.000189  0.012064  0.000161  0.007164  0.011535  0.003887 -0.001178   \n",
       "1     -0.109334 -6.971723 -0.092929 -4.139946 -6.665836 -2.246308  0.680659   \n",
       "\n",
       "            v20       v21       v22       v23       v24       v25       v26  \\\n",
       "class                                                                         \n",
       "0     -0.000644 -0.001235 -0.000024  0.000070  0.000182 -0.000072 -0.000089   \n",
       "1      0.372319  0.713588  0.014049 -0.040308 -0.105130  0.041449  0.051648   \n",
       "\n",
       "            v27       v28      amount  \n",
       "class                                  \n",
       "0     -0.000295 -0.000131   88.291022  \n",
       "1      0.170575  0.075667  122.211321  "
      ]
     },
     "execution_count": 19,
     "metadata": {},
     "output_type": "execute_result"
    }
   ],
   "source": [
    "df.groupby(\"class\").mean()"
   ]
  },
  {
   "cell_type": "code",
   "execution_count": 20,
   "metadata": {},
   "outputs": [
    {
     "data": {
      "text/html": [
       "<div>\n",
       "<style scoped>\n",
       "    .dataframe tbody tr th:only-of-type {\n",
       "        vertical-align: middle;\n",
       "    }\n",
       "\n",
       "    .dataframe tbody tr th {\n",
       "        vertical-align: top;\n",
       "    }\n",
       "\n",
       "    .dataframe thead th {\n",
       "        text-align: right;\n",
       "    }\n",
       "</style>\n",
       "<table border=\"1\" class=\"dataframe\">\n",
       "  <thead>\n",
       "    <tr style=\"text-align: right;\">\n",
       "      <th></th>\n",
       "      <th>time</th>\n",
       "      <th>v1</th>\n",
       "      <th>v2</th>\n",
       "      <th>v3</th>\n",
       "      <th>v4</th>\n",
       "      <th>v5</th>\n",
       "      <th>v6</th>\n",
       "      <th>v7</th>\n",
       "      <th>v8</th>\n",
       "      <th>v9</th>\n",
       "      <th>v10</th>\n",
       "      <th>v11</th>\n",
       "      <th>v12</th>\n",
       "      <th>v13</th>\n",
       "      <th>v14</th>\n",
       "      <th>v15</th>\n",
       "      <th>v16</th>\n",
       "      <th>v17</th>\n",
       "      <th>v18</th>\n",
       "      <th>v19</th>\n",
       "      <th>v20</th>\n",
       "      <th>v21</th>\n",
       "      <th>v22</th>\n",
       "      <th>v23</th>\n",
       "      <th>v24</th>\n",
       "      <th>v25</th>\n",
       "      <th>v26</th>\n",
       "      <th>v27</th>\n",
       "      <th>v28</th>\n",
       "      <th>amount</th>\n",
       "    </tr>\n",
       "    <tr>\n",
       "      <th>class</th>\n",
       "      <th></th>\n",
       "      <th></th>\n",
       "      <th></th>\n",
       "      <th></th>\n",
       "      <th></th>\n",
       "      <th></th>\n",
       "      <th></th>\n",
       "      <th></th>\n",
       "      <th></th>\n",
       "      <th></th>\n",
       "      <th></th>\n",
       "      <th></th>\n",
       "      <th></th>\n",
       "      <th></th>\n",
       "      <th></th>\n",
       "      <th></th>\n",
       "      <th></th>\n",
       "      <th></th>\n",
       "      <th></th>\n",
       "      <th></th>\n",
       "      <th></th>\n",
       "      <th></th>\n",
       "      <th></th>\n",
       "      <th></th>\n",
       "      <th></th>\n",
       "      <th></th>\n",
       "      <th></th>\n",
       "      <th></th>\n",
       "      <th></th>\n",
       "      <th></th>\n",
       "    </tr>\n",
       "  </thead>\n",
       "  <tbody>\n",
       "    <tr>\n",
       "      <th>0</th>\n",
       "      <td>0.0</td>\n",
       "      <td>-56.40751</td>\n",
       "      <td>-72.715728</td>\n",
       "      <td>-48.325589</td>\n",
       "      <td>-5.683171</td>\n",
       "      <td>-113.743307</td>\n",
       "      <td>-26.160506</td>\n",
       "      <td>-31.764946</td>\n",
       "      <td>-73.216718</td>\n",
       "      <td>-6.290730</td>\n",
       "      <td>-14.741096</td>\n",
       "      <td>-4.797473</td>\n",
       "      <td>-15.144988</td>\n",
       "      <td>-5.791881</td>\n",
       "      <td>-18.392091</td>\n",
       "      <td>-4.391307</td>\n",
       "      <td>-10.115560</td>\n",
       "      <td>-17.098444</td>\n",
       "      <td>-5.366660</td>\n",
       "      <td>-7.213527</td>\n",
       "      <td>-54.497720</td>\n",
       "      <td>-34.830382</td>\n",
       "      <td>-10.933144</td>\n",
       "      <td>-44.807735</td>\n",
       "      <td>-2.836627</td>\n",
       "      <td>-10.295397</td>\n",
       "      <td>-2.604551</td>\n",
       "      <td>-22.565679</td>\n",
       "      <td>-15.430084</td>\n",
       "      <td>0.0</td>\n",
       "    </tr>\n",
       "    <tr>\n",
       "      <th>1</th>\n",
       "      <td>406.0</td>\n",
       "      <td>-30.55238</td>\n",
       "      <td>-8.402154</td>\n",
       "      <td>-31.103685</td>\n",
       "      <td>-1.313275</td>\n",
       "      <td>-22.105532</td>\n",
       "      <td>-6.406267</td>\n",
       "      <td>-43.557242</td>\n",
       "      <td>-41.044261</td>\n",
       "      <td>-13.434066</td>\n",
       "      <td>-24.588262</td>\n",
       "      <td>-1.702228</td>\n",
       "      <td>-18.683715</td>\n",
       "      <td>-3.127795</td>\n",
       "      <td>-19.214325</td>\n",
       "      <td>-4.498945</td>\n",
       "      <td>-14.129855</td>\n",
       "      <td>-25.162799</td>\n",
       "      <td>-9.498746</td>\n",
       "      <td>-3.681904</td>\n",
       "      <td>-4.128186</td>\n",
       "      <td>-22.797604</td>\n",
       "      <td>-8.887017</td>\n",
       "      <td>-19.254328</td>\n",
       "      <td>-2.028024</td>\n",
       "      <td>-4.781606</td>\n",
       "      <td>-1.152671</td>\n",
       "      <td>-7.263482</td>\n",
       "      <td>-1.869290</td>\n",
       "      <td>0.0</td>\n",
       "    </tr>\n",
       "  </tbody>\n",
       "</table>\n",
       "</div>"
      ],
      "text/plain": [
       "        time        v1         v2         v3        v4          v5         v6  \\\n",
       "class                                                                           \n",
       "0        0.0 -56.40751 -72.715728 -48.325589 -5.683171 -113.743307 -26.160506   \n",
       "1      406.0 -30.55238  -8.402154 -31.103685 -1.313275  -22.105532  -6.406267   \n",
       "\n",
       "              v7         v8         v9        v10       v11        v12  \\\n",
       "class                                                                    \n",
       "0     -31.764946 -73.216718  -6.290730 -14.741096 -4.797473 -15.144988   \n",
       "1     -43.557242 -41.044261 -13.434066 -24.588262 -1.702228 -18.683715   \n",
       "\n",
       "            v13        v14       v15        v16        v17       v18  \\\n",
       "class                                                                  \n",
       "0     -5.791881 -18.392091 -4.391307 -10.115560 -17.098444 -5.366660   \n",
       "1     -3.127795 -19.214325 -4.498945 -14.129855 -25.162799 -9.498746   \n",
       "\n",
       "            v19        v20        v21        v22        v23       v24  \\\n",
       "class                                                                   \n",
       "0     -7.213527 -54.497720 -34.830382 -10.933144 -44.807735 -2.836627   \n",
       "1     -3.681904  -4.128186 -22.797604  -8.887017 -19.254328 -2.028024   \n",
       "\n",
       "             v25       v26        v27        v28  amount  \n",
       "class                                                     \n",
       "0     -10.295397 -2.604551 -22.565679 -15.430084     0.0  \n",
       "1      -4.781606 -1.152671  -7.263482  -1.869290     0.0  "
      ]
     },
     "execution_count": 20,
     "metadata": {},
     "output_type": "execute_result"
    }
   ],
   "source": [
    "df.groupby(\"class\").min()"
   ]
  },
  {
   "cell_type": "code",
   "execution_count": 21,
   "metadata": {},
   "outputs": [
    {
     "data": {
      "text/html": [
       "<div>\n",
       "<style scoped>\n",
       "    .dataframe tbody tr th:only-of-type {\n",
       "        vertical-align: middle;\n",
       "    }\n",
       "\n",
       "    .dataframe tbody tr th {\n",
       "        vertical-align: top;\n",
       "    }\n",
       "\n",
       "    .dataframe thead th {\n",
       "        text-align: right;\n",
       "    }\n",
       "</style>\n",
       "<table border=\"1\" class=\"dataframe\">\n",
       "  <thead>\n",
       "    <tr style=\"text-align: right;\">\n",
       "      <th></th>\n",
       "      <th>time</th>\n",
       "      <th>v1</th>\n",
       "      <th>v2</th>\n",
       "      <th>v3</th>\n",
       "      <th>v4</th>\n",
       "      <th>v5</th>\n",
       "      <th>v6</th>\n",
       "      <th>v7</th>\n",
       "      <th>v8</th>\n",
       "      <th>v9</th>\n",
       "      <th>v10</th>\n",
       "      <th>v11</th>\n",
       "      <th>v12</th>\n",
       "      <th>v13</th>\n",
       "      <th>v14</th>\n",
       "      <th>v15</th>\n",
       "      <th>v16</th>\n",
       "      <th>v17</th>\n",
       "      <th>v18</th>\n",
       "      <th>v19</th>\n",
       "      <th>v20</th>\n",
       "      <th>v21</th>\n",
       "      <th>v22</th>\n",
       "      <th>v23</th>\n",
       "      <th>v24</th>\n",
       "      <th>v25</th>\n",
       "      <th>v26</th>\n",
       "      <th>v27</th>\n",
       "      <th>v28</th>\n",
       "      <th>amount</th>\n",
       "    </tr>\n",
       "    <tr>\n",
       "      <th>class</th>\n",
       "      <th></th>\n",
       "      <th></th>\n",
       "      <th></th>\n",
       "      <th></th>\n",
       "      <th></th>\n",
       "      <th></th>\n",
       "      <th></th>\n",
       "      <th></th>\n",
       "      <th></th>\n",
       "      <th></th>\n",
       "      <th></th>\n",
       "      <th></th>\n",
       "      <th></th>\n",
       "      <th></th>\n",
       "      <th></th>\n",
       "      <th></th>\n",
       "      <th></th>\n",
       "      <th></th>\n",
       "      <th></th>\n",
       "      <th></th>\n",
       "      <th></th>\n",
       "      <th></th>\n",
       "      <th></th>\n",
       "      <th></th>\n",
       "      <th></th>\n",
       "      <th></th>\n",
       "      <th></th>\n",
       "      <th></th>\n",
       "      <th></th>\n",
       "      <th></th>\n",
       "    </tr>\n",
       "  </thead>\n",
       "  <tbody>\n",
       "    <tr>\n",
       "      <th>0</th>\n",
       "      <td>172792.0</td>\n",
       "      <td>2.454930</td>\n",
       "      <td>18.902453</td>\n",
       "      <td>9.382558</td>\n",
       "      <td>16.875344</td>\n",
       "      <td>34.801666</td>\n",
       "      <td>73.301626</td>\n",
       "      <td>120.589494</td>\n",
       "      <td>18.709255</td>\n",
       "      <td>15.594995</td>\n",
       "      <td>23.745136</td>\n",
       "      <td>10.002190</td>\n",
       "      <td>7.848392</td>\n",
       "      <td>7.126883</td>\n",
       "      <td>10.526766</td>\n",
       "      <td>8.877742</td>\n",
       "      <td>17.315112</td>\n",
       "      <td>9.253526</td>\n",
       "      <td>5.041069</td>\n",
       "      <td>5.591971</td>\n",
       "      <td>39.420904</td>\n",
       "      <td>22.614889</td>\n",
       "      <td>10.503090</td>\n",
       "      <td>22.528412</td>\n",
       "      <td>4.584549</td>\n",
       "      <td>7.519589</td>\n",
       "      <td>3.517346</td>\n",
       "      <td>31.612198</td>\n",
       "      <td>33.847808</td>\n",
       "      <td>25691.16</td>\n",
       "    </tr>\n",
       "    <tr>\n",
       "      <th>1</th>\n",
       "      <td>170348.0</td>\n",
       "      <td>2.132386</td>\n",
       "      <td>22.057729</td>\n",
       "      <td>2.250210</td>\n",
       "      <td>12.114672</td>\n",
       "      <td>11.095089</td>\n",
       "      <td>6.474115</td>\n",
       "      <td>5.802537</td>\n",
       "      <td>20.007208</td>\n",
       "      <td>3.353525</td>\n",
       "      <td>4.031435</td>\n",
       "      <td>12.018913</td>\n",
       "      <td>1.375941</td>\n",
       "      <td>2.815440</td>\n",
       "      <td>3.442422</td>\n",
       "      <td>2.471358</td>\n",
       "      <td>3.139656</td>\n",
       "      <td>6.739384</td>\n",
       "      <td>3.790316</td>\n",
       "      <td>5.228342</td>\n",
       "      <td>11.059004</td>\n",
       "      <td>27.202839</td>\n",
       "      <td>8.361985</td>\n",
       "      <td>5.466230</td>\n",
       "      <td>1.091435</td>\n",
       "      <td>2.208209</td>\n",
       "      <td>2.745261</td>\n",
       "      <td>3.052358</td>\n",
       "      <td>1.779364</td>\n",
       "      <td>2125.87</td>\n",
       "    </tr>\n",
       "  </tbody>\n",
       "</table>\n",
       "</div>"
      ],
      "text/plain": [
       "           time        v1         v2        v3         v4         v5  \\\n",
       "class                                                                  \n",
       "0      172792.0  2.454930  18.902453  9.382558  16.875344  34.801666   \n",
       "1      170348.0  2.132386  22.057729  2.250210  12.114672  11.095089   \n",
       "\n",
       "              v6          v7         v8         v9        v10        v11  \\\n",
       "class                                                                      \n",
       "0      73.301626  120.589494  18.709255  15.594995  23.745136  10.002190   \n",
       "1       6.474115    5.802537  20.007208   3.353525   4.031435  12.018913   \n",
       "\n",
       "            v12       v13        v14       v15        v16       v17       v18  \\\n",
       "class                                                                           \n",
       "0      7.848392  7.126883  10.526766  8.877742  17.315112  9.253526  5.041069   \n",
       "1      1.375941  2.815440   3.442422  2.471358   3.139656  6.739384  3.790316   \n",
       "\n",
       "            v19        v20        v21        v22        v23       v24  \\\n",
       "class                                                                   \n",
       "0      5.591971  39.420904  22.614889  10.503090  22.528412  4.584549   \n",
       "1      5.228342  11.059004  27.202839   8.361985   5.466230  1.091435   \n",
       "\n",
       "            v25       v26        v27        v28    amount  \n",
       "class                                                      \n",
       "0      7.519589  3.517346  31.612198  33.847808  25691.16  \n",
       "1      2.208209  2.745261   3.052358   1.779364   2125.87  "
      ]
     },
     "execution_count": 21,
     "metadata": {},
     "output_type": "execute_result"
    }
   ],
   "source": [
    "df.groupby(\"class\").max()"
   ]
  },
  {
   "cell_type": "markdown",
   "metadata": {
    "id": "NGyEoz9fJQ0E"
   },
   "source": [
    "### Data Cleaning\n",
    "Check Missing Values and Outliers"
   ]
  },
  {
   "cell_type": "code",
   "execution_count": 22,
   "metadata": {
    "id": "BvpEPuGAMuHa"
   },
   "outputs": [
    {
     "data": {
      "text/html": [
       "<div>\n",
       "<style scoped>\n",
       "    .dataframe tbody tr th:only-of-type {\n",
       "        vertical-align: middle;\n",
       "    }\n",
       "\n",
       "    .dataframe tbody tr th {\n",
       "        vertical-align: top;\n",
       "    }\n",
       "\n",
       "    .dataframe thead th {\n",
       "        text-align: right;\n",
       "    }\n",
       "</style>\n",
       "<table border=\"1\" class=\"dataframe\">\n",
       "  <thead>\n",
       "    <tr style=\"text-align: right;\">\n",
       "      <th></th>\n",
       "      <th></th>\n",
       "      <th></th>\n",
       "      <th></th>\n",
       "      <th></th>\n",
       "      <th></th>\n",
       "      <th></th>\n",
       "      <th></th>\n",
       "      <th></th>\n",
       "      <th></th>\n",
       "      <th></th>\n",
       "      <th></th>\n",
       "      <th></th>\n",
       "      <th></th>\n",
       "      <th></th>\n",
       "      <th></th>\n",
       "      <th></th>\n",
       "      <th></th>\n",
       "      <th></th>\n",
       "      <th></th>\n",
       "      <th></th>\n",
       "      <th></th>\n",
       "      <th></th>\n",
       "      <th></th>\n",
       "      <th></th>\n",
       "      <th></th>\n",
       "      <th></th>\n",
       "      <th></th>\n",
       "      <th></th>\n",
       "      <th></th>\n",
       "      <th></th>\n",
       "      <th>0</th>\n",
       "    </tr>\n",
       "    <tr>\n",
       "      <th>time</th>\n",
       "      <th>v1</th>\n",
       "      <th>v2</th>\n",
       "      <th>v3</th>\n",
       "      <th>v4</th>\n",
       "      <th>v5</th>\n",
       "      <th>v6</th>\n",
       "      <th>v7</th>\n",
       "      <th>v8</th>\n",
       "      <th>v9</th>\n",
       "      <th>v10</th>\n",
       "      <th>v11</th>\n",
       "      <th>v12</th>\n",
       "      <th>v13</th>\n",
       "      <th>v14</th>\n",
       "      <th>v15</th>\n",
       "      <th>v16</th>\n",
       "      <th>v17</th>\n",
       "      <th>v18</th>\n",
       "      <th>v19</th>\n",
       "      <th>v20</th>\n",
       "      <th>v21</th>\n",
       "      <th>v22</th>\n",
       "      <th>v23</th>\n",
       "      <th>v24</th>\n",
       "      <th>v25</th>\n",
       "      <th>v26</th>\n",
       "      <th>v27</th>\n",
       "      <th>v28</th>\n",
       "      <th>amount</th>\n",
       "      <th>class</th>\n",
       "      <th></th>\n",
       "    </tr>\n",
       "  </thead>\n",
       "  <tbody>\n",
       "    <tr>\n",
       "      <th>False</th>\n",
       "      <th>False</th>\n",
       "      <th>False</th>\n",
       "      <th>False</th>\n",
       "      <th>False</th>\n",
       "      <th>False</th>\n",
       "      <th>False</th>\n",
       "      <th>False</th>\n",
       "      <th>False</th>\n",
       "      <th>False</th>\n",
       "      <th>False</th>\n",
       "      <th>False</th>\n",
       "      <th>False</th>\n",
       "      <th>False</th>\n",
       "      <th>False</th>\n",
       "      <th>False</th>\n",
       "      <th>False</th>\n",
       "      <th>False</th>\n",
       "      <th>False</th>\n",
       "      <th>False</th>\n",
       "      <th>False</th>\n",
       "      <th>False</th>\n",
       "      <th>False</th>\n",
       "      <th>False</th>\n",
       "      <th>False</th>\n",
       "      <th>False</th>\n",
       "      <th>False</th>\n",
       "      <th>False</th>\n",
       "      <th>False</th>\n",
       "      <th>False</th>\n",
       "      <th>False</th>\n",
       "      <td>284807</td>\n",
       "    </tr>\n",
       "  </tbody>\n",
       "</table>\n",
       "</div>"
      ],
      "text/plain": [
       "                                                                                                                                                                                                 0\n",
       "time  v1    v2    v3    v4    v5    v6    v7    v8    v9    v10   v11   v12   v13   v14   v15   v16   v17   v18   v19   v20   v21   v22   v23   v24   v25   v26   v27   v28   amount class        \n",
       "False False False False False False False False False False False False False False False False False False False False False False False False False False False False False False  False  284807"
      ]
     },
     "execution_count": 22,
     "metadata": {},
     "output_type": "execute_result"
    }
   ],
   "source": [
    "pd.DataFrame(df.isnull().value_counts())"
   ]
  },
  {
   "cell_type": "code",
   "execution_count": 23,
   "metadata": {},
   "outputs": [
    {
     "data": {
      "text/plain": [
       "False    283726\n",
       "True       1081\n",
       "dtype: int64"
      ]
     },
     "execution_count": 23,
     "metadata": {},
     "output_type": "execute_result"
    }
   ],
   "source": [
    "df.duplicated().value_counts()"
   ]
  },
  {
   "cell_type": "code",
   "execution_count": 24,
   "metadata": {},
   "outputs": [],
   "source": [
    "df.drop_duplicates(inplace=True,ignore_index=True)"
   ]
  },
  {
   "cell_type": "code",
   "execution_count": 25,
   "metadata": {
    "scrolled": false
   },
   "outputs": [
    {
     "data": {
      "text/html": [
       "<div>\n",
       "<style scoped>\n",
       "    .dataframe tbody tr th:only-of-type {\n",
       "        vertical-align: middle;\n",
       "    }\n",
       "\n",
       "    .dataframe tbody tr th {\n",
       "        vertical-align: top;\n",
       "    }\n",
       "\n",
       "    .dataframe thead th {\n",
       "        text-align: right;\n",
       "    }\n",
       "</style>\n",
       "<table border=\"1\" class=\"dataframe\">\n",
       "  <thead>\n",
       "    <tr style=\"text-align: right;\">\n",
       "      <th></th>\n",
       "      <th>time</th>\n",
       "      <th>v1</th>\n",
       "      <th>v2</th>\n",
       "      <th>v3</th>\n",
       "      <th>v4</th>\n",
       "      <th>v5</th>\n",
       "      <th>v6</th>\n",
       "      <th>v7</th>\n",
       "      <th>v8</th>\n",
       "      <th>v9</th>\n",
       "      <th>v10</th>\n",
       "      <th>v11</th>\n",
       "      <th>v12</th>\n",
       "      <th>v13</th>\n",
       "      <th>v14</th>\n",
       "      <th>v15</th>\n",
       "      <th>v16</th>\n",
       "      <th>v17</th>\n",
       "      <th>v18</th>\n",
       "      <th>v19</th>\n",
       "      <th>v20</th>\n",
       "      <th>v21</th>\n",
       "      <th>v22</th>\n",
       "      <th>v23</th>\n",
       "      <th>v24</th>\n",
       "      <th>v25</th>\n",
       "      <th>v26</th>\n",
       "      <th>v27</th>\n",
       "      <th>v28</th>\n",
       "      <th>amount</th>\n",
       "      <th>class</th>\n",
       "    </tr>\n",
       "  </thead>\n",
       "  <tbody>\n",
       "    <tr>\n",
       "      <th>0</th>\n",
       "      <td>0.0</td>\n",
       "      <td>-1.359807</td>\n",
       "      <td>-0.072781</td>\n",
       "      <td>2.536347</td>\n",
       "      <td>1.378155</td>\n",
       "      <td>-0.338321</td>\n",
       "      <td>0.462388</td>\n",
       "      <td>0.239599</td>\n",
       "      <td>0.098698</td>\n",
       "      <td>0.363787</td>\n",
       "      <td>0.090794</td>\n",
       "      <td>-0.551600</td>\n",
       "      <td>-0.617801</td>\n",
       "      <td>-0.991390</td>\n",
       "      <td>-0.311169</td>\n",
       "      <td>1.468177</td>\n",
       "      <td>-0.470401</td>\n",
       "      <td>0.207971</td>\n",
       "      <td>0.025791</td>\n",
       "      <td>0.403993</td>\n",
       "      <td>0.251412</td>\n",
       "      <td>-0.018307</td>\n",
       "      <td>0.277838</td>\n",
       "      <td>-0.110474</td>\n",
       "      <td>0.066928</td>\n",
       "      <td>0.128539</td>\n",
       "      <td>-0.189115</td>\n",
       "      <td>0.133558</td>\n",
       "      <td>-0.021053</td>\n",
       "      <td>149.62</td>\n",
       "      <td>0</td>\n",
       "    </tr>\n",
       "    <tr>\n",
       "      <th>1</th>\n",
       "      <td>0.0</td>\n",
       "      <td>1.191857</td>\n",
       "      <td>0.266151</td>\n",
       "      <td>0.166480</td>\n",
       "      <td>0.448154</td>\n",
       "      <td>0.060018</td>\n",
       "      <td>-0.082361</td>\n",
       "      <td>-0.078803</td>\n",
       "      <td>0.085102</td>\n",
       "      <td>-0.255425</td>\n",
       "      <td>-0.166974</td>\n",
       "      <td>1.612727</td>\n",
       "      <td>1.065235</td>\n",
       "      <td>0.489095</td>\n",
       "      <td>-0.143772</td>\n",
       "      <td>0.635558</td>\n",
       "      <td>0.463917</td>\n",
       "      <td>-0.114805</td>\n",
       "      <td>-0.183361</td>\n",
       "      <td>-0.145783</td>\n",
       "      <td>-0.069083</td>\n",
       "      <td>-0.225775</td>\n",
       "      <td>-0.638672</td>\n",
       "      <td>0.101288</td>\n",
       "      <td>-0.339846</td>\n",
       "      <td>0.167170</td>\n",
       "      <td>0.125895</td>\n",
       "      <td>-0.008983</td>\n",
       "      <td>0.014724</td>\n",
       "      <td>2.69</td>\n",
       "      <td>0</td>\n",
       "    </tr>\n",
       "    <tr>\n",
       "      <th>2</th>\n",
       "      <td>1.0</td>\n",
       "      <td>-1.358354</td>\n",
       "      <td>-1.340163</td>\n",
       "      <td>1.773209</td>\n",
       "      <td>0.379780</td>\n",
       "      <td>-0.503198</td>\n",
       "      <td>1.800499</td>\n",
       "      <td>0.791461</td>\n",
       "      <td>0.247676</td>\n",
       "      <td>-1.514654</td>\n",
       "      <td>0.207643</td>\n",
       "      <td>0.624501</td>\n",
       "      <td>0.066084</td>\n",
       "      <td>0.717293</td>\n",
       "      <td>-0.165946</td>\n",
       "      <td>2.345865</td>\n",
       "      <td>-2.890083</td>\n",
       "      <td>1.109969</td>\n",
       "      <td>-0.121359</td>\n",
       "      <td>-2.261857</td>\n",
       "      <td>0.524980</td>\n",
       "      <td>0.247998</td>\n",
       "      <td>0.771679</td>\n",
       "      <td>0.909412</td>\n",
       "      <td>-0.689281</td>\n",
       "      <td>-0.327642</td>\n",
       "      <td>-0.139097</td>\n",
       "      <td>-0.055353</td>\n",
       "      <td>-0.059752</td>\n",
       "      <td>378.66</td>\n",
       "      <td>0</td>\n",
       "    </tr>\n",
       "    <tr>\n",
       "      <th>3</th>\n",
       "      <td>1.0</td>\n",
       "      <td>-0.966272</td>\n",
       "      <td>-0.185226</td>\n",
       "      <td>1.792993</td>\n",
       "      <td>-0.863291</td>\n",
       "      <td>-0.010309</td>\n",
       "      <td>1.247203</td>\n",
       "      <td>0.237609</td>\n",
       "      <td>0.377436</td>\n",
       "      <td>-1.387024</td>\n",
       "      <td>-0.054952</td>\n",
       "      <td>-0.226487</td>\n",
       "      <td>0.178228</td>\n",
       "      <td>0.507757</td>\n",
       "      <td>-0.287924</td>\n",
       "      <td>-0.631418</td>\n",
       "      <td>-1.059647</td>\n",
       "      <td>-0.684093</td>\n",
       "      <td>1.965775</td>\n",
       "      <td>-1.232622</td>\n",
       "      <td>-0.208038</td>\n",
       "      <td>-0.108300</td>\n",
       "      <td>0.005274</td>\n",
       "      <td>-0.190321</td>\n",
       "      <td>-1.175575</td>\n",
       "      <td>0.647376</td>\n",
       "      <td>-0.221929</td>\n",
       "      <td>0.062723</td>\n",
       "      <td>0.061458</td>\n",
       "      <td>123.50</td>\n",
       "      <td>0</td>\n",
       "    </tr>\n",
       "    <tr>\n",
       "      <th>4</th>\n",
       "      <td>2.0</td>\n",
       "      <td>-1.158233</td>\n",
       "      <td>0.877737</td>\n",
       "      <td>1.548718</td>\n",
       "      <td>0.403034</td>\n",
       "      <td>-0.407193</td>\n",
       "      <td>0.095921</td>\n",
       "      <td>0.592941</td>\n",
       "      <td>-0.270533</td>\n",
       "      <td>0.817739</td>\n",
       "      <td>0.753074</td>\n",
       "      <td>-0.822843</td>\n",
       "      <td>0.538196</td>\n",
       "      <td>1.345852</td>\n",
       "      <td>-1.119670</td>\n",
       "      <td>0.175121</td>\n",
       "      <td>-0.451449</td>\n",
       "      <td>-0.237033</td>\n",
       "      <td>-0.038195</td>\n",
       "      <td>0.803487</td>\n",
       "      <td>0.408542</td>\n",
       "      <td>-0.009431</td>\n",
       "      <td>0.798278</td>\n",
       "      <td>-0.137458</td>\n",
       "      <td>0.141267</td>\n",
       "      <td>-0.206010</td>\n",
       "      <td>0.502292</td>\n",
       "      <td>0.219422</td>\n",
       "      <td>0.215153</td>\n",
       "      <td>69.99</td>\n",
       "      <td>0</td>\n",
       "    </tr>\n",
       "    <tr>\n",
       "      <th>...</th>\n",
       "      <td>...</td>\n",
       "      <td>...</td>\n",
       "      <td>...</td>\n",
       "      <td>...</td>\n",
       "      <td>...</td>\n",
       "      <td>...</td>\n",
       "      <td>...</td>\n",
       "      <td>...</td>\n",
       "      <td>...</td>\n",
       "      <td>...</td>\n",
       "      <td>...</td>\n",
       "      <td>...</td>\n",
       "      <td>...</td>\n",
       "      <td>...</td>\n",
       "      <td>...</td>\n",
       "      <td>...</td>\n",
       "      <td>...</td>\n",
       "      <td>...</td>\n",
       "      <td>...</td>\n",
       "      <td>...</td>\n",
       "      <td>...</td>\n",
       "      <td>...</td>\n",
       "      <td>...</td>\n",
       "      <td>...</td>\n",
       "      <td>...</td>\n",
       "      <td>...</td>\n",
       "      <td>...</td>\n",
       "      <td>...</td>\n",
       "      <td>...</td>\n",
       "      <td>...</td>\n",
       "      <td>...</td>\n",
       "    </tr>\n",
       "    <tr>\n",
       "      <th>283721</th>\n",
       "      <td>172786.0</td>\n",
       "      <td>-11.881118</td>\n",
       "      <td>10.071785</td>\n",
       "      <td>-9.834783</td>\n",
       "      <td>-2.066656</td>\n",
       "      <td>-5.364473</td>\n",
       "      <td>-2.606837</td>\n",
       "      <td>-4.918215</td>\n",
       "      <td>7.305334</td>\n",
       "      <td>1.914428</td>\n",
       "      <td>4.356170</td>\n",
       "      <td>-1.593105</td>\n",
       "      <td>2.711941</td>\n",
       "      <td>-0.689256</td>\n",
       "      <td>4.626942</td>\n",
       "      <td>-0.924459</td>\n",
       "      <td>1.107641</td>\n",
       "      <td>1.991691</td>\n",
       "      <td>0.510632</td>\n",
       "      <td>-0.682920</td>\n",
       "      <td>1.475829</td>\n",
       "      <td>0.213454</td>\n",
       "      <td>0.111864</td>\n",
       "      <td>1.014480</td>\n",
       "      <td>-0.509348</td>\n",
       "      <td>1.436807</td>\n",
       "      <td>0.250034</td>\n",
       "      <td>0.943651</td>\n",
       "      <td>0.823731</td>\n",
       "      <td>0.77</td>\n",
       "      <td>0</td>\n",
       "    </tr>\n",
       "    <tr>\n",
       "      <th>283722</th>\n",
       "      <td>172787.0</td>\n",
       "      <td>-0.732789</td>\n",
       "      <td>-0.055080</td>\n",
       "      <td>2.035030</td>\n",
       "      <td>-0.738589</td>\n",
       "      <td>0.868229</td>\n",
       "      <td>1.058415</td>\n",
       "      <td>0.024330</td>\n",
       "      <td>0.294869</td>\n",
       "      <td>0.584800</td>\n",
       "      <td>-0.975926</td>\n",
       "      <td>-0.150189</td>\n",
       "      <td>0.915802</td>\n",
       "      <td>1.214756</td>\n",
       "      <td>-0.675143</td>\n",
       "      <td>1.164931</td>\n",
       "      <td>-0.711757</td>\n",
       "      <td>-0.025693</td>\n",
       "      <td>-1.221179</td>\n",
       "      <td>-1.545556</td>\n",
       "      <td>0.059616</td>\n",
       "      <td>0.214205</td>\n",
       "      <td>0.924384</td>\n",
       "      <td>0.012463</td>\n",
       "      <td>-1.016226</td>\n",
       "      <td>-0.606624</td>\n",
       "      <td>-0.395255</td>\n",
       "      <td>0.068472</td>\n",
       "      <td>-0.053527</td>\n",
       "      <td>24.79</td>\n",
       "      <td>0</td>\n",
       "    </tr>\n",
       "    <tr>\n",
       "      <th>283723</th>\n",
       "      <td>172788.0</td>\n",
       "      <td>1.919565</td>\n",
       "      <td>-0.301254</td>\n",
       "      <td>-3.249640</td>\n",
       "      <td>-0.557828</td>\n",
       "      <td>2.630515</td>\n",
       "      <td>3.031260</td>\n",
       "      <td>-0.296827</td>\n",
       "      <td>0.708417</td>\n",
       "      <td>0.432454</td>\n",
       "      <td>-0.484782</td>\n",
       "      <td>0.411614</td>\n",
       "      <td>0.063119</td>\n",
       "      <td>-0.183699</td>\n",
       "      <td>-0.510602</td>\n",
       "      <td>1.329284</td>\n",
       "      <td>0.140716</td>\n",
       "      <td>0.313502</td>\n",
       "      <td>0.395652</td>\n",
       "      <td>-0.577252</td>\n",
       "      <td>0.001396</td>\n",
       "      <td>0.232045</td>\n",
       "      <td>0.578229</td>\n",
       "      <td>-0.037501</td>\n",
       "      <td>0.640134</td>\n",
       "      <td>0.265745</td>\n",
       "      <td>-0.087371</td>\n",
       "      <td>0.004455</td>\n",
       "      <td>-0.026561</td>\n",
       "      <td>67.88</td>\n",
       "      <td>0</td>\n",
       "    </tr>\n",
       "    <tr>\n",
       "      <th>283724</th>\n",
       "      <td>172788.0</td>\n",
       "      <td>-0.240440</td>\n",
       "      <td>0.530483</td>\n",
       "      <td>0.702510</td>\n",
       "      <td>0.689799</td>\n",
       "      <td>-0.377961</td>\n",
       "      <td>0.623708</td>\n",
       "      <td>-0.686180</td>\n",
       "      <td>0.679145</td>\n",
       "      <td>0.392087</td>\n",
       "      <td>-0.399126</td>\n",
       "      <td>-1.933849</td>\n",
       "      <td>-0.962886</td>\n",
       "      <td>-1.042082</td>\n",
       "      <td>0.449624</td>\n",
       "      <td>1.962563</td>\n",
       "      <td>-0.608577</td>\n",
       "      <td>0.509928</td>\n",
       "      <td>1.113981</td>\n",
       "      <td>2.897849</td>\n",
       "      <td>0.127434</td>\n",
       "      <td>0.265245</td>\n",
       "      <td>0.800049</td>\n",
       "      <td>-0.163298</td>\n",
       "      <td>0.123205</td>\n",
       "      <td>-0.569159</td>\n",
       "      <td>0.546668</td>\n",
       "      <td>0.108821</td>\n",
       "      <td>0.104533</td>\n",
       "      <td>10.00</td>\n",
       "      <td>0</td>\n",
       "    </tr>\n",
       "    <tr>\n",
       "      <th>283725</th>\n",
       "      <td>172792.0</td>\n",
       "      <td>-0.533413</td>\n",
       "      <td>-0.189733</td>\n",
       "      <td>0.703337</td>\n",
       "      <td>-0.506271</td>\n",
       "      <td>-0.012546</td>\n",
       "      <td>-0.649617</td>\n",
       "      <td>1.577006</td>\n",
       "      <td>-0.414650</td>\n",
       "      <td>0.486180</td>\n",
       "      <td>-0.915427</td>\n",
       "      <td>-1.040458</td>\n",
       "      <td>-0.031513</td>\n",
       "      <td>-0.188093</td>\n",
       "      <td>-0.084316</td>\n",
       "      <td>0.041333</td>\n",
       "      <td>-0.302620</td>\n",
       "      <td>-0.660377</td>\n",
       "      <td>0.167430</td>\n",
       "      <td>-0.256117</td>\n",
       "      <td>0.382948</td>\n",
       "      <td>0.261057</td>\n",
       "      <td>0.643078</td>\n",
       "      <td>0.376777</td>\n",
       "      <td>0.008797</td>\n",
       "      <td>-0.473649</td>\n",
       "      <td>-0.818267</td>\n",
       "      <td>-0.002415</td>\n",
       "      <td>0.013649</td>\n",
       "      <td>217.00</td>\n",
       "      <td>0</td>\n",
       "    </tr>\n",
       "  </tbody>\n",
       "</table>\n",
       "<p>283726 rows × 31 columns</p>\n",
       "</div>"
      ],
      "text/plain": [
       "            time         v1         v2        v3        v4        v5  \\\n",
       "0            0.0  -1.359807  -0.072781  2.536347  1.378155 -0.338321   \n",
       "1            0.0   1.191857   0.266151  0.166480  0.448154  0.060018   \n",
       "2            1.0  -1.358354  -1.340163  1.773209  0.379780 -0.503198   \n",
       "3            1.0  -0.966272  -0.185226  1.792993 -0.863291 -0.010309   \n",
       "4            2.0  -1.158233   0.877737  1.548718  0.403034 -0.407193   \n",
       "...          ...        ...        ...       ...       ...       ...   \n",
       "283721  172786.0 -11.881118  10.071785 -9.834783 -2.066656 -5.364473   \n",
       "283722  172787.0  -0.732789  -0.055080  2.035030 -0.738589  0.868229   \n",
       "283723  172788.0   1.919565  -0.301254 -3.249640 -0.557828  2.630515   \n",
       "283724  172788.0  -0.240440   0.530483  0.702510  0.689799 -0.377961   \n",
       "283725  172792.0  -0.533413  -0.189733  0.703337 -0.506271 -0.012546   \n",
       "\n",
       "              v6        v7        v8        v9       v10       v11       v12  \\\n",
       "0       0.462388  0.239599  0.098698  0.363787  0.090794 -0.551600 -0.617801   \n",
       "1      -0.082361 -0.078803  0.085102 -0.255425 -0.166974  1.612727  1.065235   \n",
       "2       1.800499  0.791461  0.247676 -1.514654  0.207643  0.624501  0.066084   \n",
       "3       1.247203  0.237609  0.377436 -1.387024 -0.054952 -0.226487  0.178228   \n",
       "4       0.095921  0.592941 -0.270533  0.817739  0.753074 -0.822843  0.538196   \n",
       "...          ...       ...       ...       ...       ...       ...       ...   \n",
       "283721 -2.606837 -4.918215  7.305334  1.914428  4.356170 -1.593105  2.711941   \n",
       "283722  1.058415  0.024330  0.294869  0.584800 -0.975926 -0.150189  0.915802   \n",
       "283723  3.031260 -0.296827  0.708417  0.432454 -0.484782  0.411614  0.063119   \n",
       "283724  0.623708 -0.686180  0.679145  0.392087 -0.399126 -1.933849 -0.962886   \n",
       "283725 -0.649617  1.577006 -0.414650  0.486180 -0.915427 -1.040458 -0.031513   \n",
       "\n",
       "             v13       v14       v15       v16       v17       v18       v19  \\\n",
       "0      -0.991390 -0.311169  1.468177 -0.470401  0.207971  0.025791  0.403993   \n",
       "1       0.489095 -0.143772  0.635558  0.463917 -0.114805 -0.183361 -0.145783   \n",
       "2       0.717293 -0.165946  2.345865 -2.890083  1.109969 -0.121359 -2.261857   \n",
       "3       0.507757 -0.287924 -0.631418 -1.059647 -0.684093  1.965775 -1.232622   \n",
       "4       1.345852 -1.119670  0.175121 -0.451449 -0.237033 -0.038195  0.803487   \n",
       "...          ...       ...       ...       ...       ...       ...       ...   \n",
       "283721 -0.689256  4.626942 -0.924459  1.107641  1.991691  0.510632 -0.682920   \n",
       "283722  1.214756 -0.675143  1.164931 -0.711757 -0.025693 -1.221179 -1.545556   \n",
       "283723 -0.183699 -0.510602  1.329284  0.140716  0.313502  0.395652 -0.577252   \n",
       "283724 -1.042082  0.449624  1.962563 -0.608577  0.509928  1.113981  2.897849   \n",
       "283725 -0.188093 -0.084316  0.041333 -0.302620 -0.660377  0.167430 -0.256117   \n",
       "\n",
       "             v20       v21       v22       v23       v24       v25       v26  \\\n",
       "0       0.251412 -0.018307  0.277838 -0.110474  0.066928  0.128539 -0.189115   \n",
       "1      -0.069083 -0.225775 -0.638672  0.101288 -0.339846  0.167170  0.125895   \n",
       "2       0.524980  0.247998  0.771679  0.909412 -0.689281 -0.327642 -0.139097   \n",
       "3      -0.208038 -0.108300  0.005274 -0.190321 -1.175575  0.647376 -0.221929   \n",
       "4       0.408542 -0.009431  0.798278 -0.137458  0.141267 -0.206010  0.502292   \n",
       "...          ...       ...       ...       ...       ...       ...       ...   \n",
       "283721  1.475829  0.213454  0.111864  1.014480 -0.509348  1.436807  0.250034   \n",
       "283722  0.059616  0.214205  0.924384  0.012463 -1.016226 -0.606624 -0.395255   \n",
       "283723  0.001396  0.232045  0.578229 -0.037501  0.640134  0.265745 -0.087371   \n",
       "283724  0.127434  0.265245  0.800049 -0.163298  0.123205 -0.569159  0.546668   \n",
       "283725  0.382948  0.261057  0.643078  0.376777  0.008797 -0.473649 -0.818267   \n",
       "\n",
       "             v27       v28  amount  class  \n",
       "0       0.133558 -0.021053  149.62      0  \n",
       "1      -0.008983  0.014724    2.69      0  \n",
       "2      -0.055353 -0.059752  378.66      0  \n",
       "3       0.062723  0.061458  123.50      0  \n",
       "4       0.219422  0.215153   69.99      0  \n",
       "...          ...       ...     ...    ...  \n",
       "283721  0.943651  0.823731    0.77      0  \n",
       "283722  0.068472 -0.053527   24.79      0  \n",
       "283723  0.004455 -0.026561   67.88      0  \n",
       "283724  0.108821  0.104533   10.00      0  \n",
       "283725 -0.002415  0.013649  217.00      0  \n",
       "\n",
       "[283726 rows x 31 columns]"
      ]
     },
     "execution_count": 25,
     "metadata": {},
     "output_type": "execute_result"
    }
   ],
   "source": [
    "df"
   ]
  },
  {
   "cell_type": "code",
   "execution_count": 26,
   "metadata": {
    "scrolled": false
   },
   "outputs": [
    {
     "data": {
      "image/png": "[encoded data removed]",
      "text/plain": [
       "<Figure size 576x360 with 1 Axes>"
      ]
     },
     "metadata": {
      "needs_background": "light"
     },
     "output_type": "display_data"
    },
    {
     "data": {
      "image/png": "[encoded data removed]",
      "text/plain": [
       "<Figure size 576x360 with 1 Axes>"
      ]
     },
     "metadata": {
      "needs_background": "light"
     },
     "output_type": "display_data"
    },
    {
     "data": {
      "image/png": "[encoded data removed]",
      "text/plain": [
       "<Figure size 576x360 with 1 Axes>"
      ]
     },
     "metadata": {
      "needs_background": "light"
     },
     "output_type": "display_data"
    },
    {
     "data": {
      "image/png": "[encoded data removed]",
      "text/plain": [
       "<Figure size 576x360 with 1 Axes>"
      ]
     },
     "metadata": {
      "needs_background": "light"
     },
     "output_type": "display_data"
    },
    {
     "data": {
      "image/png": "[encoded data removed]",
      "text/plain": [
       "<Figure size 576x360 with 1 Axes>"
      ]
     },
     "metadata": {
      "needs_background": "light"
     },
     "output_type": "display_data"
    },
    {
     "data": {
      "image/png": "[encoded data removed]",
      "text/plain": [
       "<Figure size 576x360 with 1 Axes>"
      ]
     },
     "metadata": {
      "needs_background": "light"
     },
     "output_type": "display_data"
    },
    {
     "data": {
      "image/png": "[encoded data removed]",
      "text/plain": [
       "<Figure size 576x360 with 1 Axes>"
      ]
     },
     "metadata": {
      "needs_background": "light"
     },
     "output_type": "display_data"
    },
    {
     "data": {
      "image/png": "[encoded data removed]",
      "text/plain": [
       "<Figure size 576x360 with 1 Axes>"
      ]
     },
     "metadata": {
      "needs_background": "light"
     },
     "output_type": "display_data"
    },
    {
     "data": {
      "image/png": "[encoded data removed]",
      "text/plain": [
       "<Figure size 576x360 with 1 Axes>"
      ]
     },
     "metadata": {
      "needs_background": "light"
     },
     "output_type": "display_data"
    },
    {
     "data": {
      "image/png": "[encoded data removed]",
      "text/plain": [
       "<Figure size 576x360 with 1 Axes>"
      ]
     },
     "metadata": {
      "needs_background": "light"
     },
     "output_type": "display_data"
    },
    {
     "data": {
      "image/png": "[encoded data removed]",
      "text/plain": [
       "<Figure size 576x360 with 1 Axes>"
      ]
     },
     "metadata": {
      "needs_background": "light"
     },
     "output_type": "display_data"
    },
    {
     "data": {
      "image/png": "[encoded data removed]",
      "text/plain": [
       "<Figure size 576x360 with 1 Axes>"
      ]
     },
     "metadata": {
      "needs_background": "light"
     },
     "output_type": "display_data"
    },
    {
     "data": {
      "image/png": "[encoded data removed]",
      "text/plain": [
       "<Figure size 576x360 with 1 Axes>"
      ]
     },
     "metadata": {
      "needs_background": "light"
     },
     "output_type": "display_data"
    },
    {
     "data": {
      "image/png": "[encoded data removed]",
      "text/plain": [
       "<Figure size 576x360 with 1 Axes>"
      ]
     },
     "metadata": {
      "needs_background": "light"
     },
     "output_type": "display_data"
    },
    {
     "data": {
      "image/png": "[encoded data removed]",
      "text/plain": [
       "<Figure size 576x360 with 1 Axes>"
      ]
     },
     "metadata": {
      "needs_background": "light"
     },
     "output_type": "display_data"
    },
    {
     "data": {
      "image/png": "[encoded data removed]",
      "text/plain": [
       "<Figure size 576x360 with 1 Axes>"
      ]
     },
     "metadata": {
      "needs_background": "light"
     },
     "output_type": "display_data"
    },
    {
     "data": {
      "image/png": "[encoded data removed]",
      "text/plain": [
       "<Figure size 576x360 with 1 Axes>"
      ]
     },
     "metadata": {
      "needs_background": "light"
     },
     "output_type": "display_data"
    },
    {
     "data": {
      "image/png": "[encoded data removed]",
      "text/plain": [
       "<Figure size 576x360 with 1 Axes>"
      ]
     },
     "metadata": {
      "needs_background": "light"
     },
     "output_type": "display_data"
    },
    {
     "data": {
      "image/png": "[encoded data removed]",
      "text/plain": [
       "<Figure size 576x360 with 1 Axes>"
      ]
     },
     "metadata": {
      "needs_background": "light"
     },
     "output_type": "display_data"
    },
    {
     "data": {
      "image/png": "[encoded data removed]",
      "text/plain": [
       "<Figure size 576x360 with 1 Axes>"
      ]
     },
     "metadata": {
      "needs_background": "light"
     },
     "output_type": "display_data"
    },
    {
     "data": {
      "image/png": "[encoded data removed]",
      "text/plain": [
       "<Figure size 576x360 with 1 Axes>"
      ]
     },
     "metadata": {
      "needs_background": "light"
     },
     "output_type": "display_data"
    },
    {
     "data": {
      "image/png": "[encoded data removed]",
      "text/plain": [
       "<Figure size 576x360 with 1 Axes>"
      ]
     },
     "metadata": {
      "needs_background": "light"
     },
     "output_type": "display_data"
    },
    {
     "data": {
      "image/png": "[encoded data removed]",
      "text/plain": [
       "<Figure size 576x360 with 1 Axes>"
      ]
     },
     "metadata": {
      "needs_background": "light"
     },
     "output_type": "display_data"
    },
    {
     "data": {
      "image/png": "[encoded data removed]",
      "text/plain": [
       "<Figure size 576x360 with 1 Axes>"
      ]
     },
     "metadata": {
      "needs_background": "light"
     },
     "output_type": "display_data"
    },
    {
     "data": {
      "image/png": "[encoded data removed]",
      "text/plain": [
       "<Figure size 576x360 with 1 Axes>"
      ]
     },
     "metadata": {
      "needs_background": "light"
     },
     "output_type": "display_data"
    },
    {
     "data": {
      "image/png": "[encoded data removed]",
      "text/plain": [
       "<Figure size 576x360 with 1 Axes>"
      ]
     },
     "metadata": {
      "needs_background": "light"
     },
     "output_type": "display_data"
    },
    {
     "data": {
      "image/png": "[encoded data removed]",
      "text/plain": [
       "<Figure size 576x360 with 1 Axes>"
      ]
     },
     "metadata": {
      "needs_background": "light"
     },
     "output_type": "display_data"
    },
    {
     "data": {
      "image/png": "[encoded data removed]",
      "text/plain": [
       "<Figure size 576x360 with 1 Axes>"
      ]
     },
     "metadata": {
      "needs_background": "light"
     },
     "output_type": "display_data"
    },
    {
     "data": {
      "image/png": "[encoded data removed]",
      "text/plain": [
       "<Figure size 576x360 with 1 Axes>"
      ]
     },
     "metadata": {
      "needs_background": "light"
     },
     "output_type": "display_data"
    },
    {
     "data": {
      "image/png": "[encoded data removed]",
      "text/plain": [
       "<Figure size 576x360 with 1 Axes>"
      ]
     },
     "metadata": {
      "needs_background": "light"
     },
     "output_type": "display_data"
    },
    {
     "data": {
      "image/png": "[encoded data removed]",
      "text/plain": [
       "<Figure size 576x360 with 1 Axes>"
      ]
     },
     "metadata": {
      "needs_background": "light"
     },
     "output_type": "display_data"
    }
   ],
   "source": [
    "for column in df:\n",
    "        plt.figure(figsize=(8,5))\n",
    "        sns.boxplot(data=df, x=column);"
   ]
  },
  {
   "cell_type": "markdown",
   "metadata": {
    "id": "tMOO7g-sMuHb"
   },
   "source": [
    "---\n",
    "---\n"
   ]
  },
  {
   "cell_type": "markdown",
   "metadata": {
    "id": "Yf6VvH6WMuHb"
   },
   "source": [
    "## 2. Data Preprocessing"
   ]
  },
  {
   "cell_type": "markdown",
   "metadata": {
    "id": "hlm6gCsKMuHb"
   },
   "source": [
    "#### Train - Test Split\n",
    "\n",
    "As in this case, for extremely imbalanced datasets you may want to make sure that classes are balanced across train and test data."
   ]
  },
  {
   "cell_type": "code",
   "execution_count": 27,
   "metadata": {},
   "outputs": [],
   "source": [
    "from sklearn.model_selection import train_test_split"
   ]
  },
  {
   "cell_type": "code",
   "execution_count": 28,
   "metadata": {},
   "outputs": [],
   "source": [
    "X = df.drop(\"class\",axis=1)\n",
    "y=df[\"class\"]"
   ]
  },
  {
   "cell_type": "code",
   "execution_count": 29,
   "metadata": {
    "id": "AuzpxEmKMuHb"
   },
   "outputs": [],
   "source": [
    "X_train, X_test, y_train, y_test = train_test_split(X, y, test_size=0.3, random_state=42, stratify=y)"
   ]
  },
  {
   "cell_type": "markdown",
   "metadata": {
    "id": "OV28RJBeMuHb"
   },
   "source": [
    "#### Scaling"
   ]
  },
  {
   "cell_type": "code",
   "execution_count": 30,
   "metadata": {},
   "outputs": [],
   "source": [
    "from sklearn.preprocessing import StandardScaler"
   ]
  },
  {
   "cell_type": "code",
   "execution_count": 31,
   "metadata": {},
   "outputs": [],
   "source": [
    "scaler = StandardScaler()"
   ]
  },
  {
   "cell_type": "code",
   "execution_count": 32,
   "metadata": {},
   "outputs": [],
   "source": [
    "X_train_scaled = scaler.fit_transform(X_train)\n",
    "X_test_scaled = scaler.transform(X_test)"
   ]
  },
  {
   "cell_type": "markdown",
   "metadata": {
    "id": "HO4HAIofMuHc"
   },
   "source": [
    "---\n",
    "---\n"
   ]
  },
  {
   "cell_type": "markdown",
   "metadata": {
    "id": "MwQdl4PdJQ0I"
   },
   "source": [
    "## 3. Model Building\n",
    "It was previously stated that you need to make class prediction with three different algorithms. As in this case, different approaches are required to obtain better performance on unbalanced data.\n",
    "\n",
    "This dataset is severely **unbalanced** (most of the transactions are non-fraud). So the algorithms are much more likely to classify new observations to the majority class and high accuracy won't tell us anything. To address the problem of imbalanced dataset we can use undersampling and oversampling data approach techniques. Oversampling increases the number of minority class members in the training set. The advantage of oversampling is that no information from the original training set is lost unlike in undersampling, as all observations from the minority and majority classes are kept. On the other hand, it is prone to overfitting. \n",
    "\n",
    "There is a type of oversampling called **[SMOTE](https://www.geeksforgeeks.org/ml-handling-imbalanced-data-with-smote-and-near-miss-algorithm-in-python/)** (Synthetic Minority Oversampling Technique), which we are going to use to make our dataset balanced. It creates synthetic points from the minority class.\n",
    "\n",
    "- It is important that you can evaluate the effectiveness of SMOTE. For this reason, implement the Logistic Regression algorithm in two different ways, with SMOTE applied and without.\n",
    "\n",
    "***Note***: \n",
    "\n",
    "- *Do not forget to import the necessary libraries and modules before starting the model building!*\n",
    "\n",
    "- *If you are going to use the cross validation method to be more sure of the performance of your model for unbalanced data, you should make sure that the class distributions in the iterations are equal. For this case, you should use **[StratifiedKFold](https://www.analyseup.com/python-machine-learning/stratified-kfold.html)** instead of regular cross validation method.*"
   ]
  },
  {
   "cell_type": "markdown",
   "metadata": {
    "id": "zKZcwgucJQ0I"
   },
   "source": [
    "### Logistic Regression without SMOTE\n",
    "\n",
    "- The steps you are going to cover for this algorithm are as follows: \n",
    "\n",
    "   i. Import Libraries\n",
    "   \n",
    "   *ii. Model Training*\n",
    "   \n",
    "   *iii. Prediction and Model Evaluating*\n",
    "   \n",
    "   *iv. Plot Precision and Recall Curve*\n",
    "   \n",
    "   *v. Apply and Plot StratifiedKFold*"
   ]
  },
  {
   "cell_type": "markdown",
   "metadata": {
    "id": "o48s5BCdMuHd"
   },
   "source": [
    "***i. Import Libraries***"
   ]
  },
  {
   "cell_type": "code",
   "execution_count": 33,
   "metadata": {
    "id": "3G3cx-UjMuHd"
   },
   "outputs": [],
   "source": [
    "from sklearn.linear_model import LogisticRegression\n",
    "from sklearn.metrics import confusion_matrix, classification_report, accuracy_score, recall_score, precision_score, f1_score, roc_auc_score\n",
    "from sklearn.model_selection import cross_val_score, cross_validate\n",
    "from sklearn.metrics import classification_report,confusion_matrix,plot_confusion_matrix"
   ]
  },
  {
   "cell_type": "markdown",
   "metadata": {
    "id": "6KD76bc5MuHd"
   },
   "source": [
    "***ii. Model Training***"
   ]
  },
  {
   "cell_type": "code",
   "execution_count": 34,
   "metadata": {
    "scrolled": true
   },
   "outputs": [
    {
     "data": {
      "text/plain": [
       "array([  0.50083469, 300.01208459])"
      ]
     },
     "execution_count": 34,
     "metadata": {},
     "output_type": "execute_result"
    }
   ],
   "source": [
    "from sklearn.utils import class_weight\n",
    "class_weight = class_weight.compute_class_weight('balanced'\n",
    "                                               ,np.unique(y_train)\n",
    "                                               ,y_train)\n",
    "class_weight"
   ]
  },
  {
   "cell_type": "code",
   "execution_count": 35,
   "metadata": {},
   "outputs": [],
   "source": [
    "class_weight = {0: 0.50083469 ,1: 300.01208459} #0 7000 1 2000"
   ]
  },
  {
   "cell_type": "code",
   "execution_count": 36,
   "metadata": {
    "id": "g7GAK-u3MuHd"
   },
   "outputs": [],
   "source": [
    "log_model = LogisticRegression(class_weight=class_weight, random_state=42)"
   ]
  },
  {
   "cell_type": "code",
   "execution_count": 37,
   "metadata": {},
   "outputs": [
    {
     "data": {
      "text/plain": [
       "LogisticRegression(class_weight={0: 0.50083469, 1: 300.01208459},\n",
       "                   random_state=42)"
      ]
     },
     "execution_count": 37,
     "metadata": {},
     "output_type": "execute_result"
    }
   ],
   "source": [
    "log_model.fit(X_train_scaled, y_train)"
   ]
  },
  {
   "cell_type": "markdown",
   "metadata": {
    "id": "uvKAJVTNMuHd"
   },
   "source": [
    "***iii. Prediction and Model Evaluating***"
   ]
  },
  {
   "cell_type": "code",
   "execution_count": 38,
   "metadata": {
    "id": "Kb68hH1TMuHd",
    "scrolled": true
   },
   "outputs": [
    {
     "data": {
      "text/plain": [
       "array([[-0.25078024,  1.57742671,  0.80613581,  0.43080999,  1.19399283,\n",
       "         1.06744103, -0.71311809, -0.61262296, -0.48996871, -0.51044125,\n",
       "        -1.11784802,  0.58530589, -1.25108483, -0.298645  , -1.52902422,\n",
       "        -0.4095692 , -0.59354258, -0.90205308, -0.26935714,  0.32187376,\n",
       "        -0.76892284,  0.06915873,  0.61692277,  0.46683344,  0.29242935,\n",
       "        -0.12274278, -0.14991736, -0.1692677 ,  0.27907827,  2.06896072]])"
      ]
     },
     "execution_count": 38,
     "metadata": {},
     "output_type": "execute_result"
    }
   ],
   "source": [
    "log_model.coef_"
   ]
  },
  {
   "cell_type": "code",
   "execution_count": 39,
   "metadata": {},
   "outputs": [
    {
     "data": {
      "text/plain": [
       "array([0, 0, 0, ..., 0, 0, 0], dtype=int64)"
      ]
     },
     "execution_count": 39,
     "metadata": {},
     "output_type": "execute_result"
    }
   ],
   "source": [
    "y_pred = log_model.predict(X_test_scaled)\n",
    "y_pred"
   ]
  },
  {
   "cell_type": "code",
   "execution_count": 40,
   "metadata": {},
   "outputs": [],
   "source": [
    "y_pred_proba = log_model.predict_proba(X_test_scaled)"
   ]
  },
  {
   "cell_type": "code",
   "execution_count": 41,
   "metadata": {},
   "outputs": [],
   "source": [
    "test_data = pd.concat([X_test, y_test], axis=1)"
   ]
  },
  {
   "cell_type": "code",
   "execution_count": 42,
   "metadata": {
    "scrolled": false
   },
   "outputs": [
    {
     "data": {
      "text/html": [
       "<div>\n",
       "<style scoped>\n",
       "    .dataframe tbody tr th:only-of-type {\n",
       "        vertical-align: middle;\n",
       "    }\n",
       "\n",
       "    .dataframe tbody tr th {\n",
       "        vertical-align: top;\n",
       "    }\n",
       "\n",
       "    .dataframe thead th {\n",
       "        text-align: right;\n",
       "    }\n",
       "</style>\n",
       "<table border=\"1\" class=\"dataframe\">\n",
       "  <thead>\n",
       "    <tr style=\"text-align: right;\">\n",
       "      <th></th>\n",
       "      <th>time</th>\n",
       "      <th>v1</th>\n",
       "      <th>v2</th>\n",
       "      <th>v3</th>\n",
       "      <th>v4</th>\n",
       "      <th>v5</th>\n",
       "      <th>v6</th>\n",
       "      <th>v7</th>\n",
       "      <th>v8</th>\n",
       "      <th>v9</th>\n",
       "      <th>v10</th>\n",
       "      <th>v11</th>\n",
       "      <th>v12</th>\n",
       "      <th>v13</th>\n",
       "      <th>v14</th>\n",
       "      <th>v15</th>\n",
       "      <th>v16</th>\n",
       "      <th>v17</th>\n",
       "      <th>v18</th>\n",
       "      <th>v19</th>\n",
       "      <th>v20</th>\n",
       "      <th>v21</th>\n",
       "      <th>v22</th>\n",
       "      <th>v23</th>\n",
       "      <th>v24</th>\n",
       "      <th>v25</th>\n",
       "      <th>v26</th>\n",
       "      <th>v27</th>\n",
       "      <th>v28</th>\n",
       "      <th>amount</th>\n",
       "      <th>class</th>\n",
       "      <th>pred_proba</th>\n",
       "      <th>pred</th>\n",
       "    </tr>\n",
       "  </thead>\n",
       "  <tbody>\n",
       "    <tr>\n",
       "      <th>138805</th>\n",
       "      <td>83104.0</td>\n",
       "      <td>-1.684059</td>\n",
       "      <td>1.500809</td>\n",
       "      <td>0.759888</td>\n",
       "      <td>0.550576</td>\n",
       "      <td>0.232439</td>\n",
       "      <td>-0.043998</td>\n",
       "      <td>0.626440</td>\n",
       "      <td>-0.004514</td>\n",
       "      <td>-0.004855</td>\n",
       "      <td>1.376058</td>\n",
       "      <td>1.540308</td>\n",
       "      <td>0.693117</td>\n",
       "      <td>0.019787</td>\n",
       "      <td>0.130297</td>\n",
       "      <td>0.672786</td>\n",
       "      <td>-0.542340</td>\n",
       "      <td>-0.259041</td>\n",
       "      <td>0.050345</td>\n",
       "      <td>0.296603</td>\n",
       "      <td>0.252636</td>\n",
       "      <td>0.099876</td>\n",
       "      <td>0.702279</td>\n",
       "      <td>-0.194992</td>\n",
       "      <td>0.034693</td>\n",
       "      <td>-0.271951</td>\n",
       "      <td>-0.402507</td>\n",
       "      <td>-0.359649</td>\n",
       "      <td>-0.093177</td>\n",
       "      <td>19.45</td>\n",
       "      <td>0</td>\n",
       "      <td>0.005669</td>\n",
       "      <td>0</td>\n",
       "    </tr>\n",
       "    <tr>\n",
       "      <th>86044</th>\n",
       "      <td>61199.0</td>\n",
       "      <td>-0.712760</td>\n",
       "      <td>0.946364</td>\n",
       "      <td>1.613294</td>\n",
       "      <td>-0.057937</td>\n",
       "      <td>0.307252</td>\n",
       "      <td>0.033698</td>\n",
       "      <td>0.842808</td>\n",
       "      <td>-0.082649</td>\n",
       "      <td>-0.286508</td>\n",
       "      <td>-0.691974</td>\n",
       "      <td>-1.424615</td>\n",
       "      <td>0.187289</td>\n",
       "      <td>0.729575</td>\n",
       "      <td>-0.393678</td>\n",
       "      <td>-0.360989</td>\n",
       "      <td>-0.210956</td>\n",
       "      <td>-0.257742</td>\n",
       "      <td>-0.347665</td>\n",
       "      <td>0.783205</td>\n",
       "      <td>0.043267</td>\n",
       "      <td>-0.209533</td>\n",
       "      <td>-0.489587</td>\n",
       "      <td>-0.374907</td>\n",
       "      <td>-0.405319</td>\n",
       "      <td>0.492170</td>\n",
       "      <td>0.339188</td>\n",
       "      <td>-0.107684</td>\n",
       "      <td>0.052013</td>\n",
       "      <td>31.35</td>\n",
       "      <td>0</td>\n",
       "      <td>0.019179</td>\n",
       "      <td>0</td>\n",
       "    </tr>\n",
       "    <tr>\n",
       "      <th>93790</th>\n",
       "      <td>64741.0</td>\n",
       "      <td>1.194627</td>\n",
       "      <td>0.202019</td>\n",
       "      <td>0.148443</td>\n",
       "      <td>0.456065</td>\n",
       "      <td>-0.024289</td>\n",
       "      <td>-0.105957</td>\n",
       "      <td>-0.146632</td>\n",
       "      <td>0.140367</td>\n",
       "      <td>-0.109165</td>\n",
       "      <td>-0.137806</td>\n",
       "      <td>1.448209</td>\n",
       "      <td>0.552174</td>\n",
       "      <td>-0.475780</td>\n",
       "      <td>0.047778</td>\n",
       "      <td>0.741160</td>\n",
       "      <td>0.508925</td>\n",
       "      <td>-0.059739</td>\n",
       "      <td>-0.065391</td>\n",
       "      <td>-0.138696</td>\n",
       "      <td>-0.134548</td>\n",
       "      <td>-0.237956</td>\n",
       "      <td>-0.716717</td>\n",
       "      <td>0.114452</td>\n",
       "      <td>-0.366347</td>\n",
       "      <td>0.135195</td>\n",
       "      <td>0.129319</td>\n",
       "      <td>-0.014949</td>\n",
       "      <td>0.012339</td>\n",
       "      <td>0.89</td>\n",
       "      <td>0</td>\n",
       "      <td>0.021668</td>\n",
       "      <td>0</td>\n",
       "    </tr>\n",
       "    <tr>\n",
       "      <th>123328</th>\n",
       "      <td>77071.0</td>\n",
       "      <td>1.191219</td>\n",
       "      <td>-0.686249</td>\n",
       "      <td>0.413138</td>\n",
       "      <td>0.261424</td>\n",
       "      <td>-0.634744</td>\n",
       "      <td>0.624022</td>\n",
       "      <td>-0.717510</td>\n",
       "      <td>0.123673</td>\n",
       "      <td>-0.737618</td>\n",
       "      <td>0.811951</td>\n",
       "      <td>-0.149693</td>\n",
       "      <td>0.699783</td>\n",
       "      <td>1.113520</td>\n",
       "      <td>-0.260753</td>\n",
       "      <td>-0.373348</td>\n",
       "      <td>-0.937595</td>\n",
       "      <td>-0.774998</td>\n",
       "      <td>2.225077</td>\n",
       "      <td>-0.413753</td>\n",
       "      <td>-0.297845</td>\n",
       "      <td>-0.214390</td>\n",
       "      <td>-0.138765</td>\n",
       "      <td>-0.283669</td>\n",
       "      <td>-0.835391</td>\n",
       "      <td>0.646958</td>\n",
       "      <td>-0.177545</td>\n",
       "      <td>0.063255</td>\n",
       "      <td>0.026668</td>\n",
       "      <td>83.50</td>\n",
       "      <td>0</td>\n",
       "      <td>0.010309</td>\n",
       "      <td>0</td>\n",
       "    </tr>\n",
       "    <tr>\n",
       "      <th>126403</th>\n",
       "      <td>78136.0</td>\n",
       "      <td>0.807040</td>\n",
       "      <td>-1.845157</td>\n",
       "      <td>1.160044</td>\n",
       "      <td>-0.078988</td>\n",
       "      <td>-1.973917</td>\n",
       "      <td>0.492741</td>\n",
       "      <td>-1.211037</td>\n",
       "      <td>0.286344</td>\n",
       "      <td>0.606206</td>\n",
       "      <td>0.173870</td>\n",
       "      <td>-0.962828</td>\n",
       "      <td>-0.534526</td>\n",
       "      <td>-0.857532</td>\n",
       "      <td>-0.955275</td>\n",
       "      <td>-0.739601</td>\n",
       "      <td>0.405838</td>\n",
       "      <td>1.157364</td>\n",
       "      <td>-1.717754</td>\n",
       "      <td>0.532613</td>\n",
       "      <td>0.443070</td>\n",
       "      <td>0.253705</td>\n",
       "      <td>0.462592</td>\n",
       "      <td>-0.229476</td>\n",
       "      <td>0.129784</td>\n",
       "      <td>0.251871</td>\n",
       "      <td>-0.111874</td>\n",
       "      <td>0.038918</td>\n",
       "      <td>0.063682</td>\n",
       "      <td>250.00</td>\n",
       "      <td>0</td>\n",
       "      <td>0.056244</td>\n",
       "      <td>0</td>\n",
       "    </tr>\n",
       "    <tr>\n",
       "      <th>...</th>\n",
       "      <td>...</td>\n",
       "      <td>...</td>\n",
       "      <td>...</td>\n",
       "      <td>...</td>\n",
       "      <td>...</td>\n",
       "      <td>...</td>\n",
       "      <td>...</td>\n",
       "      <td>...</td>\n",
       "      <td>...</td>\n",
       "      <td>...</td>\n",
       "      <td>...</td>\n",
       "      <td>...</td>\n",
       "      <td>...</td>\n",
       "      <td>...</td>\n",
       "      <td>...</td>\n",
       "      <td>...</td>\n",
       "      <td>...</td>\n",
       "      <td>...</td>\n",
       "      <td>...</td>\n",
       "      <td>...</td>\n",
       "      <td>...</td>\n",
       "      <td>...</td>\n",
       "      <td>...</td>\n",
       "      <td>...</td>\n",
       "      <td>...</td>\n",
       "      <td>...</td>\n",
       "      <td>...</td>\n",
       "      <td>...</td>\n",
       "      <td>...</td>\n",
       "      <td>...</td>\n",
       "      <td>...</td>\n",
       "      <td>...</td>\n",
       "      <td>...</td>\n",
       "    </tr>\n",
       "    <tr>\n",
       "      <th>50136</th>\n",
       "      <td>44460.0</td>\n",
       "      <td>0.638047</td>\n",
       "      <td>-1.246874</td>\n",
       "      <td>-0.314736</td>\n",
       "      <td>-0.264836</td>\n",
       "      <td>-0.031902</td>\n",
       "      <td>1.266928</td>\n",
       "      <td>-0.033675</td>\n",
       "      <td>0.308927</td>\n",
       "      <td>-1.625736</td>\n",
       "      <td>0.589107</td>\n",
       "      <td>2.308017</td>\n",
       "      <td>1.328085</td>\n",
       "      <td>0.716657</td>\n",
       "      <td>0.606381</td>\n",
       "      <td>0.976724</td>\n",
       "      <td>-2.534300</td>\n",
       "      <td>0.937891</td>\n",
       "      <td>-0.991656</td>\n",
       "      <td>-2.003473</td>\n",
       "      <td>-0.045994</td>\n",
       "      <td>-0.403602</td>\n",
       "      <td>-1.210534</td>\n",
       "      <td>0.097523</td>\n",
       "      <td>-1.033980</td>\n",
       "      <td>-0.251935</td>\n",
       "      <td>0.220138</td>\n",
       "      <td>-0.018670</td>\n",
       "      <td>0.037997</td>\n",
       "      <td>279.90</td>\n",
       "      <td>0</td>\n",
       "      <td>0.002021</td>\n",
       "      <td>0</td>\n",
       "    </tr>\n",
       "    <tr>\n",
       "      <th>273672</th>\n",
       "      <td>166166.0</td>\n",
       "      <td>2.027942</td>\n",
       "      <td>0.034329</td>\n",
       "      <td>-2.411462</td>\n",
       "      <td>0.160815</td>\n",
       "      <td>0.870687</td>\n",
       "      <td>-1.269340</td>\n",
       "      <td>0.984068</td>\n",
       "      <td>-0.611409</td>\n",
       "      <td>0.190407</td>\n",
       "      <td>-0.099633</td>\n",
       "      <td>-1.084891</td>\n",
       "      <td>0.559101</td>\n",
       "      <td>0.829303</td>\n",
       "      <td>0.679437</td>\n",
       "      <td>0.434459</td>\n",
       "      <td>-0.673921</td>\n",
       "      <td>-0.532389</td>\n",
       "      <td>-0.333971</td>\n",
       "      <td>0.210357</td>\n",
       "      <td>-0.069285</td>\n",
       "      <td>0.184379</td>\n",
       "      <td>0.603199</td>\n",
       "      <td>-0.225128</td>\n",
       "      <td>-0.659959</td>\n",
       "      <td>0.670756</td>\n",
       "      <td>-0.379132</td>\n",
       "      <td>-0.040148</td>\n",
       "      <td>-0.063864</td>\n",
       "      <td>70.00</td>\n",
       "      <td>0</td>\n",
       "      <td>0.022457</td>\n",
       "      <td>0</td>\n",
       "    </tr>\n",
       "    <tr>\n",
       "      <th>268146</th>\n",
       "      <td>163558.0</td>\n",
       "      <td>2.030605</td>\n",
       "      <td>0.148455</td>\n",
       "      <td>-1.765004</td>\n",
       "      <td>0.556354</td>\n",
       "      <td>0.135904</td>\n",
       "      <td>-1.471860</td>\n",
       "      <td>0.228982</td>\n",
       "      <td>-0.333116</td>\n",
       "      <td>0.691840</td>\n",
       "      <td>-0.505593</td>\n",
       "      <td>-0.388708</td>\n",
       "      <td>-0.312587</td>\n",
       "      <td>-0.720657</td>\n",
       "      <td>-0.683783</td>\n",
       "      <td>1.034540</td>\n",
       "      <td>0.211524</td>\n",
       "      <td>0.573734</td>\n",
       "      <td>0.544761</td>\n",
       "      <td>-0.517835</td>\n",
       "      <td>-0.237780</td>\n",
       "      <td>0.192819</td>\n",
       "      <td>0.687191</td>\n",
       "      <td>-0.014358</td>\n",
       "      <td>-0.104785</td>\n",
       "      <td>0.211153</td>\n",
       "      <td>-0.096818</td>\n",
       "      <td>-0.004184</td>\n",
       "      <td>-0.029435</td>\n",
       "      <td>11.99</td>\n",
       "      <td>0</td>\n",
       "      <td>0.187941</td>\n",
       "      <td>0</td>\n",
       "    </tr>\n",
       "    <tr>\n",
       "      <th>42031</th>\n",
       "      <td>40998.0</td>\n",
       "      <td>0.961080</td>\n",
       "      <td>-0.816486</td>\n",
       "      <td>1.540157</td>\n",
       "      <td>1.011783</td>\n",
       "      <td>-1.196358</td>\n",
       "      <td>1.353506</td>\n",
       "      <td>-1.253677</td>\n",
       "      <td>0.625705</td>\n",
       "      <td>1.655494</td>\n",
       "      <td>-0.363684</td>\n",
       "      <td>0.127790</td>\n",
       "      <td>1.105679</td>\n",
       "      <td>-0.845978</td>\n",
       "      <td>-0.795568</td>\n",
       "      <td>-1.888385</td>\n",
       "      <td>-0.442440</td>\n",
       "      <td>0.348403</td>\n",
       "      <td>-0.147016</td>\n",
       "      <td>0.444069</td>\n",
       "      <td>-0.079521</td>\n",
       "      <td>-0.015309</td>\n",
       "      <td>0.313640</td>\n",
       "      <td>-0.123588</td>\n",
       "      <td>-0.228378</td>\n",
       "      <td>0.305133</td>\n",
       "      <td>0.513930</td>\n",
       "      <td>0.053458</td>\n",
       "      <td>0.018343</td>\n",
       "      <td>59.50</td>\n",
       "      <td>0</td>\n",
       "      <td>0.060541</td>\n",
       "      <td>0</td>\n",
       "    </tr>\n",
       "    <tr>\n",
       "      <th>36501</th>\n",
       "      <td>38628.0</td>\n",
       "      <td>-1.609149</td>\n",
       "      <td>0.336854</td>\n",
       "      <td>1.147631</td>\n",
       "      <td>0.984848</td>\n",
       "      <td>-1.048424</td>\n",
       "      <td>1.193439</td>\n",
       "      <td>1.169587</td>\n",
       "      <td>0.717370</td>\n",
       "      <td>-0.693456</td>\n",
       "      <td>-0.740493</td>\n",
       "      <td>0.632451</td>\n",
       "      <td>0.643808</td>\n",
       "      <td>-0.436642</td>\n",
       "      <td>0.482516</td>\n",
       "      <td>-0.317350</td>\n",
       "      <td>-0.448911</td>\n",
       "      <td>0.301933</td>\n",
       "      <td>0.078819</td>\n",
       "      <td>0.881855</td>\n",
       "      <td>0.750609</td>\n",
       "      <td>0.029003</td>\n",
       "      <td>-0.381676</td>\n",
       "      <td>0.586005</td>\n",
       "      <td>-0.366876</td>\n",
       "      <td>0.474599</td>\n",
       "      <td>-0.368183</td>\n",
       "      <td>0.110552</td>\n",
       "      <td>0.087960</td>\n",
       "      <td>339.00</td>\n",
       "      <td>0</td>\n",
       "      <td>0.015847</td>\n",
       "      <td>0</td>\n",
       "    </tr>\n",
       "  </tbody>\n",
       "</table>\n",
       "<p>85118 rows × 33 columns</p>\n",
       "</div>"
      ],
      "text/plain": [
       "            time        v1        v2        v3        v4        v5        v6  \\\n",
       "138805   83104.0 -1.684059  1.500809  0.759888  0.550576  0.232439 -0.043998   \n",
       "86044    61199.0 -0.712760  0.946364  1.613294 -0.057937  0.307252  0.033698   \n",
       "93790    64741.0  1.194627  0.202019  0.148443  0.456065 -0.024289 -0.105957   \n",
       "123328   77071.0  1.191219 -0.686249  0.413138  0.261424 -0.634744  0.624022   \n",
       "126403   78136.0  0.807040 -1.845157  1.160044 -0.078988 -1.973917  0.492741   \n",
       "...          ...       ...       ...       ...       ...       ...       ...   \n",
       "50136    44460.0  0.638047 -1.246874 -0.314736 -0.264836 -0.031902  1.266928   \n",
       "273672  166166.0  2.027942  0.034329 -2.411462  0.160815  0.870687 -1.269340   \n",
       "268146  163558.0  2.030605  0.148455 -1.765004  0.556354  0.135904 -1.471860   \n",
       "42031    40998.0  0.961080 -0.816486  1.540157  1.011783 -1.196358  1.353506   \n",
       "36501    38628.0 -1.609149  0.336854  1.147631  0.984848 -1.048424  1.193439   \n",
       "\n",
       "              v7        v8        v9       v10       v11       v12       v13  \\\n",
       "138805  0.626440 -0.004514 -0.004855  1.376058  1.540308  0.693117  0.019787   \n",
       "86044   0.842808 -0.082649 -0.286508 -0.691974 -1.424615  0.187289  0.729575   \n",
       "93790  -0.146632  0.140367 -0.109165 -0.137806  1.448209  0.552174 -0.475780   \n",
       "123328 -0.717510  0.123673 -0.737618  0.811951 -0.149693  0.699783  1.113520   \n",
       "126403 -1.211037  0.286344  0.606206  0.173870 -0.962828 -0.534526 -0.857532   \n",
       "...          ...       ...       ...       ...       ...       ...       ...   \n",
       "50136  -0.033675  0.308927 -1.625736  0.589107  2.308017  1.328085  0.716657   \n",
       "273672  0.984068 -0.611409  0.190407 -0.099633 -1.084891  0.559101  0.829303   \n",
       "268146  0.228982 -0.333116  0.691840 -0.505593 -0.388708 -0.312587 -0.720657   \n",
       "42031  -1.253677  0.625705  1.655494 -0.363684  0.127790  1.105679 -0.845978   \n",
       "36501   1.169587  0.717370 -0.693456 -0.740493  0.632451  0.643808 -0.436642   \n",
       "\n",
       "             v14       v15       v16       v17       v18       v19       v20  \\\n",
       "138805  0.130297  0.672786 -0.542340 -0.259041  0.050345  0.296603  0.252636   \n",
       "86044  -0.393678 -0.360989 -0.210956 -0.257742 -0.347665  0.783205  0.043267   \n",
       "93790   0.047778  0.741160  0.508925 -0.059739 -0.065391 -0.138696 -0.134548   \n",
       "123328 -0.260753 -0.373348 -0.937595 -0.774998  2.225077 -0.413753 -0.297845   \n",
       "126403 -0.955275 -0.739601  0.405838  1.157364 -1.717754  0.532613  0.443070   \n",
       "...          ...       ...       ...       ...       ...       ...       ...   \n",
       "50136   0.606381  0.976724 -2.534300  0.937891 -0.991656 -2.003473 -0.045994   \n",
       "273672  0.679437  0.434459 -0.673921 -0.532389 -0.333971  0.210357 -0.069285   \n",
       "268146 -0.683783  1.034540  0.211524  0.573734  0.544761 -0.517835 -0.237780   \n",
       "42031  -0.795568 -1.888385 -0.442440  0.348403 -0.147016  0.444069 -0.079521   \n",
       "36501   0.482516 -0.317350 -0.448911  0.301933  0.078819  0.881855  0.750609   \n",
       "\n",
       "             v21       v22       v23       v24       v25       v26       v27  \\\n",
       "138805  0.099876  0.702279 -0.194992  0.034693 -0.271951 -0.402507 -0.359649   \n",
       "86044  -0.209533 -0.489587 -0.374907 -0.405319  0.492170  0.339188 -0.107684   \n",
       "93790  -0.237956 -0.716717  0.114452 -0.366347  0.135195  0.129319 -0.014949   \n",
       "123328 -0.214390 -0.138765 -0.283669 -0.835391  0.646958 -0.177545  0.063255   \n",
       "126403  0.253705  0.462592 -0.229476  0.129784  0.251871 -0.111874  0.038918   \n",
       "...          ...       ...       ...       ...       ...       ...       ...   \n",
       "50136  -0.403602 -1.210534  0.097523 -1.033980 -0.251935  0.220138 -0.018670   \n",
       "273672  0.184379  0.603199 -0.225128 -0.659959  0.670756 -0.379132 -0.040148   \n",
       "268146  0.192819  0.687191 -0.014358 -0.104785  0.211153 -0.096818 -0.004184   \n",
       "42031  -0.015309  0.313640 -0.123588 -0.228378  0.305133  0.513930  0.053458   \n",
       "36501   0.029003 -0.381676  0.586005 -0.366876  0.474599 -0.368183  0.110552   \n",
       "\n",
       "             v28  amount  class  pred_proba  pred  \n",
       "138805 -0.093177   19.45      0    0.005669     0  \n",
       "86044   0.052013   31.35      0    0.019179     0  \n",
       "93790   0.012339    0.89      0    0.021668     0  \n",
       "123328  0.026668   83.50      0    0.010309     0  \n",
       "126403  0.063682  250.00      0    0.056244     0  \n",
       "...          ...     ...    ...         ...   ...  \n",
       "50136   0.037997  279.90      0    0.002021     0  \n",
       "273672 -0.063864   70.00      0    0.022457     0  \n",
       "268146 -0.029435   11.99      0    0.187941     0  \n",
       "42031   0.018343   59.50      0    0.060541     0  \n",
       "36501   0.087960  339.00      0    0.015847     0  \n",
       "\n",
       "[85118 rows x 33 columns]"
      ]
     },
     "execution_count": 42,
     "metadata": {},
     "output_type": "execute_result"
    }
   ],
   "source": [
    "test_data[\"pred_proba\"] = y_pred_proba[:,1]\n",
    "test_data[\"pred\"] = y_pred\n",
    "test_data"
   ]
  },
  {
   "cell_type": "code",
   "execution_count": 43,
   "metadata": {},
   "outputs": [
    {
     "data": {
      "text/html": [
       "<div>\n",
       "<style scoped>\n",
       "    .dataframe tbody tr th:only-of-type {\n",
       "        vertical-align: middle;\n",
       "    }\n",
       "\n",
       "    .dataframe tbody tr th {\n",
       "        vertical-align: top;\n",
       "    }\n",
       "\n",
       "    .dataframe thead th {\n",
       "        text-align: right;\n",
       "    }\n",
       "</style>\n",
       "<table border=\"1\" class=\"dataframe\">\n",
       "  <thead>\n",
       "    <tr style=\"text-align: right;\">\n",
       "      <th></th>\n",
       "      <th>class</th>\n",
       "      <th>pred</th>\n",
       "    </tr>\n",
       "  </thead>\n",
       "  <tbody>\n",
       "    <tr>\n",
       "      <th>41826</th>\n",
       "      <td>1</td>\n",
       "      <td>1</td>\n",
       "    </tr>\n",
       "    <tr>\n",
       "      <th>107830</th>\n",
       "      <td>1</td>\n",
       "      <td>0</td>\n",
       "    </tr>\n",
       "    <tr>\n",
       "      <th>82744</th>\n",
       "      <td>1</td>\n",
       "      <td>1</td>\n",
       "    </tr>\n",
       "    <tr>\n",
       "      <th>56464</th>\n",
       "      <td>1</td>\n",
       "      <td>0</td>\n",
       "    </tr>\n",
       "    <tr>\n",
       "      <th>214375</th>\n",
       "      <td>1</td>\n",
       "      <td>1</td>\n",
       "    </tr>\n",
       "    <tr>\n",
       "      <th>10442</th>\n",
       "      <td>1</td>\n",
       "      <td>1</td>\n",
       "    </tr>\n",
       "    <tr>\n",
       "      <th>130779</th>\n",
       "      <td>1</td>\n",
       "      <td>0</td>\n",
       "    </tr>\n",
       "    <tr>\n",
       "      <th>149302</th>\n",
       "      <td>1</td>\n",
       "      <td>1</td>\n",
       "    </tr>\n",
       "    <tr>\n",
       "      <th>18710</th>\n",
       "      <td>1</td>\n",
       "      <td>1</td>\n",
       "    </tr>\n",
       "    <tr>\n",
       "      <th>58516</th>\n",
       "      <td>1</td>\n",
       "      <td>0</td>\n",
       "    </tr>\n",
       "    <tr>\n",
       "      <th>194676</th>\n",
       "      <td>1</td>\n",
       "      <td>1</td>\n",
       "    </tr>\n",
       "    <tr>\n",
       "      <th>93159</th>\n",
       "      <td>1</td>\n",
       "      <td>1</td>\n",
       "    </tr>\n",
       "    <tr>\n",
       "      <th>247381</th>\n",
       "      <td>1</td>\n",
       "      <td>1</td>\n",
       "    </tr>\n",
       "    <tr>\n",
       "      <th>162967</th>\n",
       "      <td>1</td>\n",
       "      <td>1</td>\n",
       "    </tr>\n",
       "    <tr>\n",
       "      <th>191677</th>\n",
       "      <td>1</td>\n",
       "      <td>1</td>\n",
       "    </tr>\n",
       "    <tr>\n",
       "      <th>6570</th>\n",
       "      <td>1</td>\n",
       "      <td>1</td>\n",
       "    </tr>\n",
       "    <tr>\n",
       "      <th>95238</th>\n",
       "      <td>1</td>\n",
       "      <td>1</td>\n",
       "    </tr>\n",
       "    <tr>\n",
       "      <th>203771</th>\n",
       "      <td>1</td>\n",
       "      <td>1</td>\n",
       "    </tr>\n",
       "    <tr>\n",
       "      <th>43818</th>\n",
       "      <td>1</td>\n",
       "      <td>1</td>\n",
       "    </tr>\n",
       "    <tr>\n",
       "      <th>8933</th>\n",
       "      <td>1</td>\n",
       "      <td>1</td>\n",
       "    </tr>\n",
       "  </tbody>\n",
       "</table>\n",
       "</div>"
      ],
      "text/plain": [
       "        class  pred\n",
       "41826       1     1\n",
       "107830      1     0\n",
       "82744       1     1\n",
       "56464       1     0\n",
       "214375      1     1\n",
       "10442       1     1\n",
       "130779      1     0\n",
       "149302      1     1\n",
       "18710       1     1\n",
       "58516       1     0\n",
       "194676      1     1\n",
       "93159       1     1\n",
       "247381      1     1\n",
       "162967      1     1\n",
       "191677      1     1\n",
       "6570        1     1\n",
       "95238       1     1\n",
       "203771      1     1\n",
       "43818       1     1\n",
       "8933        1     1"
      ]
     },
     "execution_count": 43,
     "metadata": {},
     "output_type": "execute_result"
    }
   ],
   "source": [
    "test_data[test_data[\"class\"]==1].sample(20)[[\"class\",\"pred\"]]"
   ]
  },
  {
   "cell_type": "code",
   "execution_count": 44,
   "metadata": {},
   "outputs": [
    {
     "data": {
      "text/plain": [
       "0    84976\n",
       "Name: class, dtype: int64"
      ]
     },
     "execution_count": 44,
     "metadata": {},
     "output_type": "execute_result"
    }
   ],
   "source": [
    "test_data[test_data[\"class\"]==0][\"class\"].value_counts()"
   ]
  },
  {
   "cell_type": "code",
   "execution_count": 45,
   "metadata": {},
   "outputs": [
    {
     "data": {
      "text/plain": [
       "0    82717\n",
       "1     2259\n",
       "Name: pred, dtype: int64"
      ]
     },
     "execution_count": 45,
     "metadata": {},
     "output_type": "execute_result"
    }
   ],
   "source": [
    "test_data[test_data[\"class\"]==0][\"pred\"].value_counts()"
   ]
  },
  {
   "cell_type": "code",
   "execution_count": 46,
   "metadata": {},
   "outputs": [
    {
     "data": {
      "text/plain": [
       "1    142\n",
       "Name: class, dtype: int64"
      ]
     },
     "execution_count": 46,
     "metadata": {},
     "output_type": "execute_result"
    }
   ],
   "source": [
    "test_data[test_data[\"class\"]==1][\"class\"].value_counts()"
   ]
  },
  {
   "cell_type": "code",
   "execution_count": 47,
   "metadata": {},
   "outputs": [
    {
     "data": {
      "text/plain": [
       "1    126\n",
       "0     16\n",
       "Name: pred, dtype: int64"
      ]
     },
     "execution_count": 47,
     "metadata": {},
     "output_type": "execute_result"
    }
   ],
   "source": [
    "test_data[test_data[\"class\"]==1][\"pred\"].value_counts()"
   ]
  },
  {
   "cell_type": "code",
   "execution_count": 48,
   "metadata": {},
   "outputs": [
    {
     "name": "stdout",
     "output_type": "stream",
     "text": [
      "test scores \n",
      "--------------\n",
      "[[82717  2259]\n",
      " [   16   126]]\n",
      "              precision    recall  f1-score   support\n",
      "\n",
      "           0       1.00      0.97      0.99     84976\n",
      "           1       0.05      0.89      0.10       142\n",
      "\n",
      "    accuracy                           0.97     85118\n",
      "   macro avg       0.53      0.93      0.54     85118\n",
      "weighted avg       1.00      0.97      0.98     85118\n",
      "\n"
     ]
    },
    {
     "data": {
      "image/png": "[encoded data removed]",
      "text/plain": [
       "<Figure size 432x288 with 2 Axes>"
      ]
     },
     "metadata": {
      "needs_background": "light"
     },
     "output_type": "display_data"
    }
   ],
   "source": [
    "y_pred = log_model.predict(X_test_scaled)\n",
    "\n",
    "print(\"test scores\",\"\\n--------------\")\n",
    "\n",
    "print(confusion_matrix(y_test,y_pred))\n",
    "print(classification_report(y_test, y_pred))\n",
    "plot_confusion_matrix(log_model,X_test_scaled,y_test,values_format='.0f');"
   ]
  },
  {
   "cell_type": "code",
   "execution_count": 49,
   "metadata": {
    "scrolled": false
   },
   "outputs": [
    {
     "name": "stdout",
     "output_type": "stream",
     "text": [
      "train scores \n",
      "--------------\n",
      "[[193134   5143]\n",
      " [    23    308]]\n",
      "              precision    recall  f1-score   support\n",
      "\n",
      "           0       1.00      0.97      0.99    198277\n",
      "           1       0.06      0.93      0.11       331\n",
      "\n",
      "    accuracy                           0.97    198608\n",
      "   macro avg       0.53      0.95      0.55    198608\n",
      "weighted avg       1.00      0.97      0.99    198608\n",
      "\n"
     ]
    },
    {
     "data": {
      "image/png": "[encoded data removed]",
      "text/plain": [
       "<Figure size 432x288 with 2 Axes>"
      ]
     },
     "metadata": {
      "needs_background": "light"
     },
     "output_type": "display_data"
    }
   ],
   "source": [
    "y_pred = log_model.predict(X_train_scaled)\n",
    "print(\"train scores\",\"\\n--------------\")\n",
    "print(confusion_matrix(y_train,y_pred))\n",
    "print(classification_report(y_train, y_pred))\n",
    "plot_confusion_matrix(log_model,X_train_scaled,y_train);"
   ]
  },
  {
   "cell_type": "code",
   "execution_count": 50,
   "metadata": {},
   "outputs": [
    {
     "name": "stdout",
     "output_type": "stream",
     "text": [
      "Cross-Validation Mean of Accuracy Scores 0.9740040851896511\n",
      "\n",
      "[0.97432153 0.97301244 0.97185439 0.97437188 0.97593273 0.97316349\n",
      " 0.97250894 0.97351594 0.97502518 0.97633434]\n"
     ]
    }
   ],
   "source": [
    "scores = cross_val_score(log_model, X_train_scaled, y_train, cv=10)\n",
    "print('Cross-Validation Mean of Accuracy Scores', scores.mean())\n",
    "print(\"\")\n",
    "print(scores)"
   ]
  },
  {
   "cell_type": "code",
   "execution_count": 51,
   "metadata": {},
   "outputs": [
    {
     "name": "stdout",
     "output_type": "stream",
     "text": [
      "Cross-Validation Mean of f1_weighted Scores 0.9853396028823983\n",
      "\n",
      "[0.98550884 0.98483772 0.98422768 0.98552578 0.98633535 0.98491192\n",
      " 0.98458021 0.98505062 0.98586933 0.98654858]\n"
     ]
    }
   ],
   "source": [
    "scores = cross_val_score(log_model, X_train_scaled, y_train, cv=10, scoring=\"f1_weighted\")\n",
    "print('Cross-Validation Mean of f1_weighted Scores', scores.mean())\n",
    "print(\"\")\n",
    "print(scores)"
   ]
  },
  {
   "cell_type": "markdown",
   "metadata": {
    "id": "l193OP5fMuHd"
   },
   "source": [
    "\n",
    "You're evaluating \"accuracy score\"? Is your performance metric reflect real success? You may need to use different metrics to evaluate performance on unbalanced data. You should use **[precision and recall metrics](https://scikit-learn.org/stable/auto_examples/model_selection/plot_precision_recall.html#:~:text=The%20precision%2Drecall%20curve%20shows,a%20low%20false%20negative%20rate.)**."
   ]
  },
  {
   "cell_type": "code",
   "execution_count": 52,
   "metadata": {},
   "outputs": [
    {
     "name": "stdout",
     "output_type": "stream",
     "text": [
      "Cross-Validation Mean of precision Scores 0.05543773396954739\n",
      "\n",
      "[0.05586592 0.05643739 0.05119454 0.05263158 0.05588822 0.05516014\n",
      " 0.05699482 0.05595668 0.05566219 0.05858586]\n"
     ]
    }
   ],
   "source": [
    "scores = cross_val_score(log_model, X_train_scaled, y_train, cv=10, scoring=\"precision\")\n",
    "print('Cross-Validation Mean of precision Scores', scores.mean())\n",
    "print(\"\")\n",
    "print(scores)"
   ]
  },
  {
   "cell_type": "code",
   "execution_count": 53,
   "metadata": {},
   "outputs": [
    {
     "name": "stdout",
     "output_type": "stream",
     "text": [
      "Cross-Validation Mean of recall Scores 0.9093582887700535\n",
      "\n",
      "[0.90909091 0.96969697 0.90909091 0.84848485 0.84848485 0.93939394\n",
      " 1.         0.91176471 0.87878788 0.87878788]\n"
     ]
    }
   ],
   "source": [
    "scores = cross_val_score(log_model, X_train_scaled, y_train, cv=10, scoring=\"recall\")\n",
    "print('Cross-Validation Mean of recall Scores', scores.mean())\n",
    "print(\"\")\n",
    "print(scores)"
   ]
  },
  {
   "cell_type": "markdown",
   "metadata": {
    "id": "fUDt5voIMuHe"
   },
   "source": [
    "***iv. Plot Precision and Recall Curve***\n"
   ]
  },
  {
   "cell_type": "code",
   "execution_count": 54,
   "metadata": {},
   "outputs": [],
   "source": [
    "from sklearn.metrics import plot_roc_curve, plot_precision_recall_curve, roc_auc_score, auc, roc_curve"
   ]
  },
  {
   "cell_type": "code",
   "execution_count": 55,
   "metadata": {
    "id": "WI0OI9SDMuHe"
   },
   "outputs": [
    {
     "data": {
      "image/png": "[encoded data removed]",
      "text/plain": [
       "<Figure size 432x288 with 1 Axes>"
      ]
     },
     "metadata": {
      "needs_background": "light"
     },
     "output_type": "display_data"
    }
   ],
   "source": [
    "plot_roc_curve(log_model, X_test_scaled, y_test, response_method='auto');"
   ]
  },
  {
   "cell_type": "code",
   "execution_count": 56,
   "metadata": {},
   "outputs": [
    {
     "data": {
      "image/png": "[encoded data removed]",
      "text/plain": [
       "<Figure size 432x288 with 1 Axes>"
      ]
     },
     "metadata": {
      "needs_background": "light"
     },
     "output_type": "display_data"
    }
   ],
   "source": [
    "plot_precision_recall_curve(log_model, X_test_scaled, y_test);"
   ]
  },
  {
   "cell_type": "markdown",
   "metadata": {
    "id": "CAzArHfTMuHe"
   },
   "source": [
    "***v. Apply and Plot StratifiedKFold***"
   ]
  },
  {
   "cell_type": "markdown",
   "metadata": {},
   "source": [
    "*Stratified k-fold cross-validation is same as just k-fold cross-validation, But in Stratified k-fold cross-validation, it does stratified sampling instead of random sampling."
   ]
  },
  {
   "cell_type": "code",
   "execution_count": 57,
   "metadata": {},
   "outputs": [],
   "source": [
    "from sklearn import preprocessing\n",
    "from sklearn.model_selection import StratifiedKFold"
   ]
  },
  {
   "cell_type": "code",
   "execution_count": 58,
   "metadata": {
    "id": "8ugUuOhhMuHe",
    "scrolled": true
   },
   "outputs": [
    {
     "name": "stdout",
     "output_type": "stream",
     "text": [
      "1 of KFold 10\n",
      "ROC AUC score: 0.9136114328464489\n",
      "2 of KFold 10\n",
      "ROC AUC score: 0.9501863561182043\n",
      "3 of KFold 10\n",
      "ROC AUC score: 0.9504687821578851\n",
      "4 of KFold 10\n",
      "ROC AUC score: 0.8945307443365695\n",
      "5 of KFold 10\n",
      "ROC AUC score: 0.9383862900853192\n",
      "6 of KFold 10\n",
      "ROC AUC score: 0.941987349220359\n",
      "7 of KFold 10\n",
      "ROC AUC score: 0.9168763027924358\n",
      "8 of KFold 10\n",
      "ROC AUC score: 0.9399710803552984\n",
      "9 of KFold 10\n",
      "ROC AUC score: 0.9374821130119622\n",
      "10 of KFold 10\n",
      "ROC AUC score: 0.9512095547501457\n"
     ]
    }
   ],
   "source": [
    "kf = StratifiedKFold(n_splits=10,shuffle=True,random_state=42)\n",
    "pred_test_full =0\n",
    "cv_score =[]\n",
    "i=1\n",
    "for train_index,test_index in kf.split(X,y):\n",
    "    print('{} of KFold {}'.format(i,kf.n_splits))\n",
    "    xtr,xvl = X.loc[train_index],X.loc[test_index]\n",
    "    ytr,yvl = y.loc[train_index],y.loc[test_index]\n",
    "    \n",
    "    #model\n",
    "    log_model.fit(xtr,ytr)\n",
    "    score = roc_auc_score(yvl,log_model.predict(xvl))\n",
    "    print('ROC AUC score:',score)\n",
    "    cv_score.append(score)    \n",
    "    pred_test = log_model.predict_proba(X_test_scaled)[:,1]\n",
    "    pred_test_full +=pred_test\n",
    "    i+=1"
   ]
  },
  {
   "cell_type": "code",
   "execution_count": 59,
   "metadata": {},
   "outputs": [
    {
     "name": "stdout",
     "output_type": "stream",
     "text": [
      "Confusion matrix\n",
      " [[27369   956]\n",
      " [    3    44]]\n",
      "Cv [0.9136114328464489, 0.9501863561182043, 0.9504687821578851, 0.8945307443365695, 0.9383862900853192, 0.941987349220359, 0.9168763027924358, 0.9399710803552984, 0.9374821130119622, 0.9512095547501457] \n",
      "Mean cv Score 0.9334710005674627\n"
     ]
    }
   ],
   "source": [
    "print('Confusion matrix\\n',confusion_matrix(yvl,log_model.predict(xvl)))\n",
    "print('Cv',cv_score,'\\nMean cv Score',np.mean(cv_score))"
   ]
  },
  {
   "cell_type": "code",
   "execution_count": 60,
   "metadata": {},
   "outputs": [
    {
     "data": {
      "image/png": "[encoded data removed]",
      "text/plain": [
       "<Figure size 864x504 with 1 Axes>"
      ]
     },
     "metadata": {
      "needs_background": "light"
     },
     "output_type": "display_data"
    }
   ],
   "source": [
    "proba = log_model.predict_proba(xvl)[:,1]\n",
    "frp,trp, threshold = roc_curve(yvl,proba)\n",
    "roc_auc_ = auc(frp,trp)\n",
    "\n",
    "plt.figure(figsize=(12,7))\n",
    "plt.title('Reciever Operating Characteristics')\n",
    "plt.plot(frp,trp,'r',label = 'AUC = %0.2f' % roc_auc_)\n",
    "plt.legend(loc='lower right')\n",
    "plt.plot([0,1],[0,1],'b--')\n",
    "plt.ylabel('True positive rate')\n",
    "plt.xlabel('False positive rate');"
   ]
  },
  {
   "cell_type": "markdown",
   "metadata": {
    "id": "bwELs8xsJQ0Q"
   },
   "source": [
    "- Didn't the performance of the model you implemented above satisfy you? If your model is biased towards the majority class and minority class recall is not sufficient, apply **SMOTE**."
   ]
  },
  {
   "cell_type": "markdown",
   "metadata": {
    "id": "4f8q5y12MuHe"
   },
   "source": [
    "### Apply SMOTE"
   ]
  },
  {
   "cell_type": "code",
   "execution_count": 61,
   "metadata": {},
   "outputs": [
    {
     "name": "stdout",
     "output_type": "stream",
     "text": [
      "Requirement already satisfied: imblearn in c:\\users\\selim\\anaconda3\\lib\\site-packages (0.0)\n",
      "Requirement already satisfied: imbalanced-learn in c:\\users\\selim\\anaconda3\\lib\\site-packages (from imblearn) (0.8.1)\n",
      "Requirement already satisfied: numpy>=1.13.3 in c:\\users\\selim\\anaconda3\\lib\\site-packages (from imbalanced-learn->imblearn) (1.19.5)\n",
      "Requirement already satisfied: scipy>=0.19.1 in c:\\users\\selim\\anaconda3\\lib\\site-packages (from imbalanced-learn->imblearn) (1.6.2)\n",
      "Requirement already satisfied: joblib>=0.11 in c:\\users\\selim\\anaconda3\\lib\\site-packages (from imbalanced-learn->imblearn) (1.0.1)\n",
      "Requirement already satisfied: scikit-learn>=0.24 in c:\\users\\selim\\anaconda3\\lib\\site-packages (from imbalanced-learn->imblearn) (0.24.1)\n",
      "Requirement already satisfied: threadpoolctl>=2.0.0 in c:\\users\\selim\\anaconda3\\lib\\site-packages (from scikit-learn>=0.24->imbalanced-learn->imblearn) (2.1.0)\n"
     ]
    }
   ],
   "source": [
    "!pip install imblearn"
   ]
  },
  {
   "cell_type": "code",
   "execution_count": 62,
   "metadata": {
    "id": "rlz070TfMuHf"
   },
   "outputs": [],
   "source": [
    "from imblearn.over_sampling import SMOTE"
   ]
  },
  {
   "cell_type": "code",
   "execution_count": 63,
   "metadata": {},
   "outputs": [
    {
     "data": {
      "text/plain": [
       "0    283253\n",
       "1       473\n",
       "Name: class, dtype: int64"
      ]
     },
     "execution_count": 63,
     "metadata": {},
     "output_type": "execute_result"
    }
   ],
   "source": [
    "df[\"class\"].value_counts()"
   ]
  },
  {
   "cell_type": "code",
   "execution_count": 64,
   "metadata": {},
   "outputs": [],
   "source": [
    "from imblearn.pipeline import Pipeline"
   ]
  },
  {
   "cell_type": "code",
   "execution_count": 65,
   "metadata": {
    "scrolled": true
   },
   "outputs": [],
   "source": [
    "#Oversampling the data\n",
    "smote = SMOTE(random_state = 42)"
   ]
  },
  {
   "cell_type": "markdown",
   "metadata": {
    "id": "9wvBCEvpJQ0U"
   },
   "source": [
    "### Logistic Regression with SMOTE\n",
    "\n",
    "- The steps you are going to cover for this algorithm are as follows:\n",
    "   \n",
    "   *i. Train-Test Split (Again)*\n",
    "   \n",
    "   *ii. Model Training*\n",
    "   \n",
    "   *iii. Prediction and Model Evaluating*\n",
    "   \n",
    "   *iv. Plot Precision and Recall Curve*\n",
    "   \n",
    "   *v. Apply and Plot StratifiedKFold*"
   ]
  },
  {
   "cell_type": "markdown",
   "metadata": {
    "id": "IJqXQ_aHMuHf"
   },
   "source": [
    "***i. Train-Test Split (Again)***\n",
    "\n",
    "Use SMOTE applied data."
   ]
  },
  {
   "cell_type": "code",
   "execution_count": 66,
   "metadata": {
    "id": "Qmc3bUHKMuHf"
   },
   "outputs": [
    {
     "data": {
      "text/plain": [
       "0    283253\n",
       "1    283253\n",
       "Name: class, dtype: int64"
      ]
     },
     "execution_count": 66,
     "metadata": {},
     "output_type": "execute_result"
    }
   ],
   "source": [
    "X, y = smote.fit_resample(df.drop(\"class\",axis=1), df['class'])#Creating a new Oversampling Data Frame\n",
    "df_oversampler = pd.DataFrame(X, columns = df.drop(\"class\",axis=1).columns)\n",
    "y.value_counts()"
   ]
  },
  {
   "cell_type": "code",
   "execution_count": 67,
   "metadata": {},
   "outputs": [
    {
     "data": {
      "text/plain": [
       "<AxesSubplot:xlabel='class', ylabel='count'>"
      ]
     },
     "execution_count": 67,
     "metadata": {},
     "output_type": "execute_result"
    },
    {
     "data": {
      "image/png": "[encoded data removed]",
      "text/plain": [
       "<Figure size 432x288 with 1 Axes>"
      ]
     },
     "metadata": {
      "needs_background": "light"
     },
     "output_type": "display_data"
    }
   ],
   "source": [
    "sns.countplot(y)"
   ]
  },
  {
   "cell_type": "code",
   "execution_count": 68,
   "metadata": {},
   "outputs": [],
   "source": [
    "X_train, X_test, y_train, y_test = train_test_split(X, y, test_size=0.3, random_state=42, stratify=y)"
   ]
  },
  {
   "cell_type": "code",
   "execution_count": 69,
   "metadata": {},
   "outputs": [],
   "source": [
    "X_train_scaled = scaler.fit_transform(X_train)\n",
    "X_test_scaled = scaler.transform(X_test)"
   ]
  },
  {
   "cell_type": "markdown",
   "metadata": {
    "id": "evc6DLPcMuHf"
   },
   "source": [
    "***ii. Model Training***"
   ]
  },
  {
   "cell_type": "code",
   "execution_count": 70,
   "metadata": {
    "id": "hz36IA3EMuHf"
   },
   "outputs": [],
   "source": [
    "log_smodel = LogisticRegression(random_state=42)"
   ]
  },
  {
   "cell_type": "code",
   "execution_count": 71,
   "metadata": {},
   "outputs": [
    {
     "data": {
      "text/plain": [
       "LogisticRegression(random_state=42)"
      ]
     },
     "execution_count": 71,
     "metadata": {},
     "output_type": "execute_result"
    }
   ],
   "source": [
    "log_smodel.fit(X_train_scaled, y_train)"
   ]
  },
  {
   "cell_type": "code",
   "execution_count": 72,
   "metadata": {},
   "outputs": [
    {
     "data": {
      "text/plain": [
       "array([[-0.48987517,  6.9516097 ,  3.52640596,  4.05826387,  2.34138237,\n",
       "         4.97038335, -1.30794716, -6.75408662, -1.95305848, -1.48056752,\n",
       "        -4.70620274,  2.10082675, -7.57008168, -0.4802984 , -9.6482886 ,\n",
       "        -0.24174488, -4.2943878 , -9.98065783, -1.1921108 ,  0.66408265,\n",
       "        -1.41715576, -0.10870895,  0.86067466,  1.07483883,  0.04565106,\n",
       "         0.07249195, -0.1196713 ,  0.01187141,  0.60028166,  3.15852501]])"
      ]
     },
     "execution_count": 72,
     "metadata": {},
     "output_type": "execute_result"
    }
   ],
   "source": [
    "log_smodel.coef_"
   ]
  },
  {
   "cell_type": "markdown",
   "metadata": {
    "id": "kqJHSV5FMuHf"
   },
   "source": [
    "***iii. Prediction and Model Evaluating***"
   ]
  },
  {
   "cell_type": "code",
   "execution_count": 73,
   "metadata": {
    "id": "J_lxSdHyMuHg"
   },
   "outputs": [
    {
     "data": {
      "text/plain": [
       "array([0, 1, 1, ..., 0, 0, 0], dtype=int64)"
      ]
     },
     "execution_count": 73,
     "metadata": {},
     "output_type": "execute_result"
    }
   ],
   "source": [
    "y_pred = log_smodel.predict(X_test_scaled)\n",
    "y_pred"
   ]
  },
  {
   "cell_type": "code",
   "execution_count": 74,
   "metadata": {},
   "outputs": [],
   "source": [
    "smote_df = pd.DataFrame(y_test)"
   ]
  },
  {
   "cell_type": "code",
   "execution_count": 75,
   "metadata": {},
   "outputs": [
    {
     "data": {
      "text/html": [
       "<div>\n",
       "<style scoped>\n",
       "    .dataframe tbody tr th:only-of-type {\n",
       "        vertical-align: middle;\n",
       "    }\n",
       "\n",
       "    .dataframe tbody tr th {\n",
       "        vertical-align: top;\n",
       "    }\n",
       "\n",
       "    .dataframe thead th {\n",
       "        text-align: right;\n",
       "    }\n",
       "</style>\n",
       "<table border=\"1\" class=\"dataframe\">\n",
       "  <thead>\n",
       "    <tr style=\"text-align: right;\">\n",
       "      <th></th>\n",
       "      <th>class</th>\n",
       "      <th>pred</th>\n",
       "    </tr>\n",
       "  </thead>\n",
       "  <tbody>\n",
       "    <tr>\n",
       "      <th>74990</th>\n",
       "      <td>0</td>\n",
       "      <td>0</td>\n",
       "    </tr>\n",
       "    <tr>\n",
       "      <th>545510</th>\n",
       "      <td>1</td>\n",
       "      <td>1</td>\n",
       "    </tr>\n",
       "    <tr>\n",
       "      <th>407331</th>\n",
       "      <td>1</td>\n",
       "      <td>1</td>\n",
       "    </tr>\n",
       "    <tr>\n",
       "      <th>46948</th>\n",
       "      <td>0</td>\n",
       "      <td>0</td>\n",
       "    </tr>\n",
       "    <tr>\n",
       "      <th>415432</th>\n",
       "      <td>1</td>\n",
       "      <td>1</td>\n",
       "    </tr>\n",
       "    <tr>\n",
       "      <th>...</th>\n",
       "      <td>...</td>\n",
       "      <td>...</td>\n",
       "    </tr>\n",
       "    <tr>\n",
       "      <th>473798</th>\n",
       "      <td>1</td>\n",
       "      <td>1</td>\n",
       "    </tr>\n",
       "    <tr>\n",
       "      <th>146767</th>\n",
       "      <td>0</td>\n",
       "      <td>0</td>\n",
       "    </tr>\n",
       "    <tr>\n",
       "      <th>257171</th>\n",
       "      <td>0</td>\n",
       "      <td>0</td>\n",
       "    </tr>\n",
       "    <tr>\n",
       "      <th>38623</th>\n",
       "      <td>0</td>\n",
       "      <td>0</td>\n",
       "    </tr>\n",
       "    <tr>\n",
       "      <th>110357</th>\n",
       "      <td>0</td>\n",
       "      <td>0</td>\n",
       "    </tr>\n",
       "  </tbody>\n",
       "</table>\n",
       "<p>169952 rows × 2 columns</p>\n",
       "</div>"
      ],
      "text/plain": [
       "        class  pred\n",
       "74990       0     0\n",
       "545510      1     1\n",
       "407331      1     1\n",
       "46948       0     0\n",
       "415432      1     1\n",
       "...       ...   ...\n",
       "473798      1     1\n",
       "146767      0     0\n",
       "257171      0     0\n",
       "38623       0     0\n",
       "110357      0     0\n",
       "\n",
       "[169952 rows x 2 columns]"
      ]
     },
     "execution_count": 75,
     "metadata": {},
     "output_type": "execute_result"
    }
   ],
   "source": [
    "smote_df[\"pred\"] = y_pred\n",
    "smote_df"
   ]
  },
  {
   "cell_type": "code",
   "execution_count": 76,
   "metadata": {
    "scrolled": false
   },
   "outputs": [
    {
     "name": "stdout",
     "output_type": "stream",
     "text": [
      "test scores \n",
      "--------------\n",
      "[[84184   792]\n",
      " [ 2814 82162]]\n",
      "              precision    recall  f1-score   support\n",
      "\n",
      "           0       0.97      0.99      0.98     84976\n",
      "           1       0.99      0.97      0.98     84976\n",
      "\n",
      "    accuracy                           0.98    169952\n",
      "   macro avg       0.98      0.98      0.98    169952\n",
      "weighted avg       0.98      0.98      0.98    169952\n",
      "\n",
      "\n",
      "\n",
      "train scores \n",
      "--------------\n",
      "[[196496   1781]\n",
      " [  6667 191610]]\n",
      "              precision    recall  f1-score   support\n",
      "\n",
      "           0       0.97      0.99      0.98    198277\n",
      "           1       0.99      0.97      0.98    198277\n",
      "\n",
      "    accuracy                           0.98    396554\n",
      "   macro avg       0.98      0.98      0.98    396554\n",
      "weighted avg       0.98      0.98      0.98    396554\n",
      "\n"
     ]
    },
    {
     "data": {
      "image/png": "[encoded data removed]",
      "text/plain": [
       "<Figure size 432x288 with 2 Axes>"
      ]
     },
     "metadata": {
      "needs_background": "light"
     },
     "output_type": "display_data"
    },
    {
     "data": {
      "image/png": "[encoded data removed]",
      "text/plain": [
       "<Figure size 432x288 with 2 Axes>"
      ]
     },
     "metadata": {
      "needs_background": "light"
     },
     "output_type": "display_data"
    }
   ],
   "source": [
    "y_pred = log_smodel.predict(X_test_scaled)\n",
    "\n",
    "print(\"test scores\",\"\\n--------------\")\n",
    "\n",
    "print(confusion_matrix(y_test,y_pred))\n",
    "print(classification_report(y_test, y_pred))\n",
    "plot_confusion_matrix(log_smodel,X_test_scaled,y_test,values_format='.0f')\n",
    "print()\n",
    "print()\n",
    "\n",
    "y_pred = log_smodel.predict(X_train_scaled)\n",
    "print(\"train scores\",\"\\n--------------\")\n",
    "print(confusion_matrix(y_train,y_pred))\n",
    "print(classification_report(y_train, y_pred))\n",
    "plot_confusion_matrix(log_smodel,X_train_scaled,y_train);"
   ]
  },
  {
   "cell_type": "code",
   "execution_count": 105,
   "metadata": {},
   "outputs": [
    {
     "name": "stdout",
     "output_type": "stream",
     "text": [
      "Cross-Validation Mean of precision Scores 0.9908116167711167\n",
      "\n",
      "[0.99059723 0.99042988 0.991721   0.99063777 0.99136058 0.98993289\n",
      " 0.99083804 0.99094625 0.99094718 0.99070536]\n"
     ]
    }
   ],
   "source": [
    "scores = cross_val_score(log_smodel, X_train_scaled, y_train, cv=10, scoring=\"precision\")\n",
    "print('Cross-Validation Mean of precision Scores', scores.mean())\n",
    "print(\"\")\n",
    "print(scores)"
   ]
  },
  {
   "cell_type": "markdown",
   "metadata": {
    "id": "AFGgLGBqMuHg"
   },
   "source": [
    "***iv.  Plot Precision and Recall Curve***\n"
   ]
  },
  {
   "cell_type": "code",
   "execution_count": 77,
   "metadata": {
    "id": "CWdU7r-UMuHg"
   },
   "outputs": [
    {
     "data": {
      "image/png": "[encoded data removed]",
      "text/plain": [
       "<Figure size 432x288 with 1 Axes>"
      ]
     },
     "metadata": {
      "needs_background": "light"
     },
     "output_type": "display_data"
    }
   ],
   "source": [
    "plot_precision_recall_curve(log_smodel, X_test_scaled, y_test);"
   ]
  },
  {
   "cell_type": "markdown",
   "metadata": {
    "id": "HELeR2YVMuHg"
   },
   "source": [
    "***v. Apply and Plot StratifiedKFold***"
   ]
  },
  {
   "cell_type": "code",
   "execution_count": 78,
   "metadata": {
    "id": "hcmB-zKsMuHg",
    "scrolled": true
   },
   "outputs": [
    {
     "name": "stdout",
     "output_type": "stream",
     "text": [
      "1 of KFold 10\n",
      "ROC AUC score: 0.9563465574403278\n",
      "2 of KFold 10\n",
      "ROC AUC score: 0.9556228132936417\n",
      "3 of KFold 10\n",
      "ROC AUC score: 0.9705740627079286\n",
      "4 of KFold 10\n",
      "ROC AUC score: 0.9564175571780305\n",
      "5 of KFold 10\n",
      "ROC AUC score: 0.9723748870404899\n",
      "6 of KFold 10\n",
      "ROC AUC score: 0.9563822520535246\n",
      "7 of KFold 10\n",
      "ROC AUC score: 0.9696734333627537\n",
      "8 of KFold 10\n",
      "ROC AUC score: 0.969973521624007\n",
      "9 of KFold 10\n",
      "ROC AUC score: 0.968667255075022\n",
      "10 of KFold 10\n",
      "ROC AUC score: 0.9700441306266548\n"
     ]
    }
   ],
   "source": [
    "kf = StratifiedKFold(n_splits=10,shuffle=True,random_state=42)\n",
    "pred_test_full =0\n",
    "cv_score =[]\n",
    "i=1\n",
    "for train_index,test_index in kf.split(X,y):\n",
    "    print('{} of KFold {}'.format(i,kf.n_splits))\n",
    "    xtr,xvl = X.loc[train_index],X.loc[test_index]\n",
    "    ytr,yvl = y.loc[train_index],y.loc[test_index]\n",
    "    \n",
    "    #model\n",
    "    log_smodel.fit(xtr,ytr)\n",
    "    score = roc_auc_score(yvl,log_smodel.predict(xvl))\n",
    "    print('ROC AUC score:',score)\n",
    "    cv_score.append(score)    \n",
    "    pred_test = log_smodel.predict_proba(X_test_scaled)[:,1]\n",
    "    pred_test_full +=pred_test\n",
    "    i+=1"
   ]
  },
  {
   "cell_type": "code",
   "execution_count": 79,
   "metadata": {},
   "outputs": [
    {
     "name": "stdout",
     "output_type": "stream",
     "text": [
      "Confusion matrix\n",
      " [[27778   547]\n",
      " [ 1150 27175]]\n",
      "Cv [0.9563465574403278, 0.9556228132936417, 0.9705740627079286, 0.9564175571780305, 0.9723748870404899, 0.9563822520535246, 0.9696734333627537, 0.969973521624007, 0.968667255075022, 0.9700441306266548] \n",
      "Mean cv Score 0.9646076470402379\n"
     ]
    }
   ],
   "source": [
    "print('Confusion matrix\\n',confusion_matrix(yvl,log_smodel.predict(xvl)))\n",
    "print('Cv',cv_score,'\\nMean cv Score',np.mean(cv_score))"
   ]
  },
  {
   "cell_type": "code",
   "execution_count": 80,
   "metadata": {},
   "outputs": [
    {
     "data": {
      "image/png": "[encoded data removed]",
      "text/plain": [
       "<Figure size 864x504 with 1 Axes>"
      ]
     },
     "metadata": {
      "needs_background": "light"
     },
     "output_type": "display_data"
    }
   ],
   "source": [
    "proba = log_smodel.predict_proba(xvl)[:,1]\n",
    "frp,trp, threshold = roc_curve(yvl,proba)\n",
    "roc_auc_ = auc(frp,trp)\n",
    "\n",
    "plt.figure(figsize=(12,7))\n",
    "plt.title('Reciever Operating Characteristics')\n",
    "plt.plot(frp,trp,'r',label = 'AUC = %0.2f' % roc_auc_)\n",
    "plt.legend(loc='lower right')\n",
    "plt.plot([0,1],[0,1],'b--')\n",
    "plt.ylabel('True positive rate')\n",
    "plt.xlabel('False positive rate');"
   ]
  },
  {
   "cell_type": "markdown",
   "metadata": {
    "id": "_3zm70O7JQ0Z"
   },
   "source": [
    "### Random Forest Classifier with SMOTE\n",
    "\n",
    "- The steps you are going to cover for this algorithm are as follows:\n",
    "\n",
    "   *i. Model Training*\n",
    "   \n",
    "   *ii. Prediction and Model Evaluating*\n",
    "   \n",
    "   *iii. Plot Precision and Recall Curve*\n",
    "   \n",
    "   *iv. Apply and Plot StratifiedKFold*\n",
    "   "
   ]
  },
  {
   "cell_type": "markdown",
   "metadata": {
    "id": "sr5U80HbMuHg"
   },
   "source": [
    "***i. Model Training***"
   ]
  },
  {
   "cell_type": "code",
   "execution_count": 90,
   "metadata": {
    "id": "kuvRr7f3MuHh"
   },
   "outputs": [],
   "source": [
    "from sklearn.ensemble import RandomForestClassifier"
   ]
  },
  {
   "cell_type": "code",
   "execution_count": 91,
   "metadata": {},
   "outputs": [],
   "source": [
    "rf_model = RandomForestClassifier(random_state=42)"
   ]
  },
  {
   "cell_type": "code",
   "execution_count": 92,
   "metadata": {},
   "outputs": [
    {
     "data": {
      "text/plain": [
       "RandomForestClassifier(random_state=42)"
      ]
     },
     "execution_count": 92,
     "metadata": {},
     "output_type": "execute_result"
    }
   ],
   "source": [
    "rf_model.fit(X_train_scaled,y_train)"
   ]
  },
  {
   "cell_type": "markdown",
   "metadata": {
    "id": "dJ9TJdpmMuHh"
   },
   "source": [
    "***ii. Prediction and Model Evaluating***"
   ]
  },
  {
   "cell_type": "code",
   "execution_count": 93,
   "metadata": {
    "id": "BaNd2jTRMuHh"
   },
   "outputs": [
    {
     "name": "stdout",
     "output_type": "stream",
     "text": [
      "test scores \n",
      "--------------\n",
      "[[84960    16]\n",
      " [    0 84976]]\n",
      "              precision    recall  f1-score   support\n",
      "\n",
      "           0       1.00      1.00      1.00     84976\n",
      "           1       1.00      1.00      1.00     84976\n",
      "\n",
      "    accuracy                           1.00    169952\n",
      "   macro avg       1.00      1.00      1.00    169952\n",
      "weighted avg       1.00      1.00      1.00    169952\n",
      "\n"
     ]
    },
    {
     "data": {
      "image/png": "[encoded data removed]",
      "text/plain": [
       "<Figure size 432x288 with 2 Axes>"
      ]
     },
     "metadata": {
      "needs_background": "light"
     },
     "output_type": "display_data"
    }
   ],
   "source": [
    "y_pred = rf_model.predict(X_test_scaled)\n",
    "\n",
    "print(\"test scores\",\"\\n--------------\")\n",
    "\n",
    "print(confusion_matrix(y_test,y_pred))\n",
    "print(classification_report(y_test, y_pred))\n",
    "plot_confusion_matrix(rf_model,X_test_scaled,y_test,values_format='.0f');"
   ]
  },
  {
   "cell_type": "code",
   "execution_count": 94,
   "metadata": {
    "scrolled": false
   },
   "outputs": [
    {
     "name": "stdout",
     "output_type": "stream",
     "text": [
      "train scores \n",
      "--------------\n",
      "[[198277      0]\n",
      " [     0 198277]]\n",
      "              precision    recall  f1-score   support\n",
      "\n",
      "           0       1.00      1.00      1.00    198277\n",
      "           1       1.00      1.00      1.00    198277\n",
      "\n",
      "    accuracy                           1.00    396554\n",
      "   macro avg       1.00      1.00      1.00    396554\n",
      "weighted avg       1.00      1.00      1.00    396554\n",
      "\n"
     ]
    },
    {
     "data": {
      "image/png": "[encoded data removed]",
      "text/plain": [
       "<Figure size 432x288 with 2 Axes>"
      ]
     },
     "metadata": {
      "needs_background": "light"
     },
     "output_type": "display_data"
    }
   ],
   "source": [
    "y_pred = rf_model.predict(X_train_scaled)\n",
    "print(\"train scores\",\"\\n--------------\")\n",
    "print(confusion_matrix(y_train,y_pred))\n",
    "print(classification_report(y_train, y_pred))\n",
    "plot_confusion_matrix(rf_model,X_train_scaled,y_train);"
   ]
  },
  {
   "cell_type": "code",
   "execution_count": 95,
   "metadata": {},
   "outputs": [],
   "source": [
    "param_grid = {'n_estimators':[50, 100, 300],\n",
    "             'max_features':[2, 3, 4],\n",
    "             'max_depth':[3, 5, 7, 9],\n",
    "             'min_samples_split':[2, 5, 8]}"
   ]
  },
  {
   "cell_type": "code",
   "execution_count": 96,
   "metadata": {},
   "outputs": [],
   "source": [
    "from sklearn.model_selection import GridSearchCV"
   ]
  },
  {
   "cell_type": "code",
   "execution_count": 97,
   "metadata": {},
   "outputs": [
    {
     "name": "stdout",
     "output_type": "stream",
     "text": [
      "Fitting 5 folds for each of 108 candidates, totalling 540 fits\n"
     ]
    }
   ],
   "source": [
    "model = RandomForestClassifier(random_state=42)\n",
    "rf_grid_model = GridSearchCV(model, param_grid, scoring = \"recall\", n_jobs = -1, verbose = 2).fit(X_train_scaled, y_train)"
   ]
  },
  {
   "cell_type": "code",
   "execution_count": 98,
   "metadata": {},
   "outputs": [
    {
     "data": {
      "text/plain": [
       "{'max_depth': 9,\n",
       " 'max_features': 4,\n",
       " 'min_samples_split': 2,\n",
       " 'n_estimators': 300}"
      ]
     },
     "execution_count": 98,
     "metadata": {},
     "output_type": "execute_result"
    }
   ],
   "source": [
    "rf_grid_model.best_params_"
   ]
  },
  {
   "cell_type": "code",
   "execution_count": 99,
   "metadata": {},
   "outputs": [],
   "source": [
    "def train_val(y_train, y_train_pred, y_test, y_pred):\n",
    "    \n",
    "    scores = {\"train_set\": {\"Accuracy\" : accuracy_score(y_train, y_train_pred),\n",
    "                            \"Precision\" : precision_score(y_train, y_train_pred),\n",
    "                            \"Recall\" : recall_score(y_train, y_train_pred),                          \n",
    "                            \"f1\" : f1_score(y_train, y_train_pred)},\n",
    "    \n",
    "              \"test_set\": {\"Accuracy\" : accuracy_score(y_test, y_pred),\n",
    "                           \"Precision\" : precision_score(y_test, y_pred),\n",
    "                           \"Recall\" : recall_score(y_test, y_pred),                          \n",
    "                           \"f1\" : f1_score(y_test, y_pred)}}\n",
    "    \n",
    "    return pd.DataFrame(scores)"
   ]
  },
  {
   "cell_type": "code",
   "execution_count": 100,
   "metadata": {
    "scrolled": true
   },
   "outputs": [
    {
     "name": "stdout",
     "output_type": "stream",
     "text": [
      "[[84819   157]\n",
      " [ 2179 82797]]\n",
      "              precision    recall  f1-score   support\n",
      "\n",
      "           0       0.97      1.00      0.99     84976\n",
      "           1       1.00      0.97      0.99     84976\n",
      "\n",
      "    accuracy                           0.99    169952\n",
      "   macro avg       0.99      0.99      0.99    169952\n",
      "weighted avg       0.99      0.99      0.99    169952\n",
      "\n"
     ]
    },
    {
     "data": {
      "text/html": [
       "<div>\n",
       "<style scoped>\n",
       "    .dataframe tbody tr th:only-of-type {\n",
       "        vertical-align: middle;\n",
       "    }\n",
       "\n",
       "    .dataframe tbody tr th {\n",
       "        vertical-align: top;\n",
       "    }\n",
       "\n",
       "    .dataframe thead th {\n",
       "        text-align: right;\n",
       "    }\n",
       "</style>\n",
       "<table border=\"1\" class=\"dataframe\">\n",
       "  <thead>\n",
       "    <tr style=\"text-align: right;\">\n",
       "      <th></th>\n",
       "      <th>train_set</th>\n",
       "      <th>test_set</th>\n",
       "    </tr>\n",
       "  </thead>\n",
       "  <tbody>\n",
       "    <tr>\n",
       "      <th>Accuracy</th>\n",
       "      <td>0.986035</td>\n",
       "      <td>0.986255</td>\n",
       "    </tr>\n",
       "    <tr>\n",
       "      <th>Precision</th>\n",
       "      <td>0.998459</td>\n",
       "      <td>0.998107</td>\n",
       "    </tr>\n",
       "    <tr>\n",
       "      <th>Recall</th>\n",
       "      <td>0.973572</td>\n",
       "      <td>0.974357</td>\n",
       "    </tr>\n",
       "    <tr>\n",
       "      <th>f1</th>\n",
       "      <td>0.985858</td>\n",
       "      <td>0.986089</td>\n",
       "    </tr>\n",
       "  </tbody>\n",
       "</table>\n",
       "</div>"
      ],
      "text/plain": [
       "           train_set  test_set\n",
       "Accuracy    0.986035  0.986255\n",
       "Precision   0.998459  0.998107\n",
       "Recall      0.973572  0.974357\n",
       "f1          0.985858  0.986089"
      ]
     },
     "execution_count": 100,
     "metadata": {},
     "output_type": "execute_result"
    }
   ],
   "source": [
    "y_pred = rf_grid_model.predict(X_test_scaled)\n",
    "y_train_pred = rf_grid_model.predict(X_train_scaled)\n",
    "rf_tuned_acc = accuracy_score(y_test, y_pred)\n",
    "rf_tuned_recall = recall_score(y_test, y_pred)\n",
    "print(confusion_matrix(y_test, y_pred))\n",
    "print(classification_report(y_test, y_pred))\n",
    "train_val(y_train, y_train_pred, y_test, y_pred)"
   ]
  },
  {
   "cell_type": "markdown",
   "metadata": {
    "id": "8bdqEhrdMuHh"
   },
   "source": [
    "***iii. Plot Precision and Recall Curve***\n"
   ]
  },
  {
   "cell_type": "code",
   "execution_count": 101,
   "metadata": {
    "id": "smne1OBWMuHh"
   },
   "outputs": [
    {
     "data": {
      "image/png": "[encoded data removed]",
      "text/plain": [
       "<Figure size 432x288 with 1 Axes>"
      ]
     },
     "metadata": {
      "needs_background": "light"
     },
     "output_type": "display_data"
    }
   ],
   "source": [
    "plot_precision_recall_curve(rf_grid_model, X_test_scaled, y_test);"
   ]
  },
  {
   "cell_type": "markdown",
   "metadata": {
    "id": "1n8q3JXcMuHh"
   },
   "source": [
    "***iv. Apply and Plot StratifiedKFold***"
   ]
  },
  {
   "cell_type": "code",
   "execution_count": 103,
   "metadata": {
    "id": "WukW9Gb3MuHh"
   },
   "outputs": [
    {
     "name": "stdout",
     "output_type": "stream",
     "text": [
      "1 of KFold 10\n",
      "ROC AUC score: 0.9852957038649555\n",
      "2 of KFold 10\n",
      "ROC AUC score: 0.9855251787612876\n",
      "3 of KFold 10\n",
      "ROC AUC score: 0.9862842274092976\n",
      "4 of KFold 10\n",
      "ROC AUC score: 0.9858257063657845\n",
      "5 of KFold 10\n",
      "ROC AUC score: 0.9864435145739501\n",
      "6 of KFold 10\n",
      "ROC AUC score: 0.9852608623877874\n",
      "7 of KFold 10\n",
      "ROC AUC score: 0.9857899382171227\n",
      "8 of KFold 10\n",
      "ROC AUC score: 0.9852074139452781\n",
      "9 of KFold 10\n",
      "ROC AUC score: 0.985189761694616\n",
      "10 of KFold 10\n",
      "ROC AUC score: 0.9861076787290379\n"
     ]
    }
   ],
   "source": [
    "kf = StratifiedKFold(n_splits=10,shuffle=True,random_state=42)\n",
    "pred_test_full =0\n",
    "cv_score =[]\n",
    "i=1\n",
    "for train_index,test_index in kf.split(X,y):\n",
    "    print('{} of KFold {}'.format(i,kf.n_splits))\n",
    "    xtr,xvl = X.loc[train_index],X.loc[test_index]\n",
    "    ytr,yvl = y.loc[train_index],y.loc[test_index]\n",
    "    \n",
    "    #model\n",
    "    rf_str = RandomForestClassifier(max_depth= 9, max_features= 4,min_samples_split = 2, n_estimators = 300)\n",
    "    rf_str.fit(xtr,ytr)\n",
    "    score = roc_auc_score(yvl,rf_str.predict(xvl))\n",
    "    print('ROC AUC score:',score)\n",
    "    cv_score.append(score)    \n",
    "    pred_test = rf_str.predict_proba(X_test_scaled)[:,1]\n",
    "    pred_test_full +=pred_test\n",
    "    i+=1"
   ]
  },
  {
   "cell_type": "code",
   "execution_count": 106,
   "metadata": {},
   "outputs": [
    {
     "data": {
      "image/png": "[encoded data removed]",
      "text/plain": [
       "<Figure size 864x504 with 1 Axes>"
      ]
     },
     "metadata": {
      "needs_background": "light"
     },
     "output_type": "display_data"
    }
   ],
   "source": [
    "proba = rf_str.predict_proba(xvl)[:,1]\n",
    "frp,trp, threshold = roc_curve(yvl,proba)\n",
    "roc_auc_ = auc(frp,trp)\n",
    "\n",
    "plt.figure(figsize=(12,7))\n",
    "plt.title('Reciever Operating Characteristics')\n",
    "plt.plot(frp,trp,'r',label = 'AUC = %0.2f' % roc_auc_)\n",
    "plt.legend(loc='lower right')\n",
    "plt.plot([0,1],[0,1],'b--')\n",
    "plt.ylabel('True positive rate')\n",
    "plt.xlabel('False positive rate');"
   ]
  },
  {
   "cell_type": "markdown",
   "metadata": {
    "id": "ife6NlFRJQ0f"
   },
   "source": [
    "### Neural Network\n",
    "\n",
    "In the final step, you will make classification with Neural Network which is a Deep Learning algorithm. \n",
    "\n",
    "Neural networks are a series of algorithms that mimic the operations of a human brain to recognize relationships between vast amounts of data. They are used in a variety of applications in financial services, from forecasting and marketing research to fraud detection and risk assessment.\n",
    "\n",
    "A neural network contains layers of interconnected nodes. Each node is a perceptron and is similar to a multiple linear regression. The perceptron feeds the signal produced by a multiple linear regression into an activation function that may be nonlinear.\n",
    "\n",
    "In a multi-layered perceptron (MLP), perceptrons are arranged in interconnected layers. The input layer collects input patterns. The output layer has classifications or output signals to which input patterns may map. \n",
    "\n",
    "Hidden layers fine-tune the input weightings until the neural network’s margin of error is minimal. It is hypothesized that hidden layers extrapolate salient features in the input data that have predictive power regarding the outputs.\n",
    "\n",
    "You will discover **[how to create](https://towardsdatascience.com/building-our-first-neural-network-in-keras-bdc8abbc17f5)** your deep learning neural network model in Python using **[Keras](https://keras.io/about/)**. Keras is a powerful and easy-to-use free open source Python library for developing and evaluating deep learning models.\n",
    "\n",
    "- The steps you are going to cover for this algorithm are as follows:\n",
    "\n",
    "   *i. Import Libraries*\n",
    "   \n",
    "   *ii. Define Model*\n",
    "    \n",
    "   *iii. Compile Model*\n",
    "   \n",
    "   *iv. Fit Model*\n",
    "   \n",
    "   *v. Prediction and Model Evaluating*\n",
    "   \n",
    "   *vi. Plot Precision and Recall Curve*"
   ]
  },
  {
   "cell_type": "markdown",
   "metadata": {
    "id": "i9Rl75fpMuHi"
   },
   "source": [
    "***i. Import Libraries***"
   ]
  },
  {
   "cell_type": "code",
   "execution_count": 107,
   "metadata": {
    "executionInfo": {
     "elapsed": 1897,
     "status": "ok",
     "timestamp": 1610977899555,
     "user": {
      "displayName": "Owen l",
      "photoUrl": "",
      "userId": "01085249422681493006"
     },
     "user_tz": -180
    },
    "id": "LhEc3K9KMuHi"
   },
   "outputs": [],
   "source": [
    "from tensorflow.keras.models import Sequential\n",
    "from tensorflow.keras.layers import Dense, Activation\n",
    "from tensorflow.keras.callbacks import EarlyStopping\n",
    "from tensorflow.keras.optimizers import Adam, SGD, Adamax, RMSprop,Adadelta\n",
    "from tensorflow.keras.layers import Dropout"
   ]
  },
  {
   "cell_type": "markdown",
   "metadata": {
    "id": "gD6Rh1R8MuHi"
   },
   "source": [
    "***ii. Define Model***"
   ]
  },
  {
   "cell_type": "markdown",
   "metadata": {
    "id": "_IQN7--qMuHi"
   },
   "source": [
    "***iii. Compile Model***"
   ]
  },
  {
   "cell_type": "code",
   "execution_count": 108,
   "metadata": {},
   "outputs": [],
   "source": [
    "X = df.drop(\"class\",axis=1)\n",
    "y = df[\"class\"]"
   ]
  },
  {
   "cell_type": "code",
   "execution_count": 109,
   "metadata": {},
   "outputs": [],
   "source": [
    "X_train, X_test, y_train, y_test = train_test_split(X, y, stratify=y, test_size=0.3,random_state=42)"
   ]
  },
  {
   "cell_type": "code",
   "execution_count": 110,
   "metadata": {},
   "outputs": [],
   "source": [
    "X_train = scaler.fit_transform(X_train)\n",
    "X_test = scaler.transform(X_test)"
   ]
  },
  {
   "cell_type": "code",
   "execution_count": 112,
   "metadata": {
    "executionInfo": {
     "elapsed": 2582,
     "status": "ok",
     "timestamp": 1610977900244,
     "user": {
      "displayName": "Owen l",
      "photoUrl": "",
      "userId": "01085249422681493006"
     },
     "user_tz": -180
    },
    "id": "4okQmpRpMuHi"
   },
   "outputs": [],
   "source": [
    "d_model = Sequential()\n",
    "\n",
    "d_model.add(Dense(16, activation=\"relu\"))\n",
    "d_model.add(Dropout(0.25))\n",
    "d_model.add(Dense(8, activation=\"relu\"))\n",
    "d_model.add(Dropout(0.25))\n",
    "d_model.add(Dense(1, activation=\"sigmoid\"))\n",
    "\n",
    "opt = Adam(lr=0.001)\n",
    "d_model.compile(optimizer=opt, \n",
    "              loss=\"binary_crossentropy\",\n",
    "              metrics=[\"Recall\"])"
   ]
  },
  {
   "cell_type": "code",
   "execution_count": 113,
   "metadata": {},
   "outputs": [],
   "source": [
    "early_stop = EarlyStopping(monitor=\"val_loss\",\n",
    "                           mode=\"auto\",\n",
    "                           verbose=1,\n",
    "                           patience=15)"
   ]
  },
  {
   "cell_type": "code",
   "execution_count": 115,
   "metadata": {},
   "outputs": [],
   "source": [
    "from sklearn.utils import class_weight"
   ]
  },
  {
   "cell_type": "code",
   "execution_count": 116,
   "metadata": {},
   "outputs": [
    {
     "data": {
      "text/plain": [
       "{0: 0.5008346908617742, 1: 300.012084592145}"
      ]
     },
     "execution_count": 116,
     "metadata": {},
     "output_type": "execute_result"
    }
   ],
   "source": [
    "class_weights = class_weight.compute_class_weight('balanced',\n",
    "                                                  classes=np.unique(y_train),\n",
    "                                                  y=y_train)\n",
    "\n",
    "class_weights = {0: class_weights[0], 1: class_weights[1]}\n",
    "class_weights"
   ]
  },
  {
   "cell_type": "markdown",
   "metadata": {
    "id": "PsM_5PhJMuHi"
   },
   "source": [
    "***iv. Fit Model***"
   ]
  },
  {
   "cell_type": "code",
   "execution_count": 118,
   "metadata": {
    "executionInfo": {
     "elapsed": 2582,
     "status": "ok",
     "timestamp": 1610977900245,
     "user": {
      "displayName": "Owen l",
      "photoUrl": "",
      "userId": "01085249422681493006"
     },
     "user_tz": -180
    },
    "id": "f4W96rfHMuHi",
    "scrolled": false
   },
   "outputs": [
    {
     "name": "stdout",
     "output_type": "stream",
     "text": [
      "Epoch 1/200\n",
      "1397/1397 [==============================] - 6s 4ms/step - loss: 0.4771 - recall: 0.7407 - val_loss: 0.3065 - val_recall: 0.8235\n",
      "Epoch 2/200\n",
      "1397/1397 [==============================] - 2s 2ms/step - loss: 0.2875 - recall: 0.8552 - val_loss: 0.1968 - val_recall: 0.8235\n",
      "Epoch 3/200\n",
      "1397/1397 [==============================] - 2s 2ms/step - loss: 0.2151 - recall: 0.8788 - val_loss: 0.1288 - val_recall: 0.8529\n",
      "Epoch 4/200\n",
      "1397/1397 [==============================] - 2s 2ms/step - loss: 0.1745 - recall: 0.9057 - val_loss: 0.0906 - val_recall: 0.8529\n",
      "Epoch 5/200\n",
      "1397/1397 [==============================] - 2s 2ms/step - loss: 0.1621 - recall: 0.8990 - val_loss: 0.0874 - val_recall: 0.8824\n",
      "Epoch 6/200\n",
      "1397/1397 [==============================] - 2s 2ms/step - loss: 0.1631 - recall: 0.9091 - val_loss: 0.0894 - val_recall: 0.8824\n",
      "Epoch 7/200\n",
      "1397/1397 [==============================] - 2s 2ms/step - loss: 0.1463 - recall: 0.9226 - val_loss: 0.0584 - val_recall: 0.8529\n",
      "Epoch 8/200\n",
      "1397/1397 [==============================] - 2s 2ms/step - loss: 0.1520 - recall: 0.9192 - val_loss: 0.0844 - val_recall: 0.8529\n",
      "Epoch 9/200\n",
      "1397/1397 [==============================] - 2s 2ms/step - loss: 0.1282 - recall: 0.9394 - val_loss: 0.0714 - val_recall: 0.8529\n",
      "Epoch 10/200\n",
      "1397/1397 [==============================] - 2s 2ms/step - loss: 0.1322 - recall: 0.9192 - val_loss: 0.0618 - val_recall: 0.8529\n",
      "Epoch 11/200\n",
      "1397/1397 [==============================] - 2s 2ms/step - loss: 0.1140 - recall: 0.9259 - val_loss: 0.0617 - val_recall: 0.8529\n",
      "Epoch 12/200\n",
      "1397/1397 [==============================] - 2s 2ms/step - loss: 0.1062 - recall: 0.9293 - val_loss: 0.0555 - val_recall: 0.8529\n",
      "Epoch 13/200\n",
      "1397/1397 [==============================] - 2s 2ms/step - loss: 0.1002 - recall: 0.9461 - val_loss: 0.0461 - val_recall: 0.8529\n",
      "Epoch 14/200\n",
      "1397/1397 [==============================] - 2s 2ms/step - loss: 0.1019 - recall: 0.9495 - val_loss: 0.0458 - val_recall: 0.8529\n",
      "Epoch 15/200\n",
      "1397/1397 [==============================] - 3s 2ms/step - loss: 0.0961 - recall: 0.9461 - val_loss: 0.0478 - val_recall: 0.8529\n",
      "Epoch 16/200\n",
      "1397/1397 [==============================] - 3s 2ms/step - loss: 0.1006 - recall: 0.9495 - val_loss: 0.0405 - val_recall: 0.8529\n",
      "Epoch 17/200\n",
      "1397/1397 [==============================] - 2s 2ms/step - loss: 0.0893 - recall: 0.9529 - val_loss: 0.0538 - val_recall: 0.8529\n",
      "Epoch 18/200\n",
      "1397/1397 [==============================] - 2s 2ms/step - loss: 0.0829 - recall: 0.9596 - val_loss: 0.0470 - val_recall: 0.8529\n",
      "Epoch 19/200\n",
      "1397/1397 [==============================] - 2s 2ms/step - loss: 0.0814 - recall: 0.9562 - val_loss: 0.0445 - val_recall: 0.8529\n",
      "Epoch 20/200\n",
      "1397/1397 [==============================] - 3s 2ms/step - loss: 0.0845 - recall: 0.9495 - val_loss: 0.0490 - val_recall: 0.8529\n",
      "Epoch 21/200\n",
      "1397/1397 [==============================] - 2s 2ms/step - loss: 0.0729 - recall: 0.9495 - val_loss: 0.0306 - val_recall: 0.8235\n",
      "Epoch 22/200\n",
      "1397/1397 [==============================] - 2s 2ms/step - loss: 0.0879 - recall: 0.9630 - val_loss: 0.0357 - val_recall: 0.8529\n",
      "Epoch 23/200\n",
      "1397/1397 [==============================] - 2s 2ms/step - loss: 0.0874 - recall: 0.9663 - val_loss: 0.0293 - val_recall: 0.8529\n",
      "Epoch 24/200\n",
      "1397/1397 [==============================] - 2s 2ms/step - loss: 0.0756 - recall: 0.9697 - val_loss: 0.0391 - val_recall: 0.8529\n",
      "Epoch 25/200\n",
      "1397/1397 [==============================] - 2s 2ms/step - loss: 0.0608 - recall: 0.9865 - val_loss: 0.0271 - val_recall: 0.8529\n",
      "Epoch 26/200\n",
      "1397/1397 [==============================] - 3s 2ms/step - loss: 0.0751 - recall: 0.9663 - val_loss: 0.0357 - val_recall: 0.8529\n",
      "Epoch 27/200\n",
      "1397/1397 [==============================] - 3s 2ms/step - loss: 0.0675 - recall: 0.9865 - val_loss: 0.0285 - val_recall: 0.8529\n",
      "Epoch 28/200\n",
      "1397/1397 [==============================] - 3s 2ms/step - loss: 0.0849 - recall: 0.9697 - val_loss: 0.0316 - val_recall: 0.8529\n",
      "Epoch 29/200\n",
      "1397/1397 [==============================] - 2s 2ms/step - loss: 0.0668 - recall: 0.9697 - val_loss: 0.0439 - val_recall: 0.8529\n",
      "Epoch 30/200\n",
      "1397/1397 [==============================] - 2s 2ms/step - loss: 0.0636 - recall: 0.9832 - val_loss: 0.0318 - val_recall: 0.8529\n",
      "Epoch 31/200\n",
      "1397/1397 [==============================] - 2s 2ms/step - loss: 0.0626 - recall: 0.9832 - val_loss: 0.0396 - val_recall: 0.8529\n",
      "Epoch 32/200\n",
      "1397/1397 [==============================] - 3s 2ms/step - loss: 0.0588 - recall: 0.9731 - val_loss: 0.0328 - val_recall: 0.8529\n",
      "Epoch 33/200\n",
      "1397/1397 [==============================] - 3s 2ms/step - loss: 0.0581 - recall: 0.9731 - val_loss: 0.0293 - val_recall: 0.8235\n",
      "Epoch 34/200\n",
      "1397/1397 [==============================] - 3s 2ms/step - loss: 0.0542 - recall: 0.9798 - val_loss: 0.0321 - val_recall: 0.8529\n",
      "Epoch 35/200\n",
      "1397/1397 [==============================] - 3s 2ms/step - loss: 0.0535 - recall: 0.9832 - val_loss: 0.0218 - val_recall: 0.8529\n",
      "Epoch 36/200\n",
      "1397/1397 [==============================] - 3s 2ms/step - loss: 0.0478 - recall: 0.9865 - val_loss: 0.0266 - val_recall: 0.8529\n",
      "Epoch 37/200\n",
      "1397/1397 [==============================] - 3s 2ms/step - loss: 0.0517 - recall: 0.9865 - val_loss: 0.0259 - val_recall: 0.8529\n",
      "Epoch 38/200\n",
      "1397/1397 [==============================] - 3s 2ms/step - loss: 0.0629 - recall: 0.9798 - val_loss: 0.0334 - val_recall: 0.8529\n",
      "Epoch 39/200\n",
      "1397/1397 [==============================] - 2s 2ms/step - loss: 0.0601 - recall: 0.9899 - val_loss: 0.0327 - val_recall: 0.8529\n",
      "Epoch 40/200\n",
      "1397/1397 [==============================] - 2s 2ms/step - loss: 0.0497 - recall: 0.9865 - val_loss: 0.0238 - val_recall: 0.8529\n",
      "Epoch 41/200\n",
      "1397/1397 [==============================] - 3s 2ms/step - loss: 0.0565 - recall: 0.9798 - val_loss: 0.0256 - val_recall: 0.8529\n",
      "Epoch 42/200\n",
      "1397/1397 [==============================] - 2s 2ms/step - loss: 0.0425 - recall: 0.9899 - val_loss: 0.0206 - val_recall: 0.8529\n",
      "Epoch 43/200\n",
      "1397/1397 [==============================] - 2s 2ms/step - loss: 0.0442 - recall: 0.9899 - val_loss: 0.0204 - val_recall: 0.8529\n",
      "Epoch 44/200\n",
      "1397/1397 [==============================] - 3s 2ms/step - loss: 0.0681 - recall: 0.9798 - val_loss: 0.0202 - val_recall: 0.8529\n",
      "Epoch 45/200\n",
      "1397/1397 [==============================] - 3s 2ms/step - loss: 0.0512 - recall: 0.9865 - val_loss: 0.0252 - val_recall: 0.8529\n",
      "Epoch 46/200\n",
      "1397/1397 [==============================] - 3s 2ms/step - loss: 0.0424 - recall: 0.9966 - val_loss: 0.0223 - val_recall: 0.8529\n",
      "Epoch 47/200\n",
      "1397/1397 [==============================] - 3s 2ms/step - loss: 0.0442 - recall: 0.9865 - val_loss: 0.0213 - val_recall: 0.8529\n",
      "Epoch 48/200\n",
      "1397/1397 [==============================] - 3s 2ms/step - loss: 0.0447 - recall: 0.9899 - val_loss: 0.0274 - val_recall: 0.8529\n",
      "Epoch 49/200\n",
      "1397/1397 [==============================] - 3s 2ms/step - loss: 0.0425 - recall: 0.9933 - val_loss: 0.0196 - val_recall: 0.8529\n",
      "Epoch 50/200\n",
      "1397/1397 [==============================] - 4s 3ms/step - loss: 0.0446 - recall: 0.9865 - val_loss: 0.0246 - val_recall: 0.8529\n",
      "Epoch 51/200\n",
      "1397/1397 [==============================] - 3s 2ms/step - loss: 0.0578 - recall: 0.9933 - val_loss: 0.0219 - val_recall: 0.8529\n",
      "Epoch 52/200\n",
      "1397/1397 [==============================] - 2s 2ms/step - loss: 0.0441 - recall: 0.9933 - val_loss: 0.0194 - val_recall: 0.8529\n",
      "Epoch 53/200\n",
      "1397/1397 [==============================] - 2s 2ms/step - loss: 0.0427 - recall: 0.9933 - val_loss: 0.0236 - val_recall: 0.8529\n",
      "Epoch 54/200\n",
      "1397/1397 [==============================] - 2s 2ms/step - loss: 0.0573 - recall: 0.9832 - val_loss: 0.0210 - val_recall: 0.8529\n",
      "Epoch 55/200\n",
      "1397/1397 [==============================] - 2s 2ms/step - loss: 0.0458 - recall: 0.9899 - val_loss: 0.0187 - val_recall: 0.8529\n",
      "Epoch 56/200\n",
      "1397/1397 [==============================] - 2s 2ms/step - loss: 0.0349 - recall: 0.9933 - val_loss: 0.0173 - val_recall: 0.8529\n",
      "Epoch 57/200\n",
      "1397/1397 [==============================] - 2s 2ms/step - loss: 0.0579 - recall: 0.9899 - val_loss: 0.0203 - val_recall: 0.8529\n",
      "Epoch 58/200\n",
      "1397/1397 [==============================] - 2s 2ms/step - loss: 0.0459 - recall: 0.9933 - val_loss: 0.0200 - val_recall: 0.8529\n"
     ]
    },
    {
     "name": "stdout",
     "output_type": "stream",
     "text": [
      "Epoch 59/200\n",
      "1397/1397 [==============================] - 2s 2ms/step - loss: 0.0375 - recall: 0.9966 - val_loss: 0.0189 - val_recall: 0.8529\n",
      "Epoch 60/200\n",
      "1397/1397 [==============================] - 2s 2ms/step - loss: 0.0445 - recall: 0.9899 - val_loss: 0.0219 - val_recall: 0.8529\n",
      "Epoch 61/200\n",
      "1397/1397 [==============================] - 2s 2ms/step - loss: 0.0412 - recall: 0.9865 - val_loss: 0.0227 - val_recall: 0.8529\n",
      "Epoch 62/200\n",
      "1397/1397 [==============================] - 2s 2ms/step - loss: 0.0342 - recall: 0.9966 - val_loss: 0.0191 - val_recall: 0.8529\n",
      "Epoch 63/200\n",
      "1397/1397 [==============================] - 2s 2ms/step - loss: 0.0459 - recall: 0.9899 - val_loss: 0.0194 - val_recall: 0.8529\n",
      "Epoch 64/200\n",
      "1397/1397 [==============================] - 2s 2ms/step - loss: 0.0354 - recall: 1.0000 - val_loss: 0.0213 - val_recall: 0.8529\n",
      "Epoch 65/200\n",
      "1397/1397 [==============================] - 2s 2ms/step - loss: 0.0377 - recall: 0.9933 - val_loss: 0.0180 - val_recall: 0.8529\n",
      "Epoch 66/200\n",
      "1397/1397 [==============================] - 2s 2ms/step - loss: 0.0666 - recall: 0.9899 - val_loss: 0.0269 - val_recall: 0.8529\n",
      "Epoch 67/200\n",
      "1397/1397 [==============================] - 3s 2ms/step - loss: 0.0405 - recall: 0.9933 - val_loss: 0.0220 - val_recall: 0.8529\n",
      "Epoch 68/200\n",
      "1397/1397 [==============================] - 3s 2ms/step - loss: 0.0371 - recall: 0.9966 - val_loss: 0.0226 - val_recall: 0.8529\n",
      "Epoch 69/200\n",
      "1397/1397 [==============================] - 2s 2ms/step - loss: 0.0450 - recall: 0.9933 - val_loss: 0.0184 - val_recall: 0.8529\n",
      "Epoch 70/200\n",
      "1397/1397 [==============================] - 2s 2ms/step - loss: 0.0317 - recall: 0.9966 - val_loss: 0.0161 - val_recall: 0.8529\n",
      "Epoch 71/200\n",
      "1397/1397 [==============================] - 2s 2ms/step - loss: 0.0520 - recall: 0.9966 - val_loss: 0.0232 - val_recall: 0.8529\n",
      "Epoch 72/200\n",
      "1397/1397 [==============================] - 2s 2ms/step - loss: 0.0348 - recall: 0.9933 - val_loss: 0.0185 - val_recall: 0.8529\n",
      "Epoch 73/200\n",
      "1397/1397 [==============================] - 2s 2ms/step - loss: 0.0456 - recall: 0.9899 - val_loss: 0.0201 - val_recall: 0.8529\n",
      "Epoch 74/200\n",
      "1397/1397 [==============================] - 2s 2ms/step - loss: 0.0345 - recall: 0.9966 - val_loss: 0.0188 - val_recall: 0.8529\n",
      "Epoch 75/200\n",
      "1397/1397 [==============================] - 2s 2ms/step - loss: 0.0334 - recall: 0.9966 - val_loss: 0.0178 - val_recall: 0.8529\n",
      "Epoch 76/200\n",
      "1397/1397 [==============================] - 2s 2ms/step - loss: 0.0439 - recall: 0.9865 - val_loss: 0.0184 - val_recall: 0.8529\n",
      "Epoch 77/200\n",
      "1397/1397 [==============================] - 2s 2ms/step - loss: 0.0361 - recall: 0.9899 - val_loss: 0.0178 - val_recall: 0.8529\n",
      "Epoch 78/200\n",
      "1397/1397 [==============================] - 2s 2ms/step - loss: 0.0349 - recall: 0.9933 - val_loss: 0.0204 - val_recall: 0.8529\n",
      "Epoch 79/200\n",
      "1397/1397 [==============================] - 2s 2ms/step - loss: 0.0430 - recall: 0.9899 - val_loss: 0.0188 - val_recall: 0.8529\n",
      "Epoch 80/200\n",
      "1397/1397 [==============================] - 2s 2ms/step - loss: 0.0607 - recall: 0.9899 - val_loss: 0.0168 - val_recall: 0.8529\n",
      "Epoch 81/200\n",
      "1397/1397 [==============================] - 2s 2ms/step - loss: 0.0350 - recall: 0.9899 - val_loss: 0.0152 - val_recall: 0.8529\n",
      "Epoch 82/200\n",
      "1397/1397 [==============================] - 2s 2ms/step - loss: 0.0375 - recall: 0.9966 - val_loss: 0.0197 - val_recall: 0.8529\n",
      "Epoch 83/200\n",
      "1397/1397 [==============================] - 2s 2ms/step - loss: 0.0319 - recall: 0.9966 - val_loss: 0.0162 - val_recall: 0.8529\n",
      "Epoch 84/200\n",
      "1397/1397 [==============================] - 2s 2ms/step - loss: 0.0367 - recall: 0.9899 - val_loss: 0.0211 - val_recall: 0.8529\n",
      "Epoch 85/200\n",
      "1397/1397 [==============================] - 2s 2ms/step - loss: 0.0433 - recall: 0.9966 - val_loss: 0.0181 - val_recall: 0.8529\n",
      "Epoch 86/200\n",
      "1397/1397 [==============================] - 2s 2ms/step - loss: 0.0380 - recall: 0.9933 - val_loss: 0.0201 - val_recall: 0.8529\n",
      "Epoch 87/200\n",
      "1397/1397 [==============================] - 2s 2ms/step - loss: 0.0334 - recall: 0.9933 - val_loss: 0.0167 - val_recall: 0.8529\n",
      "Epoch 88/200\n",
      "1397/1397 [==============================] - 2s 2ms/step - loss: 0.0282 - recall: 0.9966 - val_loss: 0.0154 - val_recall: 0.8529\n",
      "Epoch 89/200\n",
      "1397/1397 [==============================] - 2s 2ms/step - loss: 0.0323 - recall: 0.9899 - val_loss: 0.0138 - val_recall: 0.8529\n",
      "Epoch 90/200\n",
      "1397/1397 [==============================] - 2s 2ms/step - loss: 0.0539 - recall: 0.9832 - val_loss: 0.0196 - val_recall: 0.8529\n",
      "Epoch 91/200\n",
      "1397/1397 [==============================] - 2s 2ms/step - loss: 0.0298 - recall: 1.0000 - val_loss: 0.0190 - val_recall: 0.8529\n",
      "Epoch 92/200\n",
      "1397/1397 [==============================] - 2s 2ms/step - loss: 0.0327 - recall: 0.9966 - val_loss: 0.0169 - val_recall: 0.8529\n",
      "Epoch 93/200\n",
      "1397/1397 [==============================] - 2s 2ms/step - loss: 0.0494 - recall: 0.9899 - val_loss: 0.0181 - val_recall: 0.8529\n",
      "Epoch 94/200\n",
      "1397/1397 [==============================] - 2s 2ms/step - loss: 0.0380 - recall: 0.9899 - val_loss: 0.0203 - val_recall: 0.8529\n",
      "Epoch 95/200\n",
      "1397/1397 [==============================] - 2s 2ms/step - loss: 0.0314 - recall: 1.0000 - val_loss: 0.0169 - val_recall: 0.8529\n",
      "Epoch 96/200\n",
      "1397/1397 [==============================] - 2s 2ms/step - loss: 0.0283 - recall: 1.0000 - val_loss: 0.0163 - val_recall: 0.8529\n",
      "Epoch 97/200\n",
      "1397/1397 [==============================] - 2s 2ms/step - loss: 0.0321 - recall: 0.9966 - val_loss: 0.0190 - val_recall: 0.8529\n",
      "Epoch 98/200\n",
      "1397/1397 [==============================] - 2s 2ms/step - loss: 0.0257 - recall: 1.0000 - val_loss: 0.0162 - val_recall: 0.8529\n",
      "Epoch 99/200\n",
      "1397/1397 [==============================] - 2s 2ms/step - loss: 0.0281 - recall: 0.9966 - val_loss: 0.0177 - val_recall: 0.8529\n",
      "Epoch 100/200\n",
      "1397/1397 [==============================] - 3s 2ms/step - loss: 0.0437 - recall: 0.9832 - val_loss: 0.0192 - val_recall: 0.8529\n",
      "Epoch 101/200\n",
      "1397/1397 [==============================] - 2s 2ms/step - loss: 0.0315 - recall: 0.9966 - val_loss: 0.0165 - val_recall: 0.8529\n",
      "Epoch 102/200\n",
      "1397/1397 [==============================] - 2s 2ms/step - loss: 0.2548 - recall: 0.9933 - val_loss: 0.0180 - val_recall: 0.8529\n",
      "Epoch 103/200\n",
      "1397/1397 [==============================] - 2s 2ms/step - loss: 0.0291 - recall: 1.0000 - val_loss: 0.0156 - val_recall: 0.8529\n",
      "Epoch 104/200\n",
      "1397/1397 [==============================] - 2s 2ms/step - loss: 0.0268 - recall: 0.9966 - val_loss: 0.0158 - val_recall: 0.8235\n",
      "Epoch 00104: early stopping\n"
     ]
    },
    {
     "data": {
      "text/plain": [
       "<keras.callbacks.History at 0x1cb932d0ee0>"
      ]
     },
     "execution_count": 118,
     "metadata": {},
     "output_type": "execute_result"
    }
   ],
   "source": [
    "d_model.fit(x=X_train,\n",
    "          y=y_train,\n",
    "          validation_split=.1,\n",
    "          batch_size=128,\n",
    "          epochs=200,\n",
    "          verbose=1,\n",
    "          callbacks=[early_stop],\n",
    "          class_weight=class_weights)"
   ]
  },
  {
   "cell_type": "code",
   "execution_count": 121,
   "metadata": {},
   "outputs": [
    {
     "name": "stdout",
     "output_type": "stream",
     "text": [
      "Model: \"sequential_1\"\n",
      "_________________________________________________________________\n",
      "Layer (type)                 Output Shape              Param #   \n",
      "=================================================================\n",
      "dense_1 (Dense)              (None, 16)                496       \n",
      "_________________________________________________________________\n",
      "dropout (Dropout)            (None, 16)                0         \n",
      "_________________________________________________________________\n",
      "dense_2 (Dense)              (None, 8)                 136       \n",
      "_________________________________________________________________\n",
      "dropout_1 (Dropout)          (None, 8)                 0         \n",
      "_________________________________________________________________\n",
      "dense_3 (Dense)              (None, 1)                 9         \n",
      "=================================================================\n",
      "Total params: 641\n",
      "Trainable params: 641\n",
      "Non-trainable params: 0\n",
      "_________________________________________________________________\n"
     ]
    }
   ],
   "source": [
    "d_model.summary()"
   ]
  },
  {
   "cell_type": "code",
   "execution_count": 119,
   "metadata": {
    "executionInfo": {
     "elapsed": 2580,
     "status": "ok",
     "timestamp": 1610977900245,
     "user": {
      "displayName": "Owen l",
      "photoUrl": "",
      "userId": "01085249422681493006"
     },
     "user_tz": -180
    },
    "id": "cmkPKExFMuHj"
   },
   "outputs": [
    {
     "data": {
      "text/plain": [
       "<AxesSubplot:>"
      ]
     },
     "execution_count": 119,
     "metadata": {},
     "output_type": "execute_result"
    },
    {
     "data": {
      "image/png": "[encoded data removed]",
      "text/plain": [
       "<Figure size 432x288 with 1 Axes>"
      ]
     },
     "metadata": {
      "needs_background": "light"
     },
     "output_type": "display_data"
    }
   ],
   "source": [
    "loss_df = pd.DataFrame(d_model.history.history)\n",
    "loss_df.plot()"
   ]
  },
  {
   "cell_type": "markdown",
   "metadata": {
    "id": "InMeP9kgMuHj"
   },
   "source": [
    "***v. Prediction and Model Evaluating***"
   ]
  },
  {
   "cell_type": "code",
   "execution_count": 124,
   "metadata": {
    "executionInfo": {
     "elapsed": 2579,
     "status": "ok",
     "timestamp": 1610977900246,
     "user": {
      "displayName": "Owen l",
      "photoUrl": "",
      "userId": "01085249422681493006"
     },
     "user_tz": -180
    },
    "id": "wRi_uFjIMuHj"
   },
   "outputs": [
    {
     "name": "stdout",
     "output_type": "stream",
     "text": [
      "[[84753   223]\n",
      " [   25   117]]\n",
      "              precision    recall  f1-score   support\n",
      "\n",
      "           0       1.00      1.00      1.00     84976\n",
      "           1       0.34      0.82      0.49       142\n",
      "\n",
      "    accuracy                           1.00     85118\n",
      "   macro avg       0.67      0.91      0.74     85118\n",
      "weighted avg       1.00      1.00      1.00     85118\n",
      "\n"
     ]
    }
   ],
   "source": [
    "y_pred = (d_model.predict(X_test) > 0.5).astype(\"int32\")\n",
    "print(confusion_matrix(y_test, y_pred))\n",
    "print(classification_report(y_test, y_pred))"
   ]
  },
  {
   "cell_type": "code",
   "execution_count": 137,
   "metadata": {},
   "outputs": [
    {
     "data": {
      "text/plain": [
       "(85118, 1)"
      ]
     },
     "execution_count": 137,
     "metadata": {},
     "output_type": "execute_result"
    }
   ],
   "source": [
    "y_pred.shape"
   ]
  },
  {
   "cell_type": "code",
   "execution_count": 139,
   "metadata": {},
   "outputs": [],
   "source": [
    "y_pred = y_pred.reshape((1,85118))"
   ]
  },
  {
   "cell_type": "code",
   "execution_count": 133,
   "metadata": {},
   "outputs": [],
   "source": [
    "from sklearn.metrics import roc_auc_score, roc_curve, precision_recall_curve, average_precision_score"
   ]
  },
  {
   "cell_type": "code",
   "execution_count": 141,
   "metadata": {
    "scrolled": true
   },
   "outputs": [
    {
     "data": {
      "image/png": "[encoded data removed]",
      "text/plain": [
       "<Figure size 432x288 with 1 Axes>"
      ]
     },
     "metadata": {
      "needs_background": "light"
     },
     "output_type": "display_data"
    }
   ],
   "source": [
    "y_pred_proba = d_model.predict(X_test)\n",
    "fpr, tpr, thresholds = roc_curve(y_test, y_pred_proba)\n",
    "plt.plot([0,1],[0,1],'k--')\n",
    "plt.plot(fpr,tpr, label='ANN')\n",
    "plt.xlabel('False Positive Rate')\n",
    "plt.ylabel('True Positive Rate')\n",
    "plt.title('ROC Curve for Keras Model_Weighted')\n",
    "plt.show()\n"
   ]
  },
  {
   "cell_type": "markdown",
   "metadata": {
    "id": "_JAEDNkjMuHj"
   },
   "source": [
    "***vi. Plot Precision and Recall Curve***"
   ]
  },
  {
   "cell_type": "code",
   "execution_count": 144,
   "metadata": {},
   "outputs": [
    {
     "data": {
      "image/png": "[encoded data removed]",
      "text/plain": [
       "<Figure size 432x288 with 1 Axes>"
      ]
     },
     "metadata": {
      "needs_background": "light"
     },
     "output_type": "display_data"
    }
   ],
   "source": [
    "precisions, recalls, thresholds = precision_recall_curve(y_test, y_pred_proba)\n",
    "plt.plot(recalls, precisions, label='ANN')\n",
    "plt.xlabel('recalls')\n",
    "plt.ylabel('precisions')\n",
    "plt.title('Precision-Recall curve')\n",
    "plt.show()"
   ]
  },
  {
   "cell_type": "code",
   "execution_count": 142,
   "metadata": {
    "scrolled": true
   },
   "outputs": [
    {
     "data": {
      "text/plain": [
       "0.6972207989021646"
      ]
     },
     "execution_count": 142,
     "metadata": {},
     "output_type": "execute_result"
    }
   ],
   "source": [
    "average_precision_score(y_test, y_pred_proba)"
   ]
  },
  {
   "cell_type": "markdown",
   "metadata": {},
   "source": [
    "### GridSearch with DL Model"
   ]
  },
  {
   "cell_type": "code",
   "execution_count": 146,
   "metadata": {},
   "outputs": [],
   "source": [
    "from tensorflow.keras.wrappers.scikit_learn import KerasClassifier"
   ]
  },
  {
   "cell_type": "code",
   "execution_count": 145,
   "metadata": {},
   "outputs": [],
   "source": [
    "def build_classifier(optimizer):\n",
    "    classifier = Sequential()\n",
    "    classifier.add(Dense(units=16, activation='relu'))\n",
    "    classifier.add(Dense(units=8, activation='relu'))\n",
    "    classifier.add(Dense(units=1, activation='sigmoid'))\n",
    "    classifier.compile(optimizer=optimizer,\n",
    "                       loss='binary_crossentropy',\n",
    "                       metrics=['Recall'])\n",
    "    return classifier"
   ]
  },
  {
   "cell_type": "code",
   "execution_count": 148,
   "metadata": {
    "scrolled": false
   },
   "outputs": [
    {
     "name": "stdout",
     "output_type": "stream",
     "text": [
      "Epoch 1/150\n",
      "1552/1552 [==============================] - 11s 3ms/step - loss: 1.1271 - recall: 0.0574\n",
      "Epoch 2/150\n",
      "1552/1552 [==============================] - 3s 2ms/step - loss: 0.9036 - recall: 0.1027\n",
      "Epoch 3/150\n",
      "1552/1552 [==============================] - 3s 2ms/step - loss: 0.8130 - recall: 0.1420\n",
      "Epoch 4/150\n",
      "1552/1552 [==============================] - 3s 2ms/step - loss: 0.7606 - recall: 0.1934\n",
      "Epoch 5/150\n",
      "1552/1552 [==============================] - 3s 2ms/step - loss: 0.7283 - recall: 0.2236\n",
      "Epoch 6/150\n",
      "1552/1552 [==============================] - 3s 2ms/step - loss: 0.7057 - recall: 0.2749\n",
      "Epoch 7/150\n",
      "1552/1552 [==============================] - 3s 2ms/step - loss: 0.6884 - recall: 0.3112\n",
      "Epoch 8/150\n",
      "1552/1552 [==============================] - 3s 2ms/step - loss: 0.6748 - recall: 0.3565\n",
      "Epoch 9/150\n",
      "1552/1552 [==============================] - 3s 2ms/step - loss: 0.6635 - recall: 0.3897: 0s - loss: 0.6503 - \n",
      "Epoch 10/150\n",
      "1552/1552 [==============================] - 2s 2ms/step - loss: 0.6536 - recall: 0.4048\n",
      "Epoch 11/150\n",
      "1552/1552 [==============================] - 2s 2ms/step - loss: 0.6449 - recall: 0.4350\n",
      "Epoch 12/150\n",
      "1552/1552 [==============================] - 3s 2ms/step - loss: 0.6373 - recall: 0.4592\n",
      "Epoch 13/150\n",
      "1552/1552 [==============================] - 3s 2ms/step - loss: 0.6303 - recall: 0.4804\n",
      "Epoch 14/150\n",
      "1552/1552 [==============================] - 3s 2ms/step - loss: 0.6239 - recall: 0.5045\n",
      "Epoch 15/150\n",
      "1552/1552 [==============================] - 4s 2ms/step - loss: 0.6177 - recall: 0.5317: 0s - loss: 0.6294 - recall - ETA: 0s - l\n",
      "Epoch 16/150\n",
      "1552/1552 [==============================] - 3s 2ms/step - loss: 0.6117 - recall: 0.5740\n",
      "Epoch 17/150\n",
      "1552/1552 [==============================] - 3s 2ms/step - loss: 0.6060 - recall: 0.5861\n",
      "Epoch 18/150\n",
      "1552/1552 [==============================] - 3s 2ms/step - loss: 0.6006 - recall: 0.6133\n",
      "Epoch 19/150\n",
      "1552/1552 [==============================] - 2s 1ms/step - loss: 0.5954 - recall: 0.6405\n",
      "Epoch 20/150\n",
      "1552/1552 [==============================] - 2s 1ms/step - loss: 0.5903 - recall: 0.6586\n",
      "Epoch 21/150\n",
      "1552/1552 [==============================] - 2s 1ms/step - loss: 0.5854 - recall: 0.6647\n",
      "Epoch 22/150\n",
      "1552/1552 [==============================] - 2s 1ms/step - loss: 0.5806 - recall: 0.6767\n",
      "Epoch 23/150\n",
      "1552/1552 [==============================] - 2s 1ms/step - loss: 0.5760 - recall: 0.6888\n",
      "Epoch 24/150\n",
      "1552/1552 [==============================] - 2s 1ms/step - loss: 0.5715 - recall: 0.7100\n",
      "Epoch 25/150\n",
      "1552/1552 [==============================] - 2s 1ms/step - loss: 0.5672 - recall: 0.7221\n",
      "Epoch 26/150\n",
      "1552/1552 [==============================] - 2s 1ms/step - loss: 0.5629 - recall: 0.7553\n",
      "Epoch 27/150\n",
      "1552/1552 [==============================] - 2s 1ms/step - loss: 0.5588 - recall: 0.7613\n",
      "Epoch 28/150\n",
      "1552/1552 [==============================] - 2s 1ms/step - loss: 0.5548 - recall: 0.7764\n",
      "Epoch 29/150\n",
      "1552/1552 [==============================] - 2s 1ms/step - loss: 0.5509 - recall: 0.7825\n",
      "Epoch 30/150\n",
      "1552/1552 [==============================] - 2s 1ms/step - loss: 0.5471 - recall: 0.7946\n",
      "Epoch 31/150\n",
      "1552/1552 [==============================] - 2s 1ms/step - loss: 0.5434 - recall: 0.8006\n",
      "Epoch 32/150\n",
      "1552/1552 [==============================] - 2s 1ms/step - loss: 0.5398 - recall: 0.8036\n",
      "Epoch 33/150\n",
      "1552/1552 [==============================] - 2s 1ms/step - loss: 0.5363 - recall: 0.8066\n",
      "Epoch 34/150\n",
      "1552/1552 [==============================] - 2s 1ms/step - loss: 0.5329 - recall: 0.8157\n",
      "Epoch 35/150\n",
      "1552/1552 [==============================] - 2s 1ms/step - loss: 0.5295 - recall: 0.8248\n",
      "Epoch 36/150\n",
      "1552/1552 [==============================] - 2s 1ms/step - loss: 0.5263 - recall: 0.8308\n",
      "Epoch 37/150\n",
      "1552/1552 [==============================] - 2s 1ms/step - loss: 0.5231 - recall: 0.8308\n",
      "Epoch 38/150\n",
      "1552/1552 [==============================] - 2s 1ms/step - loss: 0.5201 - recall: 0.8369\n",
      "Epoch 39/150\n",
      "1552/1552 [==============================] - 2s 2ms/step - loss: 0.5170 - recall: 0.8399\n",
      "Epoch 40/150\n",
      "1552/1552 [==============================] - 2s 2ms/step - loss: 0.5141 - recall: 0.8399\n",
      "Epoch 41/150\n",
      "1552/1552 [==============================] - 2s 2ms/step - loss: 0.5113 - recall: 0.8399\n",
      "Epoch 42/150\n",
      "1552/1552 [==============================] - 2s 1ms/step - loss: 0.5085 - recall: 0.8429\n",
      "Epoch 43/150\n",
      "1552/1552 [==============================] - 2s 1ms/step - loss: 0.5057 - recall: 0.8459\n",
      "Epoch 44/150\n",
      "1552/1552 [==============================] - 2s 1ms/step - loss: 0.5029 - recall: 0.8489\n",
      "Epoch 45/150\n",
      "1552/1552 [==============================] - 2s 1ms/step - loss: 0.5002 - recall: 0.8580\n",
      "Epoch 46/150\n",
      "1552/1552 [==============================] - 2s 1ms/step - loss: 0.4976 - recall: 0.8610\n",
      "Epoch 47/150\n",
      "1552/1552 [==============================] - 2s 1ms/step - loss: 0.4949 - recall: 0.8610\n",
      "Epoch 48/150\n",
      "1552/1552 [==============================] - 2s 1ms/step - loss: 0.4924 - recall: 0.8640\n",
      "Epoch 49/150\n",
      "1552/1552 [==============================] - 2s 1ms/step - loss: 0.4898 - recall: 0.8640: 0s - loss:\n",
      "Epoch 50/150\n",
      "1552/1552 [==============================] - 2s 1ms/step - loss: 0.4873 - recall: 0.8640\n",
      "Epoch 51/150\n",
      "1552/1552 [==============================] - 2s 1ms/step - loss: 0.4848 - recall: 0.8640\n",
      "Epoch 52/150\n",
      "1552/1552 [==============================] - 2s 1ms/step - loss: 0.4822 - recall: 0.8640\n",
      "Epoch 53/150\n",
      "1552/1552 [==============================] - 2s 1ms/step - loss: 0.4797 - recall: 0.8640\n",
      "Epoch 54/150\n",
      "1552/1552 [==============================] - 2s 1ms/step - loss: 0.4771 - recall: 0.8640\n",
      "Epoch 55/150\n",
      "1552/1552 [==============================] - 2s 1ms/step - loss: 0.4745 - recall: 0.8640\n",
      "Epoch 56/150\n",
      "1552/1552 [==============================] - 2s 1ms/step - loss: 0.4719 - recall: 0.8640\n",
      "Epoch 57/150\n",
      "1552/1552 [==============================] - 2s 1ms/step - loss: 0.4694 - recall: 0.8640\n",
      "Epoch 58/150\n",
      "1552/1552 [==============================] - 2s 1ms/step - loss: 0.4669 - recall: 0.8640\n",
      "Epoch 59/150\n",
      "1552/1552 [==============================] - 2s 1ms/step - loss: 0.4645 - recall: 0.8671\n",
      "Epoch 60/150\n",
      "1552/1552 [==============================] - 2s 1ms/step - loss: 0.4620 - recall: 0.8671\n",
      "Epoch 61/150\n",
      "1552/1552 [==============================] - 2s 2ms/step - loss: 0.4595 - recall: 0.8671\n",
      "Epoch 62/150\n",
      "1552/1552 [==============================] - 2s 1ms/step - loss: 0.4570 - recall: 0.8701\n",
      "Epoch 63/150\n",
      "1552/1552 [==============================] - 2s 1ms/step - loss: 0.4544 - recall: 0.8701\n",
      "Epoch 64/150\n",
      "1552/1552 [==============================] - 2s 1ms/step - loss: 0.4515 - recall: 0.8701\n",
      "Epoch 65/150\n",
      "1552/1552 [==============================] - 2s 1ms/step - loss: 0.4480 - recall: 0.8701\n",
      "Epoch 66/150\n",
      "1552/1552 [==============================] - 2s 1ms/step - loss: 0.4438 - recall: 0.8671\n",
      "Epoch 67/150\n",
      "1552/1552 [==============================] - 2s 1ms/step - loss: 0.4390 - recall: 0.8701\n",
      "Epoch 68/150\n",
      "1552/1552 [==============================] - 2s 1ms/step - loss: 0.4334 - recall: 0.8761\n",
      "Epoch 69/150\n",
      "1552/1552 [==============================] - 2s 1ms/step - loss: 0.4272 - recall: 0.8761\n",
      "Epoch 70/150\n",
      "1552/1552 [==============================] - 2s 1ms/step - loss: 0.4205 - recall: 0.8761\n",
      "Epoch 71/150\n",
      "1552/1552 [==============================] - 2s 2ms/step - loss: 0.4128 - recall: 0.8761\n",
      "Epoch 72/150\n",
      "1552/1552 [==============================] - 3s 2ms/step - loss: 0.4042 - recall: 0.8761\n",
      "Epoch 73/150\n",
      "1552/1552 [==============================] - 2s 2ms/step - loss: 0.3948 - recall: 0.8761\n",
      "Epoch 74/150\n",
      "1552/1552 [==============================] - 3s 2ms/step - loss: 0.3849 - recall: 0.8852\n",
      "Epoch 75/150\n",
      "1552/1552 [==============================] - 2s 1ms/step - loss: 0.3748 - recall: 0.8852\n",
      "Epoch 76/150\n",
      "1552/1552 [==============================] - 3s 2ms/step - loss: 0.3648 - recall: 0.8852\n",
      "Epoch 77/150\n",
      "1552/1552 [==============================] - 2s 2ms/step - loss: 0.3549 - recall: 0.8852\n",
      "Epoch 78/150\n",
      "1552/1552 [==============================] - 2s 1ms/step - loss: 0.3448 - recall: 0.8852: 0s - loss: 0.3436 - recall: 0.88 - ETA: 0s - loss: 0.3513 - reca\n",
      "Epoch 79/150\n",
      "1552/1552 [==============================] - 2s 2ms/step - loss: 0.3346 - recall: 0.8882\n",
      "Epoch 80/150\n"
     ]
    },
    {
     "name": "stdout",
     "output_type": "stream",
     "text": [
      "1552/1552 [==============================] - 2s 1ms/step - loss: 0.3250 - recall: 0.8882\n",
      "Epoch 81/150\n",
      "1552/1552 [==============================] - 2s 1ms/step - loss: 0.3164 - recall: 0.8882\n",
      "Epoch 82/150\n",
      "1552/1552 [==============================] - 2s 1ms/step - loss: 0.3088 - recall: 0.8882\n",
      "Epoch 83/150\n",
      "1552/1552 [==============================] - 2s 1ms/step - loss: 0.3018 - recall: 0.8882\n",
      "Epoch 84/150\n",
      "1552/1552 [==============================] - 2s 1ms/step - loss: 0.2954 - recall: 0.8882\n",
      "Epoch 85/150\n",
      "1552/1552 [==============================] - 2s 1ms/step - loss: 0.2896 - recall: 0.8882\n",
      "Epoch 86/150\n",
      "1552/1552 [==============================] - 2s 1ms/step - loss: 0.2843 - recall: 0.8882\n",
      "Epoch 87/150\n",
      "1552/1552 [==============================] - 3s 2ms/step - loss: 0.2796 - recall: 0.8882\n",
      "Epoch 88/150\n",
      "1552/1552 [==============================] - 2s 1ms/step - loss: 0.2752 - recall: 0.8882\n",
      "Epoch 89/150\n",
      "1552/1552 [==============================] - 2s 2ms/step - loss: 0.2712 - recall: 0.8943\n",
      "Epoch 90/150\n",
      "1552/1552 [==============================] - 3s 2ms/step - loss: 0.2674 - recall: 0.8943\n",
      "Epoch 91/150\n",
      "1552/1552 [==============================] - 2s 2ms/step - loss: 0.2638 - recall: 0.8943\n",
      "Epoch 92/150\n",
      "1552/1552 [==============================] - 3s 2ms/step - loss: 0.2606 - recall: 0.8943\n",
      "Epoch 93/150\n",
      "1552/1552 [==============================] - 4s 3ms/step - loss: 0.2575 - recall: 0.8943\n",
      "Epoch 94/150\n",
      "1552/1552 [==============================] - 3s 2ms/step - loss: 0.2547 - recall: 0.8943\n",
      "Epoch 95/150\n",
      "1552/1552 [==============================] - 3s 2ms/step - loss: 0.2521 - recall: 0.8943\n",
      "Epoch 96/150\n",
      "1552/1552 [==============================] - 2s 2ms/step - loss: 0.2496 - recall: 0.8943\n",
      "Epoch 97/150\n",
      "1552/1552 [==============================] - 2s 2ms/step - loss: 0.2473 - recall: 0.8943\n",
      "Epoch 98/150\n",
      "1552/1552 [==============================] - 2s 1ms/step - loss: 0.2452 - recall: 0.8943\n",
      "Epoch 99/150\n",
      "1552/1552 [==============================] - 2s 1ms/step - loss: 0.2431 - recall: 0.8973\n",
      "Epoch 100/150\n",
      "1552/1552 [==============================] - 2s 1ms/step - loss: 0.2412 - recall: 0.8973\n",
      "Epoch 101/150\n",
      "1552/1552 [==============================] - 2s 1ms/step - loss: 0.2393 - recall: 0.8973\n",
      "Epoch 102/150\n",
      "1552/1552 [==============================] - 2s 1ms/step - loss: 0.2376 - recall: 0.8973\n",
      "Epoch 103/150\n",
      "1552/1552 [==============================] - 2s 1ms/step - loss: 0.2359 - recall: 0.8973\n",
      "Epoch 104/150\n",
      "1552/1552 [==============================] - 2s 1ms/step - loss: 0.2343 - recall: 0.8973\n",
      "Epoch 105/150\n",
      "1552/1552 [==============================] - 2s 1ms/step - loss: 0.2327 - recall: 0.8973\n",
      "Epoch 106/150\n",
      "1552/1552 [==============================] - 2s 1ms/step - loss: 0.2313 - recall: 0.8973\n",
      "Epoch 107/150\n",
      "1552/1552 [==============================] - 2s 1ms/step - loss: 0.2298 - recall: 0.8973\n",
      "Epoch 108/150\n",
      "1552/1552 [==============================] - 2s 1ms/step - loss: 0.2285 - recall: 0.8973\n",
      "Epoch 109/150\n",
      "1552/1552 [==============================] - 2s 1ms/step - loss: 0.2272 - recall: 0.8973\n",
      "Epoch 110/150\n",
      "1552/1552 [==============================] - 2s 1ms/step - loss: 0.2259 - recall: 0.8973\n",
      "Epoch 111/150\n",
      "1552/1552 [==============================] - 2s 1ms/step - loss: 0.2247 - recall: 0.8973\n",
      "Epoch 112/150\n",
      "1552/1552 [==============================] - 2s 1ms/step - loss: 0.2235 - recall: 0.8973\n",
      "Epoch 113/150\n",
      "1552/1552 [==============================] - 2s 1ms/step - loss: 0.2224 - recall: 0.8973\n",
      "Epoch 114/150\n",
      "1552/1552 [==============================] - 2s 1ms/step - loss: 0.2213 - recall: 0.8973\n",
      "Epoch 115/150\n",
      "1552/1552 [==============================] - 3s 2ms/step - loss: 0.2202 - recall: 0.8973\n",
      "Epoch 116/150\n",
      "1552/1552 [==============================] - 2s 1ms/step - loss: 0.2192 - recall: 0.8973\n",
      "Epoch 117/150\n",
      "1552/1552 [==============================] - 2s 1ms/step - loss: 0.2182 - recall: 0.8973\n",
      "Epoch 118/150\n",
      "1552/1552 [==============================] - 2s 1ms/step - loss: 0.2172 - recall: 0.8973\n",
      "Epoch 119/150\n",
      "1552/1552 [==============================] - 2s 2ms/step - loss: 0.2163 - recall: 0.8973\n",
      "Epoch 120/150\n",
      "1552/1552 [==============================] - 2s 1ms/step - loss: 0.2154 - recall: 0.8973\n",
      "Epoch 121/150\n",
      "1552/1552 [==============================] - 2s 2ms/step - loss: 0.2145 - recall: 0.8973\n",
      "Epoch 122/150\n",
      "1552/1552 [==============================] - 2s 2ms/step - loss: 0.2136 - recall: 0.8973\n",
      "Epoch 123/150\n",
      "1552/1552 [==============================] - 3s 2ms/step - loss: 0.2128 - recall: 0.8973\n",
      "Epoch 124/150\n",
      "1552/1552 [==============================] - 3s 2ms/step - loss: 0.2119 - recall: 0.8973\n",
      "Epoch 125/150\n",
      "1552/1552 [==============================] - 3s 2ms/step - loss: 0.2111 - recall: 0.8973\n",
      "Epoch 126/150\n",
      "1552/1552 [==============================] - 2s 1ms/step - loss: 0.2103 - recall: 0.8973\n",
      "Epoch 127/150\n",
      "1552/1552 [==============================] - 3s 2ms/step - loss: 0.2096 - recall: 0.8973\n",
      "Epoch 128/150\n",
      "1552/1552 [==============================] - 2s 2ms/step - loss: 0.2088 - recall: 0.8973\n",
      "Epoch 129/150\n",
      "1552/1552 [==============================] - 3s 2ms/step - loss: 0.2081 - recall: 0.8973\n",
      "Epoch 130/150\n",
      "1552/1552 [==============================] - 2s 2ms/step - loss: 0.2074 - recall: 0.8973\n",
      "Epoch 131/150\n",
      "1552/1552 [==============================] - 2s 1ms/step - loss: 0.2067 - recall: 0.8973\n",
      "Epoch 132/150\n",
      "1552/1552 [==============================] - 2s 1ms/step - loss: 0.2060 - recall: 0.8973\n",
      "Epoch 133/150\n",
      "1552/1552 [==============================] - 2s 2ms/step - loss: 0.2053 - recall: 0.8973\n",
      "Epoch 134/150\n",
      "1552/1552 [==============================] - 3s 2ms/step - loss: 0.2046 - recall: 0.8973\n",
      "Epoch 135/150\n",
      "1552/1552 [==============================] - 3s 2ms/step - loss: 0.2040 - recall: 0.8973: 0s - loss: 0.2126 \n",
      "Epoch 136/150\n",
      "1552/1552 [==============================] - 3s 2ms/step - loss: 0.2034 - recall: 0.8973\n",
      "Epoch 137/150\n",
      "1552/1552 [==============================] - 2s 1ms/step - loss: 0.2027 - recall: 0.8973\n",
      "Epoch 138/150\n",
      "1552/1552 [==============================] - 2s 1ms/step - loss: 0.2021 - recall: 0.8973\n",
      "Epoch 139/150\n",
      "1552/1552 [==============================] - 2s 2ms/step - loss: 0.2015 - recall: 0.8973\n",
      "Epoch 140/150\n",
      "1552/1552 [==============================] - 2s 1ms/step - loss: 0.2009 - recall: 0.8973\n",
      "Epoch 141/150\n",
      "1552/1552 [==============================] - 3s 2ms/step - loss: 0.2003 - recall: 0.8973\n",
      "Epoch 142/150\n",
      "1552/1552 [==============================] - 2s 2ms/step - loss: 0.1998 - recall: 0.8973\n",
      "Epoch 143/150\n",
      "1552/1552 [==============================] - 2s 1ms/step - loss: 0.1992 - recall: 0.8973\n",
      "Epoch 144/150\n",
      "1552/1552 [==============================] - 2s 2ms/step - loss: 0.1987 - recall: 0.8973\n",
      "Epoch 145/150\n",
      "1552/1552 [==============================] - 3s 2ms/step - loss: 0.1981 - recall: 0.8973\n",
      "Epoch 146/150\n",
      "1552/1552 [==============================] - 3s 2ms/step - loss: 0.1976 - recall: 0.8973\n",
      "Epoch 147/150\n",
      "1552/1552 [==============================] - 3s 2ms/step - loss: 0.1971 - recall: 0.8973\n",
      "Epoch 148/150\n",
      "1552/1552 [==============================] - 2s 2ms/step - loss: 0.1966 - recall: 0.8973\n",
      "Epoch 149/150\n",
      "1552/1552 [==============================] - 2s 1ms/step - loss: 0.1961 - recall: 0.8973\n",
      "Epoch 150/150\n",
      "1552/1552 [==============================] - 3s 2ms/step - loss: 0.1956 - recall: 0.8973\n"
     ]
    }
   ],
   "source": [
    "classifier = KerasClassifier(build_fn=build_classifier, epochs=150)\n",
    "parameters = {\n",
    "    'batch_size': [128, 256],\n",
    "    'optimizer': ['Adam', 'rmsprop', \"SGD\", \"adagrad\", \"adadelta\"]\n",
    "}\n",
    "grid_model = GridSearchCV(estimator=classifier,\n",
    "                          param_grid=parameters,\n",
    "                          scoring='recall',\n",
    "                          cv=5,\n",
    "                          n_jobs=-1,\n",
    "                          verbose=0).fit(X_train,\n",
    "                                         y_train,\n",
    "                                         class_weight=class_weights)"
   ]
  },
  {
   "cell_type": "code",
   "execution_count": 149,
   "metadata": {},
   "outputs": [
    {
     "data": {
      "text/plain": [
       "0.8958438660453165"
      ]
     },
     "execution_count": 149,
     "metadata": {},
     "output_type": "execute_result"
    }
   ],
   "source": [
    "grid_model.best_score_"
   ]
  },
  {
   "cell_type": "code",
   "execution_count": 150,
   "metadata": {},
   "outputs": [
    {
     "data": {
      "text/plain": [
       "{'batch_size': 128, 'optimizer': 'adagrad'}"
      ]
     },
     "execution_count": 150,
     "metadata": {},
     "output_type": "execute_result"
    }
   ],
   "source": [
    "grid_model.best_params_"
   ]
  },
  {
   "cell_type": "code",
   "execution_count": 151,
   "metadata": {},
   "outputs": [
    {
     "name": "stdout",
     "output_type": "stream",
     "text": [
      "[[82484  2492]\n",
      " [   17   125]]\n",
      "              precision    recall  f1-score   support\n",
      "\n",
      "           0       1.00      0.97      0.99     84976\n",
      "           1       0.05      0.88      0.09       142\n",
      "\n",
      "    accuracy                           0.97     85118\n",
      "   macro avg       0.52      0.93      0.54     85118\n",
      "weighted avg       1.00      0.97      0.98     85118\n",
      "\n"
     ]
    }
   ],
   "source": [
    "y_pred = grid_model.predict(X_test)\n",
    "print(confusion_matrix(y_test, y_pred))\n",
    "print(classification_report(y_test, y_pred))"
   ]
  },
  {
   "cell_type": "code",
   "execution_count": 152,
   "metadata": {},
   "outputs": [
    {
     "data": {
      "image/png": "[encoded data removed]",
      "text/plain": [
       "<Figure size 432x288 with 1 Axes>"
      ]
     },
     "metadata": {
      "needs_background": "light"
     },
     "output_type": "display_data"
    }
   ],
   "source": [
    "y_pred_proba = grid_model.predict_proba(X_test)[:, 1]\n",
    "precisions, recalls, thresholds = precision_recall_curve(y_test, y_pred_proba)\n",
    "plt.plot(recalls, precisions, label='ANN')\n",
    "plt.xlabel('recalls')\n",
    "plt.ylabel('precisions')\n",
    "plt.title('Precision-Recall curve')\n",
    "plt.show()"
   ]
  },
  {
   "cell_type": "code",
   "execution_count": 153,
   "metadata": {},
   "outputs": [
    {
     "data": {
      "text/plain": [
       "0.6022446767357689"
      ]
     },
     "execution_count": 153,
     "metadata": {},
     "output_type": "execute_result"
    }
   ],
   "source": [
    "average_precision_score(y_test, y_pred_proba)"
   ]
  },
  {
   "cell_type": "markdown",
   "metadata": {
    "id": "LpbiGnpIxVK3"
   },
   "source": [
    "## 4. Model Deployement\n",
    "You cooked the food in the kitchen and moved on to the serving stage. The question is how do you showcase your work to others? Model Deployement helps you showcase your work to the world and make better decisions with it. But, deploying a model can get a little tricky at times. Before deploying the model, many things such as data storage, preprocessing, model building and monitoring need to be studied.\n",
    "\n",
    "Deployment of machine learning models, means making your models available to your other business systems. By deploying models, other systems can send data to them and get their predictions, which are in turn populated back into the company systems. Through machine learning model deployment, can begin to take full advantage of the model you built.\n",
    "\n",
    "Data science is concerned with how to build machine learning models, which algorithm is more predictive, how to design features, and what variables to use to make the models more accurate. However, how these models are actually used is often neglected. And yet this is the most important step in the machine learning pipline. Only when a model is fully integrated with the business systems, real values ​​can be extract from its predictions.\n",
    "\n",
    "After doing the following operations in this notebook, jump to *Pycharm* and create your web app with Flask API."
   ]
  },
  {
   "cell_type": "markdown",
   "metadata": {
    "id": "oCAYcMLEH_7P"
   },
   "source": [
    "### Save and Export the Model as .pkl\n"
   ]
  },
  {
   "cell_type": "code",
   "execution_count": null,
   "metadata": {
    "id": "MqluJ9yvIOex"
   },
   "outputs": [],
   "source": []
  },
  {
   "cell_type": "markdown",
   "metadata": {
    "id": "vaZP1N93IPQi"
   },
   "source": [
    "### Save and Export Variables as .pkl"
   ]
  },
  {
   "cell_type": "code",
   "execution_count": null,
   "metadata": {
    "id": "q_vA-dJWxfFH"
   },
   "outputs": [],
   "source": []
  },
  {
   "cell_type": "markdown",
   "metadata": {
    "id": "cm9Z__Y7MuHj"
   },
   "source": [
    "___\n",
    "\n",
    "<p style=\"text-align: center;\"><img src=\"https://docs.google.com/uc?id=1lY0Uj5R04yMY3-ZppPWxqCr5pvBLYPnV\" class=\"img-fluid\" alt=\"CLRSWY\"></p>\n",
    "\n",
    "___"
   ]
  }
 ],
 "metadata": {
  "colab": {
   "collapsed_sections": [
    "OV28RJBeMuHb",
    "hlm6gCsKMuHb",
    "zKZcwgucJQ0I",
    "4f8q5y12MuHe",
    "9wvBCEvpJQ0U",
    "_3zm70O7JQ0Z"
   ],
   "name": "Fraud Detection_Student_V2.ipynb",
   "provenance": [],
   "toc_visible": true
  },
  "kernelspec": {
   "display_name": "Python 3 (ipykernel)",
   "language": "python",
   "name": "python3"
  },
  "language_info": {
   "codemirror_mode": {
    "name": "ipython",
    "version": 3
   },
   "file_extension": ".py",
   "mimetype": "text/x-python",
   "name": "python",
   "nbconvert_exporter": "python",
   "pygments_lexer": "ipython3",
   "version": "3.8.8"
  }
 },
 "nbformat": 4,
 "nbformat_minor": 1
}
